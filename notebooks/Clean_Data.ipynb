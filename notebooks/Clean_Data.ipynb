{
 "cells": [
  {
   "cell_type": "code",
   "execution_count": 146,
   "metadata": {
    "ExecuteTime": {
     "end_time": "2019-10-07T03:09:17.177524Z",
     "start_time": "2019-10-07T03:09:17.174524Z"
    }
   },
   "outputs": [],
   "source": [
    "import pandas as pd\n",
    "import re\n",
    "from datetime import datetime, date"
   ]
  },
  {
   "cell_type": "code",
   "execution_count": 107,
   "metadata": {
    "ExecuteTime": {
     "end_time": "2019-10-07T02:32:56.452630Z",
     "start_time": "2019-10-07T02:32:56.444893Z"
    }
   },
   "outputs": [],
   "source": [
    "def parse_num_strings(series):\n",
    "    \"\"\"Converts a series of strings representing how many guests, bedrooms or\n",
    "    beds can be or are at an Airbnb property to a single floatvalue.\n",
    "    \n",
    "    Input: pandas series\n",
    "    output: pandas series\n",
    "    \n",
    "    Example:\n",
    "    Input:\n",
    "    0    3 guests\n",
    "    1    4 guests\n",
    "    2    6 guests\n",
    "    3    5 guests\n",
    "    4    8 guests\n",
    "    Name: guests, dtype: object\n",
    "    \n",
    "    Output:\n",
    "    0    3.0\n",
    "    1    4.0\n",
    "    2    6.0\n",
    "    3    5.0\n",
    "    4    8.0\n",
    "    Name: guests, dtype: int\n",
    "    \n",
    "    \"\"\"\n",
    "    guests_numeric = pd.Series(index=series.index, dtype=float)\n",
    "    try:\n",
    "        assert type(series[0]) in [str, int, float]\n",
    "        if type(series[0]) == str:\n",
    "            studio = re.compile(r'studio')\n",
    "            for idx, val in series.iteritems():\n",
    "                if studio.search(val):\n",
    "                    guests_numeric[idx] = 1\n",
    "                else:\n",
    "                    num, rest = val.split(' ')\n",
    "                    guests_numeric[idx] = float(num)\n",
    "            return guests_numeric\n",
    "        elif type(series[0]) == int:\n",
    "            for idx, val in series.iteritems():\n",
    "                guests_numeric[idx] = float(num)\n",
    "            return guests_numeric\n",
    "        else:\n",
    "            return series\n",
    "    except TypeError:\n",
    "        print('series must be of type str, int, or float.')\n",
    "        "
   ]
  },
  {
   "cell_type": "code",
   "execution_count": 133,
   "metadata": {
    "ExecuteTime": {
     "end_time": "2019-10-07T02:57:28.528092Z",
     "start_time": "2019-10-07T02:57:28.523084Z"
    }
   },
   "outputs": [],
   "source": [
    "def word_counts(series):\n",
    "    \"\"\"Returns a series of the word counts of each element of a series.\"\"\"\n",
    "    try:\n",
    "        assert type(series[0]) == str\n",
    "        words = pd.Series(index=series.index)\n",
    "        for idx, item in series.iteritems():\n",
    "            words[idx] = len(item.split(' '))\n",
    "        return words\n",
    "    except AssertionError:\n",
    "        print('series must be of type str.')\n",
    "    "
   ]
  },
  {
   "cell_type": "code",
   "execution_count": 134,
   "metadata": {
    "ExecuteTime": {
     "end_time": "2019-10-07T02:57:30.454229Z",
     "start_time": "2019-10-07T02:57:30.449447Z"
    }
   },
   "outputs": [],
   "source": [
    "def find_prob_indices(series):\n",
    "    problems = pd.Series(index=series.index)\n",
    "    br = re.compile(r'bedroom')\n",
    "    for idx, item in series.iteritems():\n",
    "        if br.search(item):\n",
    "            problems[idx] = False\n",
    "        else:\n",
    "            problems[idx] = True\n",
    "    return problems"
   ]
  },
  {
   "cell_type": "code",
   "execution_count": 144,
   "metadata": {
    "ExecuteTime": {
     "end_time": "2019-10-07T03:07:19.901966Z",
     "start_time": "2019-10-07T03:07:19.871044Z"
    }
   },
   "outputs": [
    {
     "data": {
      "text/html": [
       "<div>\n",
       "<style scoped>\n",
       "    .dataframe tbody tr th:only-of-type {\n",
       "        vertical-align: middle;\n",
       "    }\n",
       "\n",
       "    .dataframe tbody tr th {\n",
       "        vertical-align: top;\n",
       "    }\n",
       "\n",
       "    .dataframe thead th {\n",
       "        text-align: right;\n",
       "    }\n",
       "</style>\n",
       "<table border=\"1\" class=\"dataframe\">\n",
       "  <thead>\n",
       "    <tr style=\"text-align: right;\">\n",
       "      <th></th>\n",
       "      <th>id</th>\n",
       "      <th>guests</th>\n",
       "      <th>bedrooms</th>\n",
       "      <th>beds</th>\n",
       "      <th>baths</th>\n",
       "      <th>cleaning_fee</th>\n",
       "      <th>service_fee</th>\n",
       "      <th>amenities</th>\n",
       "      <th>superhost</th>\n",
       "      <th>narrative</th>\n",
       "      <th>rules</th>\n",
       "      <th>price</th>\n",
       "    </tr>\n",
       "  </thead>\n",
       "  <tbody>\n",
       "    <tr>\n",
       "      <td>0</td>\n",
       "      <td>38238821</td>\n",
       "      <td>3 guests</td>\n",
       "      <td>1 bedroom</td>\n",
       "      <td>1 bed</td>\n",
       "      <td>2 baths</td>\n",
       "      <td>0</td>\n",
       "      <td>$212</td>\n",
       "      <td>Show all 18 amenities</td>\n",
       "      <td>True</td>\n",
       "      <td>Translate this description to English\\nEs un a...</td>\n",
       "      <td>House rules\\nCheck-in time is 3PM - 12AM (midn...</td>\n",
       "      <td>$274</td>\n",
       "    </tr>\n",
       "    <tr>\n",
       "      <td>1</td>\n",
       "      <td>31941600</td>\n",
       "      <td>4 guests</td>\n",
       "      <td>1 bedroom</td>\n",
       "      <td>1 bed</td>\n",
       "      <td>1 bath</td>\n",
       "      <td>$5</td>\n",
       "      <td>$10</td>\n",
       "      <td>Show all 29 amenities</td>\n",
       "      <td>False</td>\n",
       "      <td>Lindo apartamento/estudio para 4 personas en u...</td>\n",
       "      <td>House rules\\nNo smoking, parties, or events\\nC...</td>\n",
       "      <td>$12</td>\n",
       "    </tr>\n",
       "    <tr>\n",
       "      <td>2</td>\n",
       "      <td>32079582</td>\n",
       "      <td>6 guests</td>\n",
       "      <td>1 bedroom</td>\n",
       "      <td>2 beds</td>\n",
       "      <td>1 bath</td>\n",
       "      <td>$8</td>\n",
       "      <td>$10</td>\n",
       "      <td>Show all 32 amenities</td>\n",
       "      <td>False</td>\n",
       "      <td>Lindo apartamento/estudio para 6 personas en u...</td>\n",
       "      <td>House rules\\nNo smoking, parties, or events\\nC...</td>\n",
       "      <td>$12</td>\n",
       "    </tr>\n",
       "  </tbody>\n",
       "</table>\n",
       "</div>"
      ],
      "text/plain": [
       "         id    guests   bedrooms    beds    baths cleaning_fee service_fee  \\\n",
       "0  38238821  3 guests  1 bedroom   1 bed  2 baths            0        $212   \n",
       "1  31941600  4 guests  1 bedroom   1 bed   1 bath           $5         $10   \n",
       "2  32079582  6 guests  1 bedroom  2 beds   1 bath           $8         $10   \n",
       "\n",
       "               amenities  superhost  \\\n",
       "0  Show all 18 amenities       True   \n",
       "1  Show all 29 amenities      False   \n",
       "2  Show all 32 amenities      False   \n",
       "\n",
       "                                           narrative  \\\n",
       "0  Translate this description to English\\nEs un a...   \n",
       "1  Lindo apartamento/estudio para 4 personas en u...   \n",
       "2  Lindo apartamento/estudio para 6 personas en u...   \n",
       "\n",
       "                                               rules price  \n",
       "0  House rules\\nCheck-in time is 3PM - 12AM (midn...  $274  \n",
       "1  House rules\\nNo smoking, parties, or events\\nC...   $12  \n",
       "2  House rules\\nNo smoking, parties, or events\\nC...   $12  "
      ]
     },
     "execution_count": 144,
     "metadata": {},
     "output_type": "execute_result"
    }
   ],
   "source": [
    "rm = pd.read_csv('../data/initial_bogota_data_scrape-10-04-19--17-11-25.csv', index_col=0)\n",
    "rm.drop('lat_lon', axis=1, inplace=True)\n",
    "rm.head(3)"
   ]
  },
  {
   "cell_type": "code",
   "execution_count": 145,
   "metadata": {
    "ExecuteTime": {
     "end_time": "2019-10-07T03:07:25.343124Z",
     "start_time": "2019-10-07T03:07:25.265680Z"
    }
   },
   "outputs": [
    {
     "data": {
      "text/html": [
       "<div>\n",
       "<style scoped>\n",
       "    .dataframe tbody tr th:only-of-type {\n",
       "        vertical-align: middle;\n",
       "    }\n",
       "\n",
       "    .dataframe tbody tr th {\n",
       "        vertical-align: top;\n",
       "    }\n",
       "\n",
       "    .dataframe thead th {\n",
       "        text-align: right;\n",
       "    }\n",
       "</style>\n",
       "<table border=\"1\" class=\"dataframe\">\n",
       "  <thead>\n",
       "    <tr style=\"text-align: right;\">\n",
       "      <th></th>\n",
       "      <th>id</th>\n",
       "      <th>guests</th>\n",
       "      <th>bedrooms</th>\n",
       "      <th>beds</th>\n",
       "      <th>baths</th>\n",
       "      <th>cleaning_fee</th>\n",
       "      <th>service_fee</th>\n",
       "      <th>amenities</th>\n",
       "      <th>superhost</th>\n",
       "      <th>narrative</th>\n",
       "      <th>rules</th>\n",
       "      <th>price</th>\n",
       "    </tr>\n",
       "  </thead>\n",
       "  <tbody>\n",
       "    <tr>\n",
       "      <td>0</td>\n",
       "      <td>38238821</td>\n",
       "      <td>3.0</td>\n",
       "      <td>1.0</td>\n",
       "      <td>1.0</td>\n",
       "      <td>2.0</td>\n",
       "      <td>0.0</td>\n",
       "      <td>212.0</td>\n",
       "      <td>18.0</td>\n",
       "      <td>1</td>\n",
       "      <td>95.0</td>\n",
       "      <td>8.0</td>\n",
       "      <td>274.0</td>\n",
       "    </tr>\n",
       "    <tr>\n",
       "      <td>1</td>\n",
       "      <td>31941600</td>\n",
       "      <td>4.0</td>\n",
       "      <td>1.0</td>\n",
       "      <td>1.0</td>\n",
       "      <td>1.0</td>\n",
       "      <td>5.0</td>\n",
       "      <td>10.0</td>\n",
       "      <td>29.0</td>\n",
       "      <td>0</td>\n",
       "      <td>76.0</td>\n",
       "      <td>17.0</td>\n",
       "      <td>12.0</td>\n",
       "    </tr>\n",
       "    <tr>\n",
       "      <td>2</td>\n",
       "      <td>32079582</td>\n",
       "      <td>6.0</td>\n",
       "      <td>1.0</td>\n",
       "      <td>2.0</td>\n",
       "      <td>1.0</td>\n",
       "      <td>8.0</td>\n",
       "      <td>10.0</td>\n",
       "      <td>32.0</td>\n",
       "      <td>0</td>\n",
       "      <td>76.0</td>\n",
       "      <td>17.0</td>\n",
       "      <td>12.0</td>\n",
       "    </tr>\n",
       "  </tbody>\n",
       "</table>\n",
       "</div>"
      ],
      "text/plain": [
       "         id  guests  bedrooms  beds  baths  cleaning_fee  service_fee  \\\n",
       "0  38238821     3.0       1.0   1.0    2.0           0.0        212.0   \n",
       "1  31941600     4.0       1.0   1.0    1.0           5.0         10.0   \n",
       "2  32079582     6.0       1.0   2.0    1.0           8.0         10.0   \n",
       "\n",
       "   amenities  superhost  narrative  rules  price  \n",
       "0       18.0          1       95.0    8.0  274.0  \n",
       "1       29.0          0       76.0   17.0   12.0  \n",
       "2       32.0          0       76.0   17.0   12.0  "
      ]
     },
     "execution_count": 145,
     "metadata": {},
     "output_type": "execute_result"
    }
   ],
   "source": [
    "rm['guests'] = parse_num_strings(rm['guests'])\n",
    "rm['bedrooms'] = parse_num_strings(rm['bedrooms'])\n",
    "rm['beds'] = parse_num_strings(rm['beds'])\n",
    "rm['baths'] = parse_num_strings(rm['baths'])\n",
    "rm['cleaning_fee'] = rm['cleaning_fee'].str.extract(r'(\\d+)').astype(float)\n",
    "rm['service_fee'] = rm['service_fee'].str.extract(r'(\\d+)').astype(float)\n",
    "rm['price'] = rm['price'].str.extract(r'(\\d+)').astype(float)\n",
    "rm['amenities'] = rm['amenities'].str.extract(r'(\\d+)').astype(float)\n",
    "rm['superhost'] = rm['superhost'].astype(int)\n",
    "rm['narrative'] = word_counts(rm['narrative'])\n",
    "rm['rules'] = word_counts(rm['rules'])\n",
    "rm.head(3)"
   ]
  },
  {
   "cell_type": "code",
   "execution_count": 149,
   "metadata": {
    "ExecuteTime": {
     "end_time": "2019-10-07T03:16:39.622507Z",
     "start_time": "2019-10-07T03:16:39.607888Z"
    }
   },
   "outputs": [],
   "source": [
    "CITY = 'bogota'\n",
    "rm.to_csv('../data/{}-clean-{}.csv'.format(CITY, datetime.now().strftime('%m-%d-%Y--%H-%M-%S')), index=False)"
   ]
  },
  {
   "cell_type": "code",
   "execution_count": null,
   "metadata": {},
   "outputs": [],
   "source": []
  }
 ],
 "metadata": {
  "kernelspec": {
   "display_name": "Python [conda env:metis] *",
   "language": "python",
   "name": "conda-env-metis-py"
  },
  "language_info": {
   "codemirror_mode": {
    "name": "ipython",
    "version": 3
   },
   "file_extension": ".py",
   "mimetype": "text/x-python",
   "name": "python",
   "nbconvert_exporter": "python",
   "pygments_lexer": "ipython3",
   "version": "3.7.3"
  },
  "toc": {
   "base_numbering": 1,
   "nav_menu": {},
   "number_sections": true,
   "sideBar": true,
   "skip_h1_title": false,
   "title_cell": "Table of Contents",
   "title_sidebar": "Contents",
   "toc_cell": false,
   "toc_position": {},
   "toc_section_display": true,
   "toc_window_display": false
  }
 },
 "nbformat": 4,
 "nbformat_minor": 2
}
