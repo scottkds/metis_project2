{
 "cells": [
  {
   "cell_type": "code",
   "execution_count": 1,
   "metadata": {
    "ExecuteTime": {
     "end_time": "2019-10-04T19:36:26.175636Z",
     "start_time": "2019-10-04T19:36:25.074802Z"
    }
   },
   "outputs": [],
   "source": [
    "# Imports\n",
    "from selenium import webdriver\n",
    "from selenium.webdriver.common.keys import Keys\n",
    "from bs4 import BeautifulSoup\n",
    "import requests\n",
    "import time\n",
    "import sys\n",
    "import chromedriver_binary\n",
    "import re\n",
    "from collections import defaultdict\n",
    "from glob import glob\n",
    "import pickle\n",
    "import pandas as pd"
   ]
  },
  {
   "cell_type": "code",
   "execution_count": 2,
   "metadata": {
    "ExecuteTime": {
     "end_time": "2019-10-04T19:36:26.180233Z",
     "start_time": "2019-10-04T19:36:26.177208Z"
    }
   },
   "outputs": [],
   "source": [
    "def fmt_url(url_string, items_per_page, page_nbr):\n",
    "    \"\"\"Formats a URL by inserting page offset numbers into it. Inserting the page\n",
    "    offset allows for iteration through Airbnb listings.\"\"\"\n",
    "    offset = (items_per_page * (page_nbr - 1))\n",
    "    return url_string.format(offset)"
   ]
  },
  {
   "cell_type": "code",
   "execution_count": 3,
   "metadata": {
    "ExecuteTime": {
     "end_time": "2019-10-04T19:36:26.185592Z",
     "start_time": "2019-10-04T19:36:26.182130Z"
    }
   },
   "outputs": [],
   "source": [
    "def get_property_info(driver, link):\n",
    "    \"\"\"Loads a web page with a selenium driver, and returns a Beautifulsoup object\n",
    "    of the page source.\"\"\"\n",
    "    driver.switch_to.window(driver.window_handles[0])\n",
    "    driver.get(link)\n",
    "    time.sleep(10)\n",
    "    soup = BeautifulSoup(driver.page_source, \"lxml\")\n",
    "    return soup\n",
    "\n",
    "# Example\n",
    "# soup = get_property_info(driver, 'https://www.airbnb.com/')"
   ]
  },
  {
   "cell_type": "code",
   "execution_count": 10,
   "metadata": {
    "ExecuteTime": {
     "end_time": "2019-10-04T19:36:37.725911Z",
     "start_time": "2019-10-04T19:36:37.719544Z"
    }
   },
   "outputs": [],
   "source": [
    "def get_links(driver, input_url):\n",
    "    \"\"\"Interates through the 18 pages of listings by updating the url and loading pages.\n",
    "    Gathers links to airbnb listings on each page and returns them.\"\"\"\n",
    "    links = []\n",
    "    prop = re.compile(r'^https://www\\.airbnb\\.com/rooms/\\d+\\?')\n",
    "    for i in range(1, 18):\n",
    "        url = fmt_url(input_url, 18, i)\n",
    "        driver.switch_to.window(window)\n",
    "        driver.get(url)\n",
    "        time.sleep(10)\n",
    "        dict_of_urls = defaultdict(int)\n",
    "        a = driver.find_elements_by_tag_name('a')\n",
    "        for element in a:\n",
    "            link = element.get_attribute('href')\n",
    "            if link and prop.match(link):\n",
    "                dict_of_urls[link] += 1\n",
    "        links += list(dict_of_urls.keys())\n",
    "    return links\n",
    "\n",
    "# Example\n",
    "# get_links(driver, URL, 1)"
   ]
  },
  {
   "cell_type": "code",
   "execution_count": 13,
   "metadata": {
    "ExecuteTime": {
     "end_time": "2019-10-04T19:36:52.771988Z",
     "start_time": "2019-10-04T19:36:52.768324Z"
    },
    "scrolled": true
   },
   "outputs": [],
   "source": [
    "# URLS we will pass in to get links to individual properties\n",
    "URL_0_BR = 'https://www.airbnb.com/s/Bogot%C3%A1-~-Bogota--Colombia/homes?refinement_paths%5B%5D=%2Fhomes&current_tab_id=home_tab&selected_tab_id=home_tab&place_id=ChIJKcumLf2bP44RFDmjIFVjnSM&source=mc_search_bar&search_type=pagination&screen_size=large&hide_dates_and_guests_filters=false&checkin=2019-12-22&checkout=2019-12-28&room_types%5B%5D=Entire%20home%2Fapt&min_bedrooms=0&s_tag=ugSl5Kgp&section_offset=4&items_offset={}&last_search_session_id=eadc2168-062d-44fe-a0fe-c6c5ece684f1'\n",
    "URL_1_BR = 'https://www.airbnb.com/s/Bogot%C3%A1-~-Bogota--Colombia/homes?refinement_paths%5B%5D=%2Fhomes&current_tab_id=home_tab&selected_tab_id=home_tab&place_id=ChIJKcumLf2bP44RFDmjIFVjnSM&source=mc_search_bar&search_type=pagination&screen_size=large&hide_dates_and_guests_filters=false&checkin=2019-12-22&checkout=2019-12-28&room_types%5B%5D=Entire%20home%2Fapt&min_bedrooms=1&s_tag=ugSl5Kgp&section_offset=4&items_offset={}&last_search_session_id=eadc2168-062d-44fe-a0fe-c6c5ece684f1'\n",
    "URL_2_BR = 'https://www.airbnb.com/s/Bogot%C3%A1-~-Bogota--Colombia/homes?refinement_paths%5B%5D=%2Fhomes&current_tab_id=home_tab&selected_tab_id=home_tab&place_id=ChIJKcumLf2bP44RFDmjIFVjnSM&source=mc_search_bar&search_type=pagination&screen_size=large&hide_dates_and_guests_filters=false&checkin=2019-12-22&checkout=2019-12-28&room_types%5B%5D=Entire%20home%2Fapt&min_bedrooms=2&s_tag=ugSl5Kgp&section_offset=4&items_offset={}&last_search_session_id=eadc2168-062d-44fe-a0fe-c6c5ece684f1'\n",
    "URL_3_BR = 'https://www.airbnb.com/s/Bogot%C3%A1-~-Bogota--Colombia/homes?refinement_paths%5B%5D=%2Fhomes&current_tab_id=home_tab&selected_tab_id=home_tab&place_id=ChIJKcumLf2bP44RFDmjIFVjnSM&source=mc_search_bar&search_type=pagination&screen_size=large&hide_dates_and_guests_filters=false&checkin=2019-12-22&checkout=2019-12-28&room_types%5B%5D=Entire%20home%2Fapt&min_bedrooms=3&s_tag=ugSl5Kgp&section_offset=4&items_offset={}&last_search_session_id=eadc2168-062d-44fe-a0fe-c6c5ece684f1'\n",
    "URL_4_BR = 'https://www.airbnb.com/s/Bogot%C3%A1-~-Bogota--Colombia/homes?refinement_paths%5B%5D=%2Fhomes&current_tab_id=home_tab&selected_tab_id=home_tab&place_id=ChIJKcumLf2bP44RFDmjIFVjnSM&source=mc_search_bar&search_type=pagination&screen_size=large&hide_dates_and_guests_filters=false&checkin=2019-12-22&checkout=2019-12-28&room_types%5B%5D=Entire%20home%2Fapt&min_bedrooms=4&s_tag=ugSl5Kgp&section_offset=4&items_offset={}&last_search_session_id=eadc2168-062d-44fe-a0fe-c6c5ece684f1'\n",
    "url_list = [URL_0_BR, URL_1_BR, URL_2_BR, URL_3_BR, URL_4_BR]"
   ]
  },
  {
   "cell_type": "code",
   "execution_count": 14,
   "metadata": {
    "ExecuteTime": {
     "end_time": "2019-10-04T19:37:45.487239Z",
     "start_time": "2019-10-04T19:37:35.339129Z"
    }
   },
   "outputs": [],
   "source": [
    "# Create Selenium chrome browser driver instance, and an empty list to hold links\n",
    "driver = webdriver.Chrome()\n",
    "time.sleep(5)\n",
    "window = driver.window_handles[0]"
   ]
  },
  {
   "cell_type": "code",
   "execution_count": 15,
   "metadata": {
    "ExecuteTime": {
     "end_time": "2019-10-04T19:55:25.156972Z",
     "start_time": "2019-10-04T19:38:08.301263Z"
    }
   },
   "outputs": [
    {
     "name": "stdout",
     "output_type": "stream",
     "text": [
      "Number of links so far: 304\n",
      "Number of links so far: 608\n",
      "Number of links so far: 912\n",
      "Number of links so far: 1218\n",
      "Number of links so far: 1470\n"
     ]
    }
   ],
   "source": [
    "# Iterate through the above list of links to gather links to rentals\n",
    "list_of_links = []\n",
    "for url in url_list[:]:\n",
    "    list_of_links += get_links(driver, url)\n",
    "    print('Number of links so far:', len(list_of_links))"
   ]
  },
  {
   "cell_type": "code",
   "execution_count": 16,
   "metadata": {
    "ExecuteTime": {
     "end_time": "2019-10-04T19:55:58.432926Z",
     "start_time": "2019-10-04T19:55:58.423123Z"
    }
   },
   "outputs": [
    {
     "data": {
      "text/plain": [
       "1470"
      ]
     },
     "execution_count": 16,
     "metadata": {},
     "output_type": "execute_result"
    }
   ],
   "source": [
    "# See ow many results were captured\n",
    "len(list_of_links)"
   ]
  },
  {
   "cell_type": "code",
   "execution_count": 17,
   "metadata": {
    "ExecuteTime": {
     "end_time": "2019-10-04T19:56:32.585714Z",
     "start_time": "2019-10-04T19:56:32.581108Z"
    }
   },
   "outputs": [],
   "source": [
    "# Pickle the data\n",
    "with open('../data/bogota_links.pkl', 'wb' ) as f:\n",
    "    pickle.dump(list_of_links, f)"
   ]
  },
  {
   "cell_type": "code",
   "execution_count": 18,
   "metadata": {
    "ExecuteTime": {
     "end_time": "2019-10-04T19:56:48.134951Z",
     "start_time": "2019-10-04T19:56:48.128089Z"
    }
   },
   "outputs": [],
   "source": [
    "# Create a dataframe of the links\n",
    "lnk_df = pd.DataFrame(list_of_links, columns=['link'])"
   ]
  },
  {
   "cell_type": "code",
   "execution_count": 19,
   "metadata": {
    "ExecuteTime": {
     "end_time": "2019-10-04T19:56:49.482228Z",
     "start_time": "2019-10-04T19:56:49.463793Z"
    }
   },
   "outputs": [
    {
     "data": {
      "text/html": [
       "<div>\n",
       "<style scoped>\n",
       "    .dataframe tbody tr th:only-of-type {\n",
       "        vertical-align: middle;\n",
       "    }\n",
       "\n",
       "    .dataframe tbody tr th {\n",
       "        vertical-align: top;\n",
       "    }\n",
       "\n",
       "    .dataframe thead th {\n",
       "        text-align: right;\n",
       "    }\n",
       "</style>\n",
       "<table border=\"1\" class=\"dataframe\">\n",
       "  <thead>\n",
       "    <tr style=\"text-align: right;\">\n",
       "      <th></th>\n",
       "      <th>link</th>\n",
       "    </tr>\n",
       "  </thead>\n",
       "  <tbody>\n",
       "    <tr>\n",
       "      <td>0</td>\n",
       "      <td>https://www.airbnb.com/rooms/38238821?check_in...</td>\n",
       "    </tr>\n",
       "    <tr>\n",
       "      <td>1</td>\n",
       "      <td>https://www.airbnb.com/rooms/31941600?check_in...</td>\n",
       "    </tr>\n",
       "    <tr>\n",
       "      <td>2</td>\n",
       "      <td>https://www.airbnb.com/rooms/32079582?check_in...</td>\n",
       "    </tr>\n",
       "    <tr>\n",
       "      <td>3</td>\n",
       "      <td>https://www.airbnb.com/rooms/34259803?check_in...</td>\n",
       "    </tr>\n",
       "    <tr>\n",
       "      <td>4</td>\n",
       "      <td>https://www.airbnb.com/rooms/10823924?check_in...</td>\n",
       "    </tr>\n",
       "  </tbody>\n",
       "</table>\n",
       "</div>"
      ],
      "text/plain": [
       "                                                link\n",
       "0  https://www.airbnb.com/rooms/38238821?check_in...\n",
       "1  https://www.airbnb.com/rooms/31941600?check_in...\n",
       "2  https://www.airbnb.com/rooms/32079582?check_in...\n",
       "3  https://www.airbnb.com/rooms/34259803?check_in...\n",
       "4  https://www.airbnb.com/rooms/10823924?check_in..."
      ]
     },
     "execution_count": 19,
     "metadata": {},
     "output_type": "execute_result"
    }
   ],
   "source": [
    "lnk_df.head()"
   ]
  },
  {
   "cell_type": "code",
   "execution_count": 20,
   "metadata": {
    "ExecuteTime": {
     "end_time": "2019-10-04T19:56:55.494227Z",
     "start_time": "2019-10-04T19:56:55.485886Z"
    }
   },
   "outputs": [
    {
     "name": "stdout",
     "output_type": "stream",
     "text": [
      "<class 'pandas.core.frame.DataFrame'>\n",
      "RangeIndex: 1470 entries, 0 to 1469\n",
      "Data columns (total 1 columns):\n",
      "link    1470 non-null object\n",
      "dtypes: object(1)\n",
      "memory usage: 11.6+ KB\n"
     ]
    }
   ],
   "source": [
    "lnk_df.info()"
   ]
  },
  {
   "cell_type": "code",
   "execution_count": 21,
   "metadata": {
    "ExecuteTime": {
     "end_time": "2019-10-04T19:57:07.129512Z",
     "start_time": "2019-10-04T19:57:07.117424Z"
    }
   },
   "outputs": [],
   "source": [
    "# Add a new column for the property id.\n",
    "lnk_df['id'] = lnk_df['link'].str.extract(r\"^https://www\\.airbnb\\.com/rooms/(\\d+)\")"
   ]
  },
  {
   "cell_type": "code",
   "execution_count": 22,
   "metadata": {
    "ExecuteTime": {
     "end_time": "2019-10-04T19:57:09.205167Z",
     "start_time": "2019-10-04T19:57:09.197866Z"
    }
   },
   "outputs": [],
   "source": [
    "# Drop and duplicates\n",
    "lnk_df = lnk_df.drop_duplicates(subset=['id'])"
   ]
  },
  {
   "cell_type": "code",
   "execution_count": 23,
   "metadata": {
    "ExecuteTime": {
     "end_time": "2019-10-04T19:57:09.991842Z",
     "start_time": "2019-10-04T19:57:09.987846Z"
    }
   },
   "outputs": [
    {
     "data": {
      "text/plain": [
       "(927, 2)"
      ]
     },
     "execution_count": 23,
     "metadata": {},
     "output_type": "execute_result"
    }
   ],
   "source": [
    "lnk_df.shape"
   ]
  },
  {
   "cell_type": "code",
   "execution_count": 25,
   "metadata": {
    "ExecuteTime": {
     "end_time": "2019-10-04T19:57:27.980265Z",
     "start_time": "2019-10-04T19:57:27.784345Z"
    }
   },
   "outputs": [],
   "source": [
    "# Write results to a csv file.\n",
    "lnk_df.to_csv('../data/links_bogota_1004.csv', index=False)"
   ]
  },
  {
   "cell_type": "code",
   "execution_count": null,
   "metadata": {},
   "outputs": [],
   "source": []
  }
 ],
 "metadata": {
  "kernelspec": {
   "display_name": "Python [conda env:metis] *",
   "language": "python",
   "name": "conda-env-metis-py"
  },
  "language_info": {
   "codemirror_mode": {
    "name": "ipython",
    "version": 3
   },
   "file_extension": ".py",
   "mimetype": "text/x-python",
   "name": "python",
   "nbconvert_exporter": "python",
   "pygments_lexer": "ipython3",
   "version": "3.7.3"
  },
  "toc": {
   "base_numbering": 1,
   "nav_menu": {},
   "number_sections": true,
   "sideBar": true,
   "skip_h1_title": false,
   "title_cell": "Table of Contents",
   "title_sidebar": "Contents",
   "toc_cell": false,
   "toc_position": {},
   "toc_section_display": true,
   "toc_window_display": false
  }
 },
 "nbformat": 4,
 "nbformat_minor": 2
}
