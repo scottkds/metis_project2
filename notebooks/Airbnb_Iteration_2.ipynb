{
 "cells": [
  {
   "cell_type": "code",
   "execution_count": 1,
   "metadata": {
    "ExecuteTime": {
     "end_time": "2019-10-04T04:16:02.224218Z",
     "start_time": "2019-10-04T04:16:01.784596Z"
    }
   },
   "outputs": [],
   "source": [
    "# Imports\n",
    "from selenium import webdriver\n",
    "from selenium.webdriver.common.keys import Keys\n",
    "from bs4 import BeautifulSoup\n",
    "import requests\n",
    "import time\n",
    "import sys\n",
    "import chromedriver_binary\n",
    "import re\n",
    "from collections import defaultdict\n",
    "from glob import glob\n",
    "import pickle"
   ]
  },
  {
   "cell_type": "code",
   "execution_count": 2,
   "metadata": {
    "ExecuteTime": {
     "end_time": "2019-10-04T04:16:03.661590Z",
     "start_time": "2019-10-04T04:16:03.658305Z"
    }
   },
   "outputs": [],
   "source": [
    "def fmt_url(url_string, items_per_page, page_nbr):\n",
    "    page = (items_per_page * (page_nbr - 1))\n",
    "    print('Getting page:', page)\n",
    "    return url_string.format(page)"
   ]
  },
  {
   "cell_type": "code",
   "execution_count": 3,
   "metadata": {
    "ExecuteTime": {
     "end_time": "2019-10-04T04:16:05.017899Z",
     "start_time": "2019-10-04T04:16:05.014018Z"
    }
   },
   "outputs": [],
   "source": [
    "def get_property_info(driver, link):\n",
    "    driver.switch_to.window(driver.window_handles[0])\n",
    "    driver.get(link)\n",
    "    time.sleep(10)\n",
    "    soup = BeautifulSoup(driver.page_source, \"lxml\")\n",
    "    return soup\n",
    "\n",
    "# Example\n",
    "# soup = get_property_info(driver, 'https://www.airbnb.com/')"
   ]
  },
  {
   "cell_type": "code",
   "execution_count": 4,
   "metadata": {
    "ExecuteTime": {
     "end_time": "2019-10-04T04:16:06.072465Z",
     "start_time": "2019-10-04T04:16:06.067049Z"
    }
   },
   "outputs": [],
   "source": [
    "def get_attrs_1_4(div_list):\n",
    "    attrs_dict = {}\n",
    "    res_dict = {'guests' : re.compile(r'^\\d+ guests'),\n",
    "                'br' : re.compile(r'^\\d+ bedrooms?'),\n",
    "                'beds' : re.compile(r'^\\d+ beds?'),\n",
    "                'baths' : re.compile(r'^\\d+ baths?')}\n",
    "    for div in div_list:\n",
    "        for key, val in res_dict.items():\n",
    "            if val.match(div.text):\n",
    "                attrs_dict[key] = div.text\n",
    "    return attrs_dict\n",
    "\n",
    "# Example\n",
    "# get_attrs_1_4(soup.find_all('div', {'class' : '_czm8crp'}))"
   ]
  },
  {
   "cell_type": "code",
   "execution_count": 5,
   "metadata": {
    "ExecuteTime": {
     "end_time": "2019-10-04T04:16:07.083340Z",
     "start_time": "2019-10-04T04:16:07.080531Z"
    }
   },
   "outputs": [],
   "source": [
    "def get_price(span):\n",
    "    print(span)\n",
    "    return span.text\n",
    "\n",
    "# Example\n",
    "# get_price(soup.find('span', {'class' : '_doc79r'}))"
   ]
  },
  {
   "cell_type": "code",
   "execution_count": 6,
   "metadata": {
    "ExecuteTime": {
     "end_time": "2019-10-04T04:16:08.007327Z",
     "start_time": "2019-10-04T04:16:08.002277Z"
    }
   },
   "outputs": [],
   "source": [
    "def get_attrs_5_6(spans):\n",
    "    attrs_dict = {}\n",
    "    spans_len = len(spans)\n",
    "    for idx, span in enumerate(spans):\n",
    "        if span.text == 'Cleaning fee' and idx + 1 <= spans_len:\n",
    "            attrs_dict['clean_fee'] = spans[idx + 1].text\n",
    "        elif span.text == 'Service fee' and idx + 1 <= spans_len:\n",
    "            attrs_dict['serv_fee'] = spans[idx + 1].text\n",
    "        else:\n",
    "            pass\n",
    "    return attrs_dict\n",
    "\n",
    "# Eample\n",
    "# get_attrs_5_6(soup.find_all('span', {'class' : '_1jlnvra2'}))"
   ]
  },
  {
   "cell_type": "code",
   "execution_count": 7,
   "metadata": {
    "ExecuteTime": {
     "end_time": "2019-10-04T04:16:09.066290Z",
     "start_time": "2019-10-04T04:16:09.062233Z"
    }
   },
   "outputs": [],
   "source": [
    "def get_amenities(buttons):\n",
    "    amentities = ''\n",
    "    ams = re.compile(r'^Show all \\d+ amenities')\n",
    "    for button in buttons:\n",
    "        if ams.match(button.text):\n",
    "            amenities = button.text\n",
    "    return amenities\n",
    "\n",
    "# Example\n",
    "# get_amenities(soup.find_all('button', {'class' : '_b0ybw8s'}))"
   ]
  },
  {
   "cell_type": "code",
   "execution_count": 8,
   "metadata": {
    "ExecuteTime": {
     "end_time": "2019-10-04T04:16:09.897918Z",
     "start_time": "2019-10-04T04:16:09.893693Z"
    }
   },
   "outputs": [],
   "source": [
    "def get_lat_lon(scripts):\n",
    "    lat_lon = ''\n",
    "    ll = re.compile(r'ViewportInfoService.GetViewportInfo')\n",
    "    parse_ll = re.compile(r';1d47\\.\\d{14}&amp;2d-122\\.\\d{14}')\n",
    "    for script in scripts:\n",
    "        if ll.search(script.attrs['src']):\n",
    "            lat_lon = script.attrs['src']\n",
    "            # print(script.attrs['src'])\n",
    "    return lat_lon\n",
    "\n",
    "# Example\n",
    "# get_lat_lon(soup.find_all('script',  {'charset' : \"UTF-8\"}))"
   ]
  },
  {
   "cell_type": "code",
   "execution_count": 9,
   "metadata": {
    "ExecuteTime": {
     "end_time": "2019-10-04T04:16:10.786715Z",
     "start_time": "2019-10-04T04:16:10.783049Z"
    }
   },
   "outputs": [],
   "source": [
    "def get_superhost(spans):\n",
    "    superhost = False\n",
    "    sh = re.compile(r'^\\w+ is a Superhost')\n",
    "    for span in spans:\n",
    "        if sh.match(span.text):\n",
    "            superhost = True\n",
    "    return superhost\n",
    "\n",
    "# Example\n",
    "# get_superhost(soup.find_all('span', {'class' : \"_1p3joamp\"}))"
   ]
  },
  {
   "cell_type": "code",
   "execution_count": 10,
   "metadata": {
    "ExecuteTime": {
     "end_time": "2019-10-04T04:16:11.716209Z",
     "start_time": "2019-10-04T04:16:11.709979Z"
    }
   },
   "outputs": [],
   "source": [
    "def get_links(driver, url):\n",
    "    list_of_links = []\n",
    "    for i in range(1, 6):\n",
    "        url = fmt_url(url, 18, i)\n",
    "        # print(url)\n",
    "        driver.switch_to.window(window)\n",
    "        driver.get(url)\n",
    "        time.sleep(10)\n",
    "        dict_of_urls = defaultdict(int)\n",
    "        a = driver.find_elements_by_tag_name('a')\n",
    "    for element in a:\n",
    "        link = element.get_attribute('href')\n",
    "        if not link is None and link.find('rooms') != -1:\n",
    "            dict_of_urls[link] += 1\n",
    "    list_of_links += list(dict_of_urls.keys())\n",
    "    return list(dict_of_urls.keys())\n",
    "\n",
    "# Example\n",
    "# get_links(driver, URL, 1)"
   ]
  },
  {
   "cell_type": "code",
   "execution_count": 11,
   "metadata": {
    "ExecuteTime": {
     "end_time": "2019-10-04T04:16:12.713321Z",
     "start_time": "2019-10-04T04:16:12.709796Z"
    },
    "scrolled": true
   },
   "outputs": [],
   "source": [
    "# URLS we will pass in to get links to individual properties\n",
    "URL_1_GUEST = 'https://www.airbnb.com/s/Seattle--WA--United-States/homes?refinement_paths%5B%5D=%2Fhomes&current_tab_id=home_tab&selected_tab_id=home_tab&place_id=ChIJVTPokywQkFQRmtVEaUZlJRA&search_type=pagination&screen_size=large&hide_dates_and_guests_filters=false&checkin=2019-12-22&checkout=2019-12-28&adults=1&room_types%5B%5D=Entire%20home%2Fapt&s_tag=hw8cp5Pu&section_offset=5&items_offset={}&last_search_session_id=788955f0-95fc-4576-8543-ed1dcfe94ed3'\n",
    "URL_2_GUEST = 'https://www.airbnb.com/s/Seattle--WA--United-States/homes?refinement_paths%5B%5D=%2Fhomes&current_tab_id=home_tab&selected_tab_id=home_tab&place_id=ChIJVTPokywQkFQRmtVEaUZlJRA&search_type=pagination&screen_size=large&hide_dates_and_guests_filters=false&checkin=2019-12-22&checkout=2019-12-28&adults=2&room_types%5B%5D=Entire%20home%2Fapt&s_tag=M4qG3z8c&section_offset=5&items_offset={}&last_search_session_id=40094e9c-6a7b-4bf5-a60d-ad757e06c4bf'\n",
    "URL_3_GUEST = 'https://www.airbnb.com/s/Seattle--WA--United-States/homes?refinement_paths%5B%5D=%2Fhomes&current_tab_id=home_tab&selected_tab_id=home_tab&place_id=ChIJVTPokywQkFQRmtVEaUZlJRA&search_type=pagination&screen_size=large&hide_dates_and_guests_filters=false&checkin=2019-12-22&checkout=2019-12-28&adults=3&room_types%5B%5D=Entire%20home%2Fapt&s_tag=TNcnvTMZ&section_offset=5&items_offset={}&last_search_session_id=161c0850-d38d-459a-a90d-91cab7b2dff7'\n",
    "URL_4_GUEST = 'https://www.airbnb.com/s/Seattle--WA--United-States/homes?refinement_paths%5B%5D=%2Fhomes&current_tab_id=home_tab&selected_tab_id=home_tab&place_id=ChIJVTPokywQkFQRmtVEaUZlJRA&search_type=pagination&screen_size=large&hide_dates_and_guests_filters=false&checkin=2019-12-22&checkout=2019-12-28&adults=4&room_types%5B%5D=Entire%20home%2Fapt&s_tag=NCdHnnOK&section_offset=5&items_offset={}&last_search_session_id=45e6e542-db96-4fc2-8eba-7d58709bcb1e'\n",
    "url_list = [URL_1_GUEST, URL_2_GUEST, URL_3_GUEST, URL_4_GUEST]"
   ]
  },
  {
   "cell_type": "code",
   "execution_count": 12,
   "metadata": {
    "ExecuteTime": {
     "end_time": "2019-10-04T04:16:20.625348Z",
     "start_time": "2019-10-04T04:16:13.672831Z"
    }
   },
   "outputs": [],
   "source": [
    "# Create Selenium chrome browser driver instance, and an empty list to hold links\n",
    "list_of_links = []\n",
    "driver = webdriver.Chrome()\n",
    "time.sleep(5)\n",
    "window = driver.window_handles[0]"
   ]
  },
  {
   "cell_type": "code",
   "execution_count": 13,
   "metadata": {
    "ExecuteTime": {
     "end_time": "2019-10-04T04:17:50.937881Z",
     "start_time": "2019-10-04T04:16:29.906162Z"
    }
   },
   "outputs": [
    {
     "ename": "NoSuchWindowException",
     "evalue": "Message: no such window: window was already closed\n  (Session info: chrome=77.0.3865.90)\n",
     "output_type": "error",
     "traceback": [
      "\u001b[0;31m---------------------------------------------------------------------------\u001b[0m",
      "\u001b[0;31mNoSuchWindowException\u001b[0m                     Traceback (most recent call last)",
      "\u001b[0;32m<ipython-input-13-e8a131bf18a8>\u001b[0m in \u001b[0;36m<module>\u001b[0;34m\u001b[0m\n\u001b[1;32m      1\u001b[0m \u001b[0;32mfor\u001b[0m \u001b[0murl\u001b[0m \u001b[0;32min\u001b[0m \u001b[0murl_list\u001b[0m\u001b[0;34m:\u001b[0m\u001b[0;34m\u001b[0m\u001b[0;34m\u001b[0m\u001b[0m\n\u001b[0;32m----> 2\u001b[0;31m     \u001b[0mlist_of_links\u001b[0m \u001b[0;34m+=\u001b[0m \u001b[0mget_links\u001b[0m\u001b[0;34m(\u001b[0m\u001b[0mdriver\u001b[0m\u001b[0;34m,\u001b[0m \u001b[0murl\u001b[0m\u001b[0;34m)\u001b[0m\u001b[0;34m\u001b[0m\u001b[0;34m\u001b[0m\u001b[0m\n\u001b[0m",
      "\u001b[0;32m<ipython-input-10-6c96fd4a79dd>\u001b[0m in \u001b[0;36mget_links\u001b[0;34m(driver, url)\u001b[0m\n\u001b[1;32m      8\u001b[0m         \u001b[0mtime\u001b[0m\u001b[0;34m.\u001b[0m\u001b[0msleep\u001b[0m\u001b[0;34m(\u001b[0m\u001b[0;36m10\u001b[0m\u001b[0;34m)\u001b[0m\u001b[0;34m\u001b[0m\u001b[0;34m\u001b[0m\u001b[0m\n\u001b[1;32m      9\u001b[0m         \u001b[0mdict_of_urls\u001b[0m \u001b[0;34m=\u001b[0m \u001b[0mdefaultdict\u001b[0m\u001b[0;34m(\u001b[0m\u001b[0mint\u001b[0m\u001b[0;34m)\u001b[0m\u001b[0;34m\u001b[0m\u001b[0;34m\u001b[0m\u001b[0m\n\u001b[0;32m---> 10\u001b[0;31m         \u001b[0ma\u001b[0m \u001b[0;34m=\u001b[0m \u001b[0mdriver\u001b[0m\u001b[0;34m.\u001b[0m\u001b[0mfind_elements_by_tag_name\u001b[0m\u001b[0;34m(\u001b[0m\u001b[0;34m'a'\u001b[0m\u001b[0;34m)\u001b[0m\u001b[0;34m\u001b[0m\u001b[0;34m\u001b[0m\u001b[0m\n\u001b[0m\u001b[1;32m     11\u001b[0m     \u001b[0;32mfor\u001b[0m \u001b[0melement\u001b[0m \u001b[0;32min\u001b[0m \u001b[0ma\u001b[0m\u001b[0;34m:\u001b[0m\u001b[0;34m\u001b[0m\u001b[0;34m\u001b[0m\u001b[0m\n\u001b[1;32m     12\u001b[0m         \u001b[0mlink\u001b[0m \u001b[0;34m=\u001b[0m \u001b[0melement\u001b[0m\u001b[0;34m.\u001b[0m\u001b[0mget_attribute\u001b[0m\u001b[0;34m(\u001b[0m\u001b[0;34m'href'\u001b[0m\u001b[0;34m)\u001b[0m\u001b[0;34m\u001b[0m\u001b[0;34m\u001b[0m\u001b[0m\n",
      "\u001b[0;32m/Applications/conda/anaconda3/envs/metis/lib/python3.7/site-packages/selenium/webdriver/remote/webdriver.py\u001b[0m in \u001b[0;36mfind_elements_by_tag_name\u001b[0;34m(self, name)\u001b[0m\n\u001b[1;32m    544\u001b[0m             \u001b[0melements\u001b[0m \u001b[0;34m=\u001b[0m \u001b[0mdriver\u001b[0m\u001b[0;34m.\u001b[0m\u001b[0mfind_elements_by_tag_name\u001b[0m\u001b[0;34m(\u001b[0m\u001b[0;34m'h1'\u001b[0m\u001b[0;34m)\u001b[0m\u001b[0;34m\u001b[0m\u001b[0;34m\u001b[0m\u001b[0m\n\u001b[1;32m    545\u001b[0m         \"\"\"\n\u001b[0;32m--> 546\u001b[0;31m         \u001b[0;32mreturn\u001b[0m \u001b[0mself\u001b[0m\u001b[0;34m.\u001b[0m\u001b[0mfind_elements\u001b[0m\u001b[0;34m(\u001b[0m\u001b[0mby\u001b[0m\u001b[0;34m=\u001b[0m\u001b[0mBy\u001b[0m\u001b[0;34m.\u001b[0m\u001b[0mTAG_NAME\u001b[0m\u001b[0;34m,\u001b[0m \u001b[0mvalue\u001b[0m\u001b[0;34m=\u001b[0m\u001b[0mname\u001b[0m\u001b[0;34m)\u001b[0m\u001b[0;34m\u001b[0m\u001b[0;34m\u001b[0m\u001b[0m\n\u001b[0m\u001b[1;32m    547\u001b[0m \u001b[0;34m\u001b[0m\u001b[0m\n\u001b[1;32m    548\u001b[0m     \u001b[0;32mdef\u001b[0m \u001b[0mfind_element_by_class_name\u001b[0m\u001b[0;34m(\u001b[0m\u001b[0mself\u001b[0m\u001b[0;34m,\u001b[0m \u001b[0mname\u001b[0m\u001b[0;34m)\u001b[0m\u001b[0;34m:\u001b[0m\u001b[0;34m\u001b[0m\u001b[0;34m\u001b[0m\u001b[0m\n",
      "\u001b[0;32m/Applications/conda/anaconda3/envs/metis/lib/python3.7/site-packages/selenium/webdriver/remote/webdriver.py\u001b[0m in \u001b[0;36mfind_elements\u001b[0;34m(self, by, value)\u001b[0m\n\u001b[1;32m   1005\u001b[0m         return self.execute(Command.FIND_ELEMENTS, {\n\u001b[1;32m   1006\u001b[0m             \u001b[0;34m'using'\u001b[0m\u001b[0;34m:\u001b[0m \u001b[0mby\u001b[0m\u001b[0;34m,\u001b[0m\u001b[0;34m\u001b[0m\u001b[0;34m\u001b[0m\u001b[0m\n\u001b[0;32m-> 1007\u001b[0;31m             'value': value})['value'] or []\n\u001b[0m\u001b[1;32m   1008\u001b[0m \u001b[0;34m\u001b[0m\u001b[0m\n\u001b[1;32m   1009\u001b[0m     \u001b[0;34m@\u001b[0m\u001b[0mproperty\u001b[0m\u001b[0;34m\u001b[0m\u001b[0;34m\u001b[0m\u001b[0m\n",
      "\u001b[0;32m/Applications/conda/anaconda3/envs/metis/lib/python3.7/site-packages/selenium/webdriver/remote/webdriver.py\u001b[0m in \u001b[0;36mexecute\u001b[0;34m(self, driver_command, params)\u001b[0m\n\u001b[1;32m    319\u001b[0m         \u001b[0mresponse\u001b[0m \u001b[0;34m=\u001b[0m \u001b[0mself\u001b[0m\u001b[0;34m.\u001b[0m\u001b[0mcommand_executor\u001b[0m\u001b[0;34m.\u001b[0m\u001b[0mexecute\u001b[0m\u001b[0;34m(\u001b[0m\u001b[0mdriver_command\u001b[0m\u001b[0;34m,\u001b[0m \u001b[0mparams\u001b[0m\u001b[0;34m)\u001b[0m\u001b[0;34m\u001b[0m\u001b[0;34m\u001b[0m\u001b[0m\n\u001b[1;32m    320\u001b[0m         \u001b[0;32mif\u001b[0m \u001b[0mresponse\u001b[0m\u001b[0;34m:\u001b[0m\u001b[0;34m\u001b[0m\u001b[0;34m\u001b[0m\u001b[0m\n\u001b[0;32m--> 321\u001b[0;31m             \u001b[0mself\u001b[0m\u001b[0;34m.\u001b[0m\u001b[0merror_handler\u001b[0m\u001b[0;34m.\u001b[0m\u001b[0mcheck_response\u001b[0m\u001b[0;34m(\u001b[0m\u001b[0mresponse\u001b[0m\u001b[0;34m)\u001b[0m\u001b[0;34m\u001b[0m\u001b[0;34m\u001b[0m\u001b[0m\n\u001b[0m\u001b[1;32m    322\u001b[0m             response['value'] = self._unwrap_value(\n\u001b[1;32m    323\u001b[0m                 response.get('value', None))\n",
      "\u001b[0;32m/Applications/conda/anaconda3/envs/metis/lib/python3.7/site-packages/selenium/webdriver/remote/errorhandler.py\u001b[0m in \u001b[0;36mcheck_response\u001b[0;34m(self, response)\u001b[0m\n\u001b[1;32m    240\u001b[0m                 \u001b[0malert_text\u001b[0m \u001b[0;34m=\u001b[0m \u001b[0mvalue\u001b[0m\u001b[0;34m[\u001b[0m\u001b[0;34m'alert'\u001b[0m\u001b[0;34m]\u001b[0m\u001b[0;34m.\u001b[0m\u001b[0mget\u001b[0m\u001b[0;34m(\u001b[0m\u001b[0;34m'text'\u001b[0m\u001b[0;34m)\u001b[0m\u001b[0;34m\u001b[0m\u001b[0;34m\u001b[0m\u001b[0m\n\u001b[1;32m    241\u001b[0m             \u001b[0;32mraise\u001b[0m \u001b[0mexception_class\u001b[0m\u001b[0;34m(\u001b[0m\u001b[0mmessage\u001b[0m\u001b[0;34m,\u001b[0m \u001b[0mscreen\u001b[0m\u001b[0;34m,\u001b[0m \u001b[0mstacktrace\u001b[0m\u001b[0;34m,\u001b[0m \u001b[0malert_text\u001b[0m\u001b[0;34m)\u001b[0m\u001b[0;34m\u001b[0m\u001b[0;34m\u001b[0m\u001b[0m\n\u001b[0;32m--> 242\u001b[0;31m         \u001b[0;32mraise\u001b[0m \u001b[0mexception_class\u001b[0m\u001b[0;34m(\u001b[0m\u001b[0mmessage\u001b[0m\u001b[0;34m,\u001b[0m \u001b[0mscreen\u001b[0m\u001b[0;34m,\u001b[0m \u001b[0mstacktrace\u001b[0m\u001b[0;34m)\u001b[0m\u001b[0;34m\u001b[0m\u001b[0;34m\u001b[0m\u001b[0m\n\u001b[0m\u001b[1;32m    243\u001b[0m \u001b[0;34m\u001b[0m\u001b[0m\n\u001b[1;32m    244\u001b[0m     \u001b[0;32mdef\u001b[0m \u001b[0m_value_or_default\u001b[0m\u001b[0;34m(\u001b[0m\u001b[0mself\u001b[0m\u001b[0;34m,\u001b[0m \u001b[0mobj\u001b[0m\u001b[0;34m,\u001b[0m \u001b[0mkey\u001b[0m\u001b[0;34m,\u001b[0m \u001b[0mdefault\u001b[0m\u001b[0;34m)\u001b[0m\u001b[0;34m:\u001b[0m\u001b[0;34m\u001b[0m\u001b[0;34m\u001b[0m\u001b[0m\n",
      "\u001b[0;31mNoSuchWindowException\u001b[0m: Message: no such window: window was already closed\n  (Session info: chrome=77.0.3865.90)\n"
     ]
    }
   ],
   "source": [
    "for url in url_list:\n",
    "    list_of_links += get_links(driver, url)"
   ]
  },
  {
   "cell_type": "code",
   "execution_count": null,
   "metadata": {
    "ExecuteTime": {
     "end_time": "2019-10-04T04:13:15.422536Z",
     "start_time": "2019-10-04T04:13:15.289646Z"
    }
   },
   "outputs": [],
   "source": [
    "!pwd"
   ]
  },
  {
   "cell_type": "code",
   "execution_count": null,
   "metadata": {},
   "outputs": [],
   "source": [
    "with open('../data/long_list_of_links.txt', 'w+')"
   ]
  },
  {
   "cell_type": "code",
   "execution_count": null,
   "metadata": {},
   "outputs": [],
   "source": [
    "pickle.dump(list_of_links, '../data/long_list_of_links.txt')"
   ]
  },
  {
   "cell_type": "code",
   "execution_count": null,
   "metadata": {},
   "outputs": [],
   "source": []
  },
  {
   "cell_type": "code",
   "execution_count": null,
   "metadata": {},
   "outputs": [],
   "source": []
  },
  {
   "cell_type": "code",
   "execution_count": null,
   "metadata": {},
   "outputs": [],
   "source": []
  },
  {
   "cell_type": "code",
   "execution_count": null,
   "metadata": {},
   "outputs": [],
   "source": [
    "for i in range(1, 18):\n",
    "    url2 = fmt_url(URL, 18, i)\n",
    "    driver.switch_to.window(window)\n",
    "    driver.get(url2)\n",
    "    time.sleep(10)\n",
    "    dict_of_urls = defaultdict(int)\n",
    "    a = driver.find_elements_by_tag_name('a')\n",
    "    for element in a:\n",
    "        link = element.get_attribute('href')\n",
    "        if not link is None and link.find('rooms') != -1:\n",
    "            dict_of_urls[link] += 1\n",
    "    list_of_links += list(dict_of_urls.keys())"
   ]
  },
  {
   "cell_type": "code",
   "execution_count": null,
   "metadata": {},
   "outputs": [],
   "source": [
    "print(len(list_of_links))\n",
    "list_of_links[:5]"
   ]
  },
  {
   "cell_type": "code",
   "execution_count": null,
   "metadata": {
    "ExecuteTime": {
     "end_time": "2019-10-03T21:16:39.710953Z",
     "start_time": "2019-10-03T21:16:38.954714Z"
    }
   },
   "outputs": [],
   "source": [
    "import pandas as pd"
   ]
  },
  {
   "cell_type": "code",
   "execution_count": null,
   "metadata": {},
   "outputs": [],
   "source": [
    "pd.DataFrame(pd.Series(list_of_links), columns=['links']).to_csv('links3.csv', index=False)"
   ]
  },
  {
   "cell_type": "code",
   "execution_count": null,
   "metadata": {},
   "outputs": [],
   "source": [
    "list_of_links[0] "
   ]
  },
  {
   "cell_type": "code",
   "execution_count": null,
   "metadata": {
    "ExecuteTime": {
     "end_time": "2019-10-03T21:16:59.008656Z",
     "start_time": "2019-10-03T21:16:58.998494Z"
    }
   },
   "outputs": [],
   "source": [
    "link_files = glob('/Users/scott/metis/projects/project2/notebooks/links*')\n",
    "link_files"
   ]
  },
  {
   "cell_type": "code",
   "execution_count": null,
   "metadata": {
    "ExecuteTime": {
     "end_time": "2019-10-03T21:17:01.954575Z",
     "start_time": "2019-10-03T21:17:01.932560Z"
    }
   },
   "outputs": [],
   "source": [
    "links_df = pd.concat([pd.read_csv(file) for file in link_files])"
   ]
  },
  {
   "cell_type": "code",
   "execution_count": null,
   "metadata": {
    "ExecuteTime": {
     "end_time": "2019-10-03T21:17:03.089888Z",
     "start_time": "2019-10-03T21:17:03.080734Z"
    }
   },
   "outputs": [],
   "source": [
    "links_df.head()"
   ]
  },
  {
   "cell_type": "code",
   "execution_count": null,
   "metadata": {
    "ExecuteTime": {
     "end_time": "2019-10-03T21:17:10.024762Z",
     "start_time": "2019-10-03T21:17:10.019841Z"
    }
   },
   "outputs": [],
   "source": [
    "links_df.drop_duplicates(inplace=True)"
   ]
  },
  {
   "cell_type": "code",
   "execution_count": null,
   "metadata": {
    "ExecuteTime": {
     "end_time": "2019-10-03T21:17:10.488949Z",
     "start_time": "2019-10-03T21:17:10.485129Z"
    }
   },
   "outputs": [],
   "source": [
    "links_df.shape"
   ]
  },
  {
   "cell_type": "code",
   "execution_count": null,
   "metadata": {
    "ExecuteTime": {
     "end_time": "2019-10-03T21:17:12.464847Z",
     "start_time": "2019-10-03T21:17:12.460165Z"
    }
   },
   "outputs": [],
   "source": [
    "type(links_df.iloc[0][0])"
   ]
  },
  {
   "cell_type": "code",
   "execution_count": null,
   "metadata": {
    "ExecuteTime": {
     "end_time": "2019-10-03T21:17:15.262085Z",
     "start_time": "2019-10-03T21:17:15.258478Z"
    }
   },
   "outputs": [],
   "source": [
    "xpaths = {'guests' : '//*[@id=\"room\"]/div[2]/div/div[2]/div[1]/div/div[3]/div/div/div/div[1]/div[2]/div[2]/div[1]/div',\n",
    "          'bedrooms' : '//*[@id=\"room\"]/div[2]/div/div[2]/div[1]/div/div[3]/div/div/div/div[1]/div[2]/div[2]/div[2]/div',\n",
    "          'beds' : '//*[@id=\"room\"]/div[2]/div/div[2]/div[1]/div/div[3]/div/div/div/div[1]/div[2]/div[2]/div[3]/div',\n",
    "          'baths' : '//*[@id=\"room\"]/div[2]/div/div[2]/div[1]/div/div[3]/div/div/div/div[1]/div[2]/div[2]/div[4]/div',\n",
    "          'narrative' : '//*[@id=\"details\"]/div/div[1]/div/div/div/p/span/span',\n",
    "          'amenities' : '//*[@id=\"amenities\"]/div/div/div/div/div/section/div[4]/div/button',\n",
    "          'price' : '//*[@id=\"room\"]/div[2]/div/div[2]/div[2]/div/div/div[1]/div/div/div[1]/div/div/div[2]/div[1]/div/span[2]/span',\n",
    "          'rules' : '//*[@id=\"house-rules\"]/div/section/div[3]/div[1]/div/div/div[2]/div[2]',\n",
    "          'cleaning_fee' : '//*[@id=\"book_it_form\"]/div[2]/div[2]/div[1]/div[2]/span/span',\n",
    "          'map' : '//*[@id=\"neighborhood\"]/div/div/div/div/div/section/div[2]/div[2]/div[2]/img'\n",
    "          }"
   ]
  },
  {
   "cell_type": "code",
   "execution_count": null,
   "metadata": {
    "ExecuteTime": {
     "end_time": "2019-10-03T21:17:24.273769Z",
     "start_time": "2019-10-03T21:17:19.233121Z"
    }
   },
   "outputs": [],
   "source": [
    "driver = webdriver.Chrome()"
   ]
  },
  {
   "cell_type": "code",
   "execution_count": null,
   "metadata": {
    "ExecuteTime": {
     "end_time": "2019-10-04T00:17:13.816265Z",
     "start_time": "2019-10-04T00:17:13.810737Z"
    }
   },
   "outputs": [],
   "source": [
    "[re.compile(r'^\\d+ guests'), re.compile(r'^\\d+ bedrooms?'), re.compile(r'^\\d+ beds?'), re.compile(r'^\\d+ baths?')]"
   ]
  },
  {
   "cell_type": "code",
   "execution_count": null,
   "metadata": {},
   "outputs": [],
   "source": []
  },
  {
   "cell_type": "code",
   "execution_count": null,
   "metadata": {
    "ExecuteTime": {
     "end_time": "2019-10-04T00:17:20.467217Z",
     "start_time": "2019-10-04T00:17:20.462429Z"
    }
   },
   "outputs": [],
   "source": [
    "guests = re.compile(r'^\\d+ guests')\n",
    "guests.match('2 guests')"
   ]
  },
  {
   "cell_type": "code",
   "execution_count": null,
   "metadata": {
    "ExecuteTime": {
     "end_time": "2019-10-04T00:17:21.071896Z",
     "start_time": "2019-10-04T00:17:21.066313Z"
    }
   },
   "outputs": [],
   "source": [
    "br = re.compile(r'^\\d+ bedrooms?')\n",
    "br.match('6 bedrooms') and 'hello'"
   ]
  },
  {
   "cell_type": "code",
   "execution_count": null,
   "metadata": {
    "ExecuteTime": {
     "end_time": "2019-10-04T00:17:21.619279Z",
     "start_time": "2019-10-04T00:17:21.614689Z"
    }
   },
   "outputs": [],
   "source": [
    "beds = re.compile(r'^\\d+ beds?')\n",
    "beds.match('2 beds') and 'Yes!'"
   ]
  },
  {
   "cell_type": "code",
   "execution_count": null,
   "metadata": {
    "ExecuteTime": {
     "end_time": "2019-10-04T00:17:22.474452Z",
     "start_time": "2019-10-04T00:17:22.469979Z"
    }
   },
   "outputs": [],
   "source": [
    "baths = re.compile(r'^\\d+ baths?')\n",
    "baths.match('6 baths') and 'Yes!'"
   ]
  },
  {
   "cell_type": "code",
   "execution_count": null,
   "metadata": {
    "ExecuteTime": {
     "end_time": "2019-10-04T00:18:35.771644Z",
     "start_time": "2019-10-04T00:18:35.756374Z"
    }
   },
   "outputs": [],
   "source": [
    "# Price :: Y value\n",
    "# <span class=\"_doc79r\">$109</span>\n",
    "soup.find('span', {'class' : '_doc79r'})"
   ]
  },
  {
   "cell_type": "code",
   "execution_count": null,
   "metadata": {
    "ExecuteTime": {
     "end_time": "2019-10-04T00:17:31.334692Z",
     "start_time": "2019-10-04T00:17:31.317241Z"
    }
   },
   "outputs": [],
   "source": [
    "# 5 Cleaning fee\n",
    "# 6 Service Fee\n",
    "# <div style=\"margin-bottom: 8px;\"><div><div class=\"_hgs47m\"><div class=\"_10ejfg4u\"><span class=\"_1jlnvra2\"><span>$109 x 6 nights</span></span><div class=\"_1c2cbn7k\"><div class=\"_jx9fdbv\" role=\"presentation\"><div role=\"button\" tabindex=\"-1\" aria-expanded=\"false\"><button aria-expanded=\"false\" aria-label=\"Learn more\" type=\"button\" class=\"_pmxdr5\"><span class=\"_3hmsj\"><svg viewBox=\"0 0 24 24\" role=\"presentation\" aria-hidden=\"true\" focusable=\"false\" style=\"height: 15px; width: 15px; display: block; fill: rgb(72, 72, 72);\"><path d=\"m12 0c-6.63 0-12 5.37-12 12s5.37 12 12 12 12-5.37 12-12-5.37-12-12-12zm0 23c-6.07 0-11-4.92-11-11s4.93-11 11-11 11 4.93 11 11-4.93 11-11 11zm4.75-14c0 1.8-.82 2.93-2.35 3.89-.23.14-1 .59-1.14.67-.4.25-.51.38-.51.44v2a .75.75 0 0 1 -1.5 0v-2c0-.74.42-1.22 1.22-1.72.17-.11.94-.55 1.14-.67 1.13-.71 1.64-1.41 1.64-2.61a3.25 3.25 0 0 0 -6.5 0 .75.75 0 0 1 -1.5 0 4.75 4.75 0 0 1 9.5 0zm-3.75 10a1 1 0 1 1 -2 0 1 1 0 0 1 2 0z\" fill-rule=\"evenodd\"></path></svg></span></button></div></div></div></div><div class=\"_ni9axhe\"><span class=\"_1jlnvra2\"><span class=\"_j1kt73\">$655</span></span></div></div><div style=\"margin-top: 8px; margin-bottom: 8px;\"><div class=\"_7qp4lh\"></div></div></div><div><div class=\"_hgs47m\"><div class=\"_10ejfg4u\"><span class=\"_1jlnvra2\"><span>Cleaning fee</span></span><div class=\"_1c2cbn7k\"><div class=\"_jx9fdbv\" role=\"presentation\"><div role=\"button\" tabindex=\"-1\" aria-expanded=\"false\"><button aria-expanded=\"false\" aria-label=\"Learn more\" type=\"button\" class=\"_pmxdr5\"><span class=\"_3hmsj\"><svg viewBox=\"0 0 24 24\" role=\"presentation\" aria-hidden=\"true\" focusable=\"false\" style=\"height: 15px; width: 15px; display: block; fill: rgb(72, 72, 72);\"><path d=\"m12 0c-6.63 0-12 5.37-12 12s5.37 12 12 12 12-5.37 12-12-5.37-12-12-12zm0 23c-6.07 0-11-4.92-11-11s4.93-11 11-11 11 4.93 11 11-4.93 11-11 11zm4.75-14c0 1.8-.82 2.93-2.35 3.89-.23.14-1 .59-1.14.67-.4.25-.51.38-.51.44v2a .75.75 0 0 1 -1.5 0v-2c0-.74.42-1.22 1.22-1.72.17-.11.94-.55 1.14-.67 1.13-.71 1.64-1.41 1.64-2.61a3.25 3.25 0 0 0 -6.5 0 .75.75 0 0 1 -1.5 0 4.75 4.75 0 0 1 9.5 0zm-3.75 10a1 1 0 1 1 -2 0 1 1 0 0 1 2 0z\" fill-rule=\"evenodd\"></path></svg></span></button></div></div></div></div><div class=\"_ni9axhe\"><span class=\"_1jlnvra2\"><span class=\"_j1kt73\">$75</span></span></div></div><div style=\"margin-top: 8px; margin-bottom: 8px;\"><div class=\"_7qp4lh\"></div></div></div><div><div class=\"_hgs47m\"><div class=\"_10ejfg4u\"><span class=\"_1jlnvra2\"><span>Service fee</span></span><div class=\"_1c2cbn7k\"><div class=\"_jx9fdbv\" role=\"presentation\"><div role=\"button\" tabindex=\"-1\" aria-expanded=\"false\"><button aria-expanded=\"false\" aria-label=\"Learn more\" type=\"button\" class=\"_pmxdr5\"><span class=\"_3hmsj\"><svg viewBox=\"0 0 24 24\" role=\"presentation\" aria-hidden=\"true\" focusable=\"false\" style=\"height: 15px; width: 15px; display: block; fill: rgb(72, 72, 72);\"><path d=\"m12 0c-6.63 0-12 5.37-12 12s5.37 12 12 12 12-5.37 12-12-5.37-12-12-12zm0 23c-6.07 0-11-4.92-11-11s4.93-11 11-11 11 4.93 11 11-4.93 11-11 11zm4.75-14c0 1.8-.82 2.93-2.35 3.89-.23.14-1 .59-1.14.67-.4.25-.51.38-.51.44v2a .75.75 0 0 1 -1.5 0v-2c0-.74.42-1.22 1.22-1.72.17-.11.94-.55 1.14-.67 1.13-.71 1.64-1.41 1.64-2.61a3.25 3.25 0 0 0 -6.5 0 .75.75 0 0 1 -1.5 0 4.75 4.75 0 0 1 9.5 0zm-3.75 10a1 1 0 1 1 -2 0 1 1 0 0 1 2 0z\" fill-rule=\"evenodd\"></path></svg></span></button></div></div></div></div><div class=\"_ni9axhe\"><span class=\"_1jlnvra2\"><span class=\"_j1kt73\">$94</span></span></div></div><div style=\"margin-top: 8px; margin-bottom: 8px;\"><div class=\"_7qp4lh\"></div></div></div><div><div class=\"_hgs47m\"><div class=\"_10ejfg4u\"><span class=\"_1jlnvra2\"><span>Occupancy taxes and fees</span></span><div class=\"_1c2cbn7k\"><div class=\"_jx9fdbv\" role=\"presentation\"><div role=\"button\" tabindex=\"-1\" aria-expanded=\"false\"><button aria-expanded=\"false\" aria-label=\"Learn more\" type=\"button\" class=\"_pmxdr5\"><span class=\"_3hmsj\"><svg viewBox=\"0 0 24 24\" role=\"presentation\" aria-hidden=\"true\" focusable=\"false\" style=\"height: 15px; width: 15px; display: block; fill: rgb(72, 72, 72);\"><path d=\"m12 0c-6.63 0-12 5.37-12 12s5.37 12 12 12 12-5.37 12-12-5.37-12-12-12zm0 23c-6.07 0-11-4.92-11-11s4.93-11 11-11 11 4.93 11 11-4.93 11-11 11zm4.75-14c0 1.8-.82 2.93-2.35 3.89-.23.14-1 .59-1.14.67-.4.25-.51.38-.51.44v2a .75.75 0 0 1 -1.5 0v-2c0-.74.42-1.22 1.22-1.72.17-.11.94-.55 1.14-.67 1.13-.71 1.64-1.41 1.64-2.61a3.25 3.25 0 0 0 -6.5 0 .75.75 0 0 1 -1.5 0 4.75 4.75 0 0 1 9.5 0zm-3.75 10a1 1 0 1 1 -2 0 1 1 0 0 1 2 0z\" fill-rule=\"evenodd\"></path></svg></span></button></div></div></div></div><div class=\"_ni9axhe\"><span class=\"_1jlnvra2\"><span class=\"_j1kt73\">$129</span></span></div></div><div style=\"margin-top: 8px; margin-bottom: 8px;\"><div class=\"_7qp4lh\"></div></div></div><div><div class=\"_hgs47m\"><div class=\"_10ejfg4u\"><span class=\"_121z06r2\"><span>Total</span></span></div><div class=\"_ni9axhe\"><span class=\"_121z06r2\"><span class=\"_j1kt73\">$953</span></span></div></div></div></div>\n",
    "soup.find_all('span', {'class' : '_1jlnvra2'})"
   ]
  },
  {
   "cell_type": "code",
   "execution_count": null,
   "metadata": {
    "ExecuteTime": {
     "end_time": "2019-10-04T00:17:41.130082Z",
     "start_time": "2019-10-04T00:17:41.113998Z"
    }
   },
   "outputs": [],
   "source": [
    "# 7 Amenities\n",
    "# <button type=\"button\" class=\"_b0ybw8s\" aria-busy=\"false\">Show all 32 amenities</button>\n",
    "soup.find_all('button', {'class' : '_b0ybw8s'})"
   ]
  },
  {
   "cell_type": "code",
   "execution_count": null,
   "metadata": {
    "ExecuteTime": {
     "end_time": "2019-10-03T23:28:50.024988Z",
     "start_time": "2019-10-03T23:28:50.020975Z"
    }
   },
   "outputs": [],
   "source": [
    "re.compile(r'^Show all \\d+ amenities').match('Show all 32 amenities')"
   ]
  },
  {
   "cell_type": "code",
   "execution_count": null,
   "metadata": {
    "ExecuteTime": {
     "end_time": "2019-10-03T23:49:10.228374Z",
     "start_time": "2019-10-03T23:49:10.212893Z"
    }
   },
   "outputs": [],
   "source": [
    "soup.find_all('script',  {'charset' : \"UTF-8\"})[8].attrs['src']"
   ]
  },
  {
   "cell_type": "code",
   "execution_count": null,
   "metadata": {
    "ExecuteTime": {
     "end_time": "2019-10-04T00:21:59.291778Z",
     "start_time": "2019-10-04T00:21:59.275254Z"
    }
   },
   "outputs": [],
   "source": [
    "# superhost\n",
    "# <span class=\"_1p3joamp\">Emma is a Superhost</span>\n",
    "soup.find_all('span', {'class' : \"_1p3joamp\"})"
   ]
  },
  {
   "cell_type": "code",
   "execution_count": null,
   "metadata": {
    "ExecuteTime": {
     "end_time": "2019-10-03T23:32:48.253115Z",
     "start_time": "2019-10-03T23:32:48.249395Z"
    }
   },
   "outputs": [],
   "source": [
    "ll = re.compile(r'ViewportInfoService.GetViewportInfo')\n",
    "ll.search('<script charset=\"UTF-8\" src=\"https://maps.googleapis.com/maps/api/js/ViewportInfoService.GetViewportInfo?1m6&amp;1m2')"
   ]
  },
  {
   "cell_type": "code",
   "execution_count": null,
   "metadata": {
    "ExecuteTime": {
     "end_time": "2019-10-03T21:42:33.845517Z",
     "start_time": "2019-10-03T21:42:33.830724Z"
    }
   },
   "outputs": [],
   "source": [
    "soup.find_all('img', {'alt' : \"Map showing where\"})"
   ]
  },
  {
   "cell_type": "code",
   "execution_count": null,
   "metadata": {},
   "outputs": [],
   "source": [
    "links_df.iloc[:5]"
   ]
  },
  {
   "cell_type": "code",
   "execution_count": null,
   "metadata": {},
   "outputs": [],
   "source": [
    "links_df['base_link'] = links_df.apply(lambda row: row['links'].split('?')[0], axis=1)"
   ]
  },
  {
   "cell_type": "code",
   "execution_count": null,
   "metadata": {},
   "outputs": [],
   "source": [
    "sum(~links_df['base_link'].duplicated())"
   ]
  },
  {
   "cell_type": "code",
   "execution_count": null,
   "metadata": {},
   "outputs": [],
   "source": []
  },
  {
   "cell_type": "code",
   "execution_count": null,
   "metadata": {},
   "outputs": [],
   "source": []
  },
  {
   "cell_type": "code",
   "execution_count": null,
   "metadata": {},
   "outputs": [],
   "source": []
  },
  {
   "cell_type": "code",
   "execution_count": null,
   "metadata": {},
   "outputs": [],
   "source": [
    "for link in list_of_links[4:6]:\n",
    "    prop_dict = {}\n",
    "    driver.get(link)\n",
    "    time.sleep(3)\n",
    "    soup = BeautifulSoup(driver.page_source, \"lxml\")\n",
    "    break"
   ]
  },
  {
   "cell_type": "code",
   "execution_count": null,
   "metadata": {},
   "outputs": [],
   "source": [
    "# soup.find_all('div')\n",
    "# soup.find_all('div', attrs={'style': \"margin-right: 24px;\"})"
   ]
  },
  {
   "cell_type": "code",
   "execution_count": null,
   "metadata": {},
   "outputs": [],
   "source": [
    "tag = soup.find_all('div', attrs={'class' : \"_czm8crp\"})[0]"
   ]
  },
  {
   "cell_type": "code",
   "execution_count": null,
   "metadata": {},
   "outputs": [],
   "source": [
    "tag.get_text()"
   ]
  },
  {
   "cell_type": "code",
   "execution_count": null,
   "metadata": {},
   "outputs": [],
   "source": [
    "# return_url = driver.current_url\n",
    "# return_url"
   ]
  },
  {
   "cell_type": "code",
   "execution_count": null,
   "metadata": {},
   "outputs": [],
   "source": [
    "# return_url = return_url.replace('adults=1', 'adults=2')\n",
    "# return_url"
   ]
  },
  {
   "cell_type": "code",
   "execution_count": null,
   "metadata": {},
   "outputs": [],
   "source": [
    "# driver.find_element_by_class_name('_1m76pmy').click()"
   ]
  },
  {
   "cell_type": "code",
   "execution_count": null,
   "metadata": {},
   "outputs": [],
   "source": [
    "driver.find_element_by_xpath('//*[@id=\"site-content\"]/div/div/div[5]/div/div[1]/div').text"
   ]
  },
  {
   "cell_type": "code",
   "execution_count": null,
   "metadata": {},
   "outputs": [],
   "source": [
    "explore = driver.find_element_by_xpath('//*[@id=\"site-content\"]/div/div/div[4]/div/div/div')\n",
    "explore.find_elements_by_xpath(\"//div[contains(@itemprop, 'itemListElement')]\")[0].find_elements_by_tag_name('meta')[2].get_attribute('content')"
   ]
  },
  {
   "cell_type": "code",
   "execution_count": null,
   "metadata": {},
   "outputs": [],
   "source": [
    "list_of_urls = []\n",
    "\n",
    "for i in range(4):\n",
    "    time.sleep(10)\n",
    "    print(driver.find_element_by_xpath('//*[@id=\"site-content\"]/div/div/div[5]/div/div[1]/div').text)\n",
    "    explore = driver.find_element_by_xpath('//*[@id=\"site-content\"]/div/div/div[4]/div/div/div')\n",
    "    props = explore.find_elements_by_xpath(\"//div[contains(@itemprop, 'itemListElement')]\")\n",
    "    print(explore)\n",
    "    print(len(props))\n",
    "    if i == 0:\n",
    "        # This class only has one instance ont he first page\n",
    "        driver.find_element_by_class_name('_1m76pmy').click()\n",
    "    else:\n",
    "        # If we're not on the first page then choose the second instance of this class\n",
    "        driver.find_elements_by_class_name('_1m76pmy')[1].click()\n"
   ]
  },
  {
   "cell_type": "code",
   "execution_count": null,
   "metadata": {},
   "outputs": [],
   "source": [
    "list_of_urls = []\n",
    "\n",
    "for i in range(4):\n",
    "#     print(driver.current_url)\n",
    "    print(driver.find_element_by_xpath('//*[@id=\"site-content\"]/div/div/div[5]/div/div[1]/div').text)\n",
    "    if i == 0:\n",
    "        list_of_divs = driver.find_elements_by_xpath(\"//div[contains(@itemprop, 'itemListElement')]\")\n",
    "    else:\n",
    "        list_of_divs = driver.find_elements_by_xpath('//*[@id=\"FMP-target\"]/div/div/div/div/div[1]/div/div')\n",
    "    for prop in list_of_divs:\n",
    "        list_of_urls.append(prop.find_elements_by_tag_name('meta')[2].get_attribute('content'))\n",
    "        # print(prop.find_elements_by_tag_name('meta')[2].get_attribute('content'))\n",
    "        # break\n",
    "    print('Len of urls:', len(list_of_urls))\n",
    "    if i == 0:\n",
    "        # This class only has one instance ont he first page\n",
    "        driver.find_element_by_class_name('_1m76pmy').click()\n",
    "    else:\n",
    "        # If we're not on the first page then choose the second instance of this class\n",
    "        driver.find_elements_by_class_name('_1m76pmy')[1].click()\n",
    "    time.sleep(10)\n"
   ]
  },
  {
   "cell_type": "code",
   "execution_count": null,
   "metadata": {},
   "outputs": [],
   "source": [
    "list_of_divs = driver.find_element_by_xpath(\"//div[contains(@itemprop, 'itemListElement')]\")\n",
    "list_of_divs"
   ]
  },
  {
   "cell_type": "code",
   "execution_count": null,
   "metadata": {},
   "outputs": [],
   "source": [
    "driver.find_elements_by_xpath('//*[@id=\"FMP-target\"]/div/div/div/div/div[1]/div/div')[0].find_elements_by_tag_name('meta')[2].get_attribute('content')"
   ]
  },
  {
   "cell_type": "code",
   "execution_count": null,
   "metadata": {},
   "outputs": [],
   "source": [
    "for i, v in enumerate(list_of_urls):\n",
    "    print(i, v)"
   ]
  },
  {
   "cell_type": "code",
   "execution_count": null,
   "metadata": {},
   "outputs": [],
   "source": [
    "print(len(list_of_metas))\n",
    "for prop in list_of_metas:\n",
    "    # list_of_metas[0].find_elements_by_tag_name('meta')[2].get_attribute('content')\n",
    "    print(prop.find_elements_by_tag_name('meta')[2].get_attribute('content'))"
   ]
  },
  {
   "cell_type": "code",
   "execution_count": null,
   "metadata": {},
   "outputs": [],
   "source": []
  },
  {
   "cell_type": "code",
   "execution_count": null,
   "metadata": {},
   "outputs": [],
   "source": [
    "# for meta in list_of_metas:\n",
    "#     print(meta.value_of_css_property('content'))"
   ]
  },
  {
   "cell_type": "code",
   "execution_count": null,
   "metadata": {},
   "outputs": [],
   "source": [
    "# list_of_metas"
   ]
  },
  {
   "cell_type": "code",
   "execution_count": null,
   "metadata": {},
   "outputs": [],
   "source": [
    "'//*[@id=\"FMP-target\"]/div/div/div/div/div[1]/div/div/meta[3]'"
   ]
  },
  {
   "cell_type": "code",
   "execution_count": null,
   "metadata": {},
   "outputs": [],
   "source": [
    "driver.find_element_by_class_name('_1ip5u88')."
   ]
  },
  {
   "cell_type": "code",
   "execution_count": null,
   "metadata": {},
   "outputs": [],
   "source": [
    "'<a href=\"/s/seattle/homes?refinement_paths%5B%5D=%2Fhomes&amp;current_tab_id=home_tab&amp;selected_tab_id=home_tab&amp;screen_size=medium&amp;hide_dates_and_guests_filters=true&amp;place_id=ChIJVTPokywQkFQRmtVEaUZlJRA&amp;s_tag=y6o2gwE0&amp;search_type=pagination&amp;section_offset=5&amp;items_offset=36\" class=\"_1ip5u88\" aria-busy=\"false\"><div class=\"_1m76pmy\"><svg viewBox=\"0 0 18 18\" role=\"img\" aria-label=\"Next\" focusable=\"false\" style=\"height: 0.75em; width: 0.75em; display: block; fill: currentcolor;\"><path d=\"m4.29 1.71a1 1 0 1 1 1.42-1.41l8 8a1 1 0 0 1 0 1.41l-8 8a1 1 0 1 1 -1.42-1.41l7.29-7.29z\" fill-rule=\"evenodd\"></path></svg></div></a>'"
   ]
  },
  {
   "cell_type": "code",
   "execution_count": null,
   "metadata": {},
   "outputs": [],
   "source": [
    "'//*[@id=\"FMP-target\"]/div/div/div/div/div[1]/div/div/meta[3]'"
   ]
  },
  {
   "cell_type": "code",
   "execution_count": null,
   "metadata": {},
   "outputs": [],
   "source": [
    "'https://www.airbnb.com/s/seattle/homes?refinement_paths%5B%5D=%2Fhomes&current_tab_id=home_tab&selected_tab_id=home_tab&screen_size=large&hide_dates_and_guests_filters=true&place_id=ChIJVTPokywQkFQRmtVEaUZlJRA&s_tag=o6LsNXgV&search_type=pagination'"
   ]
  },
  {
   "cell_type": "code",
   "execution_count": null,
   "metadata": {},
   "outputs": [],
   "source": [
    "while None in [None, None, None]:\n"
   ]
  },
  {
   "cell_type": "code",
   "execution_count": null,
   "metadata": {},
   "outputs": [],
   "source": [
    "l = [1,1,1,None]\n",
    "while l.remove(None):\n",
    "    pass"
   ]
  },
  {
   "cell_type": "code",
   "execution_count": null,
   "metadata": {},
   "outputs": [],
   "source": [
    "l"
   ]
  },
  {
   "cell_type": "code",
   "execution_count": null,
   "metadata": {},
   "outputs": [],
   "source": []
  },
  {
   "cell_type": "code",
   "execution_count": null,
   "metadata": {
    "ExecuteTime": {
     "end_time": "2019-10-04T04:16:10.786715Z",
     "start_time": "2019-10-04T04:16:10.783049Z"
    }
   },
   "outputs": [],
   "source": [
    "def get_superhost(spans):\n",
    "    superhost = False\n",
    "    sh = re.compile(r'^\\w+ is a Superhost')\n",
    "    for span in spans:\n",
    "        if sh.match(span.text):\n",
    "            superhost = True\n",
    "    return superhost\n",
    "get_superhost(soup.find_all('span', {'class' : \"_1p3joamp\"}))"
   ]
  }
 ],
 "metadata": {
  "kernelspec": {
   "display_name": "Python [conda env:metis] *",
   "language": "python",
   "name": "conda-env-metis-py"
  },
  "language_info": {
   "codemirror_mode": {
    "name": "ipython",
    "version": 3
   },
   "file_extension": ".py",
   "mimetype": "text/x-python",
   "name": "python",
   "nbconvert_exporter": "python",
   "pygments_lexer": "ipython3",
   "version": "3.7.3"
  },
  "toc": {
   "base_numbering": 1,
   "nav_menu": {},
   "number_sections": true,
   "sideBar": true,
   "skip_h1_title": false,
   "title_cell": "Table of Contents",
   "title_sidebar": "Contents",
   "toc_cell": false,
   "toc_position": {},
   "toc_section_display": true,
   "toc_window_display": false
  }
 },
 "nbformat": 4,
 "nbformat_minor": 2
}
