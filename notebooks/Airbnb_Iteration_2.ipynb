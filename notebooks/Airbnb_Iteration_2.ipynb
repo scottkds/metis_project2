{
 "cells": [
  {
   "cell_type": "code",
   "execution_count": 1,
   "metadata": {
    "ExecuteTime": {
     "end_time": "2019-10-04T06:02:17.799264Z",
     "start_time": "2019-10-04T06:02:16.602633Z"
    }
   },
   "outputs": [],
   "source": [
    "# Imports\n",
    "from selenium import webdriver\n",
    "from selenium.webdriver.common.keys import Keys\n",
    "from bs4 import BeautifulSoup\n",
    "import requests\n",
    "import time\n",
    "import sys\n",
    "import chromedriver_binary\n",
    "import re\n",
    "from collections import defaultdict\n",
    "from glob import glob\n",
    "import pickle\n",
    "import pandas as pd"
   ]
  },
  {
   "cell_type": "code",
   "execution_count": 2,
   "metadata": {
    "ExecuteTime": {
     "end_time": "2019-10-04T06:02:18.529968Z",
     "start_time": "2019-10-04T06:02:18.525879Z"
    }
   },
   "outputs": [],
   "source": [
    "def fmt_url(url_string, items_per_page, page_nbr):\n",
    "    offset = (items_per_page * (page_nbr - 1))\n",
    "    return url_string.format(offset)"
   ]
  },
  {
   "cell_type": "code",
   "execution_count": 3,
   "metadata": {
    "ExecuteTime": {
     "end_time": "2019-10-04T06:02:19.333839Z",
     "start_time": "2019-10-04T06:02:19.329612Z"
    }
   },
   "outputs": [],
   "source": [
    "def get_property_info(driver, link):\n",
    "    driver.switch_to.window(driver.window_handles[0])\n",
    "    driver.get(link)\n",
    "    time.sleep(10)\n",
    "    soup = BeautifulSoup(driver.page_source, \"lxml\")\n",
    "    return soup\n",
    "\n",
    "# Example\n",
    "# soup = get_property_info(driver, 'https://www.airbnb.com/')"
   ]
  },
  {
   "cell_type": "code",
   "execution_count": 4,
   "metadata": {
    "ExecuteTime": {
     "end_time": "2019-10-04T06:02:19.791117Z",
     "start_time": "2019-10-04T06:02:19.786373Z"
    }
   },
   "outputs": [],
   "source": [
    "def get_attrs_1_4(div_list):\n",
    "    attrs_dict = {}\n",
    "    res_dict = {'guests' : re.compile(r'^\\d+ guests'),\n",
    "                'br' : re.compile(r'^\\d+ bedrooms?'),\n",
    "                'beds' : re.compile(r'^\\d+ beds?'),\n",
    "                'baths' : re.compile(r'^\\d+ baths?')}\n",
    "    for div in div_list:\n",
    "        for key, val in res_dict.items():\n",
    "            if val.match(div.text):\n",
    "                attrs_dict[key] = div.text\n",
    "    return attrs_dict\n",
    "\n",
    "# Example\n",
    "# get_attrs_1_4(soup.find_all('div', {'class' : '_czm8crp'}))"
   ]
  },
  {
   "cell_type": "code",
   "execution_count": 5,
   "metadata": {
    "ExecuteTime": {
     "end_time": "2019-10-04T06:02:20.078227Z",
     "start_time": "2019-10-04T06:02:20.073861Z"
    }
   },
   "outputs": [],
   "source": [
    "def get_price(span):\n",
    "    return span.text\n",
    "\n",
    "# Example\n",
    "# get_price(soup.find('span', {'class' : '_doc79r'}))"
   ]
  },
  {
   "cell_type": "code",
   "execution_count": 6,
   "metadata": {
    "ExecuteTime": {
     "end_time": "2019-10-04T06:02:20.414215Z",
     "start_time": "2019-10-04T06:02:20.409324Z"
    }
   },
   "outputs": [],
   "source": [
    "def get_attrs_5_6(spans):\n",
    "    attrs_dict = {}\n",
    "    spans_len = len(spans)\n",
    "    for idx, span in enumerate(spans):\n",
    "        if span.text == 'Cleaning fee' and idx + 1 <= spans_len:\n",
    "            attrs_dict['clean_fee'] = spans[idx + 1].text\n",
    "        elif span.text == 'Service fee' and idx + 1 <= spans_len:\n",
    "            attrs_dict['serv_fee'] = spans[idx + 1].text\n",
    "        else:\n",
    "            pass\n",
    "    return attrs_dict\n",
    "\n",
    "# Eample\n",
    "# get_attrs_5_6(soup.find_all('span', {'class' : '_1jlnvra2'}))"
   ]
  },
  {
   "cell_type": "code",
   "execution_count": 7,
   "metadata": {
    "ExecuteTime": {
     "end_time": "2019-10-04T06:02:20.874086Z",
     "start_time": "2019-10-04T06:02:20.870408Z"
    }
   },
   "outputs": [],
   "source": [
    "def get_amenities(buttons):\n",
    "    amentities = ''\n",
    "    ams = re.compile(r'^Show all \\d+ amenities')\n",
    "    for button in buttons:\n",
    "        if ams.match(button.text):\n",
    "            amenities = button.text\n",
    "    return amenities\n",
    "\n",
    "# Example\n",
    "# get_amenities(soup.find_all('button', {'class' : '_b0ybw8s'}))"
   ]
  },
  {
   "cell_type": "code",
   "execution_count": 8,
   "metadata": {
    "ExecuteTime": {
     "end_time": "2019-10-04T06:02:21.406173Z",
     "start_time": "2019-10-04T06:02:21.401610Z"
    }
   },
   "outputs": [],
   "source": [
    "def get_lat_lon(scripts):\n",
    "    lat_lon = ''\n",
    "    ll = re.compile(r'ViewportInfoService.GetViewportInfo')\n",
    "    parse_ll = re.compile(r';1d47\\.\\d{14}&amp;2d-122\\.\\d{14}')\n",
    "    for script in scripts:\n",
    "        if ll.search(script.attrs['src']):\n",
    "            lat_lon = script.attrs['src']\n",
    "    return lat_lon\n",
    "\n",
    "# Example\n",
    "# get_lat_lon(soup.find_all('script',  {'charset' : \"UTF-8\"}))"
   ]
  },
  {
   "cell_type": "code",
   "execution_count": 9,
   "metadata": {
    "ExecuteTime": {
     "end_time": "2019-10-04T06:02:21.882009Z",
     "start_time": "2019-10-04T06:02:21.878198Z"
    }
   },
   "outputs": [],
   "source": [
    "def get_superhost(spans):\n",
    "    superhost = False\n",
    "    sh = re.compile(r'^\\w+ is a Superhost')\n",
    "    for span in spans:\n",
    "        if sh.match(span.text):\n",
    "            superhost = True\n",
    "    return superhost\n",
    "\n",
    "# Example\n",
    "# get_superhost(soup.find_all('span', {'class' : \"_1p3joamp\"}))"
   ]
  },
  {
   "cell_type": "code",
   "execution_count": 10,
   "metadata": {
    "ExecuteTime": {
     "end_time": "2019-10-04T06:02:22.772087Z",
     "start_time": "2019-10-04T06:02:22.766342Z"
    }
   },
   "outputs": [],
   "source": [
    "def get_links(driver, input_url):\n",
    "    links = []\n",
    "    prop = re.compile(r'^https://www\\.airbnb\\.com/rooms/\\d+\\?')\n",
    "    for i in range(1, 18):\n",
    "        url = fmt_url(input_url, 18, i)\n",
    "        driver.switch_to.window(window)\n",
    "        driver.get(url)\n",
    "        time.sleep(10)\n",
    "        dict_of_urls = defaultdict(int)\n",
    "        a = driver.find_elements_by_tag_name('a')\n",
    "        for element in a:\n",
    "            link = element.get_attribute('href')\n",
    "            if link and prop.match(link):\n",
    "                dict_of_urls[link] += 1\n",
    "        links += list(dict_of_urls.keys())\n",
    "    return links\n",
    "\n",
    "# Example\n",
    "# get_links(driver, URL, 1)"
   ]
  },
  {
   "cell_type": "code",
   "execution_count": 11,
   "metadata": {
    "ExecuteTime": {
     "end_time": "2019-10-04T06:02:23.328649Z",
     "start_time": "2019-10-04T06:02:23.324835Z"
    },
    "scrolled": true
   },
   "outputs": [],
   "source": [
    "# URLS we will pass in to get links to individual properties\n",
    "URL_1_GUEST = 'https://www.airbnb.com/s/Seattle--WA--United-States/homes?refinement_paths%5B%5D=%2Fhomes&current_tab_id=home_tab&selected_tab_id=home_tab&place_id=ChIJVTPokywQkFQRmtVEaUZlJRA&search_type=pagination&screen_size=large&hide_dates_and_guests_filters=false&checkin=2019-12-22&checkout=2019-12-28&adults=1&room_types%5B%5D=Entire%20home%2Fapt&s_tag=hw8cp5Pu&section_offset=5&items_offset={}&last_search_session_id=788955f0-95fc-4576-8543-ed1dcfe94ed3'\n",
    "URL_2_GUEST = 'https://www.airbnb.com/s/Seattle--WA--United-States/homes?refinement_paths%5B%5D=%2Fhomes&current_tab_id=home_tab&selected_tab_id=home_tab&place_id=ChIJVTPokywQkFQRmtVEaUZlJRA&search_type=pagination&screen_size=large&hide_dates_and_guests_filters=false&checkin=2019-12-22&checkout=2019-12-28&adults=2&room_types%5B%5D=Entire%20home%2Fapt&s_tag=M4qG3z8c&section_offset=5&items_offset={}&last_search_session_id=40094e9c-6a7b-4bf5-a60d-ad757e06c4bf'\n",
    "URL_3_GUEST = 'https://www.airbnb.com/s/Seattle--WA--United-States/homes?refinement_paths%5B%5D=%2Fhomes&current_tab_id=home_tab&selected_tab_id=home_tab&place_id=ChIJVTPokywQkFQRmtVEaUZlJRA&search_type=pagination&screen_size=large&hide_dates_and_guests_filters=false&checkin=2019-12-22&checkout=2019-12-28&adults=3&room_types%5B%5D=Entire%20home%2Fapt&s_tag=TNcnvTMZ&section_offset=5&items_offset={}&last_search_session_id=161c0850-d38d-459a-a90d-91cab7b2dff7'\n",
    "URL_4_GUEST = 'https://www.airbnb.com/s/Seattle--WA--United-States/homes?refinement_paths%5B%5D=%2Fhomes&current_tab_id=home_tab&selected_tab_id=home_tab&place_id=ChIJVTPokywQkFQRmtVEaUZlJRA&search_type=pagination&screen_size=large&hide_dates_and_guests_filters=false&checkin=2019-12-22&checkout=2019-12-28&adults=4&room_types%5B%5D=Entire%20home%2Fapt&s_tag=NCdHnnOK&section_offset=5&items_offset={}&last_search_session_id=45e6e542-db96-4fc2-8eba-7d58709bcb1e'\n",
    "url_list = [URL_1_GUEST, URL_2_GUEST, URL_3_GUEST, URL_4_GUEST]"
   ]
  },
  {
   "cell_type": "code",
   "execution_count": 12,
   "metadata": {
    "ExecuteTime": {
     "end_time": "2019-10-04T06:02:36.349630Z",
     "start_time": "2019-10-04T06:02:29.406376Z"
    }
   },
   "outputs": [],
   "source": [
    "# Create Selenium chrome browser driver instance, and an empty list to hold links\n",
    "\n",
    "driver = webdriver.Chrome()\n",
    "time.sleep(5)\n",
    "window = driver.window_handles[0]"
   ]
  },
  {
   "cell_type": "code",
   "execution_count": 13,
   "metadata": {
    "ExecuteTime": {
     "end_time": "2019-10-04T06:16:18.582838Z",
     "start_time": "2019-10-04T06:02:44.403791Z"
    }
   },
   "outputs": [
    {
     "name": "stdout",
     "output_type": "stream",
     "text": [
      "Number of links so far: 298\n",
      "Number of links so far: 594\n",
      "Number of links so far: 890\n",
      "Number of links so far: 1185\n"
     ]
    }
   ],
   "source": [
    "list_of_links = []\n",
    "for url in url_list[:]:\n",
    "    list_of_links += get_links(driver, url)\n",
    "    print('Number of links so far:', len(list_of_links))"
   ]
  },
  {
   "cell_type": "code",
   "execution_count": 14,
   "metadata": {
    "ExecuteTime": {
     "end_time": "2019-10-04T06:17:33.182339Z",
     "start_time": "2019-10-04T06:17:33.169054Z"
    }
   },
   "outputs": [
    {
     "data": {
      "text/plain": [
       "1185"
      ]
     },
     "execution_count": 14,
     "metadata": {},
     "output_type": "execute_result"
    }
   ],
   "source": [
    "len(list_of_links)"
   ]
  },
  {
   "cell_type": "code",
   "execution_count": 15,
   "metadata": {
    "ExecuteTime": {
     "end_time": "2019-10-04T06:17:36.869179Z",
     "start_time": "2019-10-04T06:17:36.862553Z"
    }
   },
   "outputs": [],
   "source": [
    "with open('../data/long_list_of_links.pkl', 'wb' ) as f:\n",
    "    pickle.dump(list_of_links, f)"
   ]
  },
  {
   "cell_type": "code",
   "execution_count": 16,
   "metadata": {
    "ExecuteTime": {
     "end_time": "2019-10-04T06:17:38.789923Z",
     "start_time": "2019-10-04T06:17:38.782904Z"
    }
   },
   "outputs": [],
   "source": [
    "lnk_df = pd.DataFrame(list_of_links, columns=['link'])"
   ]
  },
  {
   "cell_type": "code",
   "execution_count": 17,
   "metadata": {
    "ExecuteTime": {
     "end_time": "2019-10-04T06:17:41.922153Z",
     "start_time": "2019-10-04T06:17:41.903251Z"
    }
   },
   "outputs": [
    {
     "data": {
      "text/html": [
       "<div>\n",
       "<style scoped>\n",
       "    .dataframe tbody tr th:only-of-type {\n",
       "        vertical-align: middle;\n",
       "    }\n",
       "\n",
       "    .dataframe tbody tr th {\n",
       "        vertical-align: top;\n",
       "    }\n",
       "\n",
       "    .dataframe thead th {\n",
       "        text-align: right;\n",
       "    }\n",
       "</style>\n",
       "<table border=\"1\" class=\"dataframe\">\n",
       "  <thead>\n",
       "    <tr style=\"text-align: right;\">\n",
       "      <th></th>\n",
       "      <th>link</th>\n",
       "    </tr>\n",
       "  </thead>\n",
       "  <tbody>\n",
       "    <tr>\n",
       "      <td>0</td>\n",
       "      <td>https://www.airbnb.com/rooms/33079505?location...</td>\n",
       "    </tr>\n",
       "    <tr>\n",
       "      <td>1</td>\n",
       "      <td>https://www.airbnb.com/rooms/34127978?location...</td>\n",
       "    </tr>\n",
       "    <tr>\n",
       "      <td>2</td>\n",
       "      <td>https://www.airbnb.com/rooms/22750242?location...</td>\n",
       "    </tr>\n",
       "    <tr>\n",
       "      <td>3</td>\n",
       "      <td>https://www.airbnb.com/rooms/29736429?location...</td>\n",
       "    </tr>\n",
       "    <tr>\n",
       "      <td>4</td>\n",
       "      <td>https://www.airbnb.com/rooms/32822782?location...</td>\n",
       "    </tr>\n",
       "  </tbody>\n",
       "</table>\n",
       "</div>"
      ],
      "text/plain": [
       "                                                link\n",
       "0  https://www.airbnb.com/rooms/33079505?location...\n",
       "1  https://www.airbnb.com/rooms/34127978?location...\n",
       "2  https://www.airbnb.com/rooms/22750242?location...\n",
       "3  https://www.airbnb.com/rooms/29736429?location...\n",
       "4  https://www.airbnb.com/rooms/32822782?location..."
      ]
     },
     "execution_count": 17,
     "metadata": {},
     "output_type": "execute_result"
    }
   ],
   "source": [
    "lnk_df.head()"
   ]
  },
  {
   "cell_type": "code",
   "execution_count": 18,
   "metadata": {
    "ExecuteTime": {
     "end_time": "2019-10-04T06:17:42.720563Z",
     "start_time": "2019-10-04T06:17:42.711910Z"
    }
   },
   "outputs": [
    {
     "name": "stdout",
     "output_type": "stream",
     "text": [
      "<class 'pandas.core.frame.DataFrame'>\n",
      "RangeIndex: 1185 entries, 0 to 1184\n",
      "Data columns (total 1 columns):\n",
      "link    1185 non-null object\n",
      "dtypes: object(1)\n",
      "memory usage: 9.4+ KB\n"
     ]
    }
   ],
   "source": [
    "lnk_df.info()"
   ]
  },
  {
   "cell_type": "code",
   "execution_count": 19,
   "metadata": {
    "ExecuteTime": {
     "end_time": "2019-10-04T06:17:47.468520Z",
     "start_time": "2019-10-04T06:17:47.461137Z"
    }
   },
   "outputs": [],
   "source": [
    "# lnk_df['id'] = lnk_df['link'].str.extract(r\"^https://www\\.airbnb\\.com/rooms/\\d+\\?)\")\n",
    "lnk_df['id'] = lnk_df['link'].str.extract(r\"^https://www\\.airbnb\\.com/rooms/(\\d+)\")"
   ]
  },
  {
   "cell_type": "code",
   "execution_count": 20,
   "metadata": {
    "ExecuteTime": {
     "end_time": "2019-10-04T06:17:48.318031Z",
     "start_time": "2019-10-04T06:17:48.308555Z"
    }
   },
   "outputs": [
    {
     "data": {
      "text/html": [
       "<div>\n",
       "<style scoped>\n",
       "    .dataframe tbody tr th:only-of-type {\n",
       "        vertical-align: middle;\n",
       "    }\n",
       "\n",
       "    .dataframe tbody tr th {\n",
       "        vertical-align: top;\n",
       "    }\n",
       "\n",
       "    .dataframe thead th {\n",
       "        text-align: right;\n",
       "    }\n",
       "</style>\n",
       "<table border=\"1\" class=\"dataframe\">\n",
       "  <thead>\n",
       "    <tr style=\"text-align: right;\">\n",
       "      <th></th>\n",
       "      <th>link</th>\n",
       "      <th>id</th>\n",
       "    </tr>\n",
       "  </thead>\n",
       "  <tbody>\n",
       "    <tr>\n",
       "      <td>0</td>\n",
       "      <td>https://www.airbnb.com/rooms/33079505?location...</td>\n",
       "      <td>33079505</td>\n",
       "    </tr>\n",
       "    <tr>\n",
       "      <td>1</td>\n",
       "      <td>https://www.airbnb.com/rooms/34127978?location...</td>\n",
       "      <td>34127978</td>\n",
       "    </tr>\n",
       "    <tr>\n",
       "      <td>2</td>\n",
       "      <td>https://www.airbnb.com/rooms/22750242?location...</td>\n",
       "      <td>22750242</td>\n",
       "    </tr>\n",
       "    <tr>\n",
       "      <td>3</td>\n",
       "      <td>https://www.airbnb.com/rooms/29736429?location...</td>\n",
       "      <td>29736429</td>\n",
       "    </tr>\n",
       "    <tr>\n",
       "      <td>4</td>\n",
       "      <td>https://www.airbnb.com/rooms/32822782?location...</td>\n",
       "      <td>32822782</td>\n",
       "    </tr>\n",
       "    <tr>\n",
       "      <td>5</td>\n",
       "      <td>https://www.airbnb.com/rooms/30405281?location...</td>\n",
       "      <td>30405281</td>\n",
       "    </tr>\n",
       "    <tr>\n",
       "      <td>6</td>\n",
       "      <td>https://www.airbnb.com/rooms/2373176?location=...</td>\n",
       "      <td>2373176</td>\n",
       "    </tr>\n",
       "    <tr>\n",
       "      <td>7</td>\n",
       "      <td>https://www.airbnb.com/rooms/38217141?location...</td>\n",
       "      <td>38217141</td>\n",
       "    </tr>\n",
       "    <tr>\n",
       "      <td>8</td>\n",
       "      <td>https://www.airbnb.com/rooms/33735026?location...</td>\n",
       "      <td>33735026</td>\n",
       "    </tr>\n",
       "    <tr>\n",
       "      <td>9</td>\n",
       "      <td>https://www.airbnb.com/rooms/25098816?location...</td>\n",
       "      <td>25098816</td>\n",
       "    </tr>\n",
       "    <tr>\n",
       "      <td>10</td>\n",
       "      <td>https://www.airbnb.com/rooms/7457159?location=...</td>\n",
       "      <td>7457159</td>\n",
       "    </tr>\n",
       "    <tr>\n",
       "      <td>11</td>\n",
       "      <td>https://www.airbnb.com/rooms/18805419?location...</td>\n",
       "      <td>18805419</td>\n",
       "    </tr>\n",
       "    <tr>\n",
       "      <td>12</td>\n",
       "      <td>https://www.airbnb.com/rooms/5422159?location=...</td>\n",
       "      <td>5422159</td>\n",
       "    </tr>\n",
       "    <tr>\n",
       "      <td>13</td>\n",
       "      <td>https://www.airbnb.com/rooms/28411010?location...</td>\n",
       "      <td>28411010</td>\n",
       "    </tr>\n",
       "    <tr>\n",
       "      <td>14</td>\n",
       "      <td>https://www.airbnb.com/rooms/39006721?location...</td>\n",
       "      <td>39006721</td>\n",
       "    </tr>\n",
       "    <tr>\n",
       "      <td>15</td>\n",
       "      <td>https://www.airbnb.com/rooms/24352926?location...</td>\n",
       "      <td>24352926</td>\n",
       "    </tr>\n",
       "    <tr>\n",
       "      <td>16</td>\n",
       "      <td>https://www.airbnb.com/rooms/39003023?location...</td>\n",
       "      <td>39003023</td>\n",
       "    </tr>\n",
       "    <tr>\n",
       "      <td>17</td>\n",
       "      <td>https://www.airbnb.com/rooms/33348838?location...</td>\n",
       "      <td>33348838</td>\n",
       "    </tr>\n",
       "    <tr>\n",
       "      <td>18</td>\n",
       "      <td>https://www.airbnb.com/rooms/38156357?location...</td>\n",
       "      <td>38156357</td>\n",
       "    </tr>\n",
       "    <tr>\n",
       "      <td>19</td>\n",
       "      <td>https://www.airbnb.com/rooms/39003023?location...</td>\n",
       "      <td>39003023</td>\n",
       "    </tr>\n",
       "  </tbody>\n",
       "</table>\n",
       "</div>"
      ],
      "text/plain": [
       "                                                 link        id\n",
       "0   https://www.airbnb.com/rooms/33079505?location...  33079505\n",
       "1   https://www.airbnb.com/rooms/34127978?location...  34127978\n",
       "2   https://www.airbnb.com/rooms/22750242?location...  22750242\n",
       "3   https://www.airbnb.com/rooms/29736429?location...  29736429\n",
       "4   https://www.airbnb.com/rooms/32822782?location...  32822782\n",
       "5   https://www.airbnb.com/rooms/30405281?location...  30405281\n",
       "6   https://www.airbnb.com/rooms/2373176?location=...   2373176\n",
       "7   https://www.airbnb.com/rooms/38217141?location...  38217141\n",
       "8   https://www.airbnb.com/rooms/33735026?location...  33735026\n",
       "9   https://www.airbnb.com/rooms/25098816?location...  25098816\n",
       "10  https://www.airbnb.com/rooms/7457159?location=...   7457159\n",
       "11  https://www.airbnb.com/rooms/18805419?location...  18805419\n",
       "12  https://www.airbnb.com/rooms/5422159?location=...   5422159\n",
       "13  https://www.airbnb.com/rooms/28411010?location...  28411010\n",
       "14  https://www.airbnb.com/rooms/39006721?location...  39006721\n",
       "15  https://www.airbnb.com/rooms/24352926?location...  24352926\n",
       "16  https://www.airbnb.com/rooms/39003023?location...  39003023\n",
       "17  https://www.airbnb.com/rooms/33348838?location...  33348838\n",
       "18  https://www.airbnb.com/rooms/38156357?location...  38156357\n",
       "19  https://www.airbnb.com/rooms/39003023?location...  39003023"
      ]
     },
     "execution_count": 20,
     "metadata": {},
     "output_type": "execute_result"
    }
   ],
   "source": [
    "lnk_df.head(20)"
   ]
  },
  {
   "cell_type": "code",
   "execution_count": 21,
   "metadata": {
    "ExecuteTime": {
     "end_time": "2019-10-04T06:17:54.186061Z",
     "start_time": "2019-10-04T06:17:54.179030Z"
    }
   },
   "outputs": [],
   "source": [
    "lnk_df = lnk_df.drop_duplicates(subset=['id'])"
   ]
  },
  {
   "cell_type": "code",
   "execution_count": 22,
   "metadata": {
    "ExecuteTime": {
     "end_time": "2019-10-04T06:17:55.166165Z",
     "start_time": "2019-10-04T06:17:55.161440Z"
    }
   },
   "outputs": [
    {
     "data": {
      "text/plain": [
       "(547, 2)"
      ]
     },
     "execution_count": 22,
     "metadata": {},
     "output_type": "execute_result"
    }
   ],
   "source": [
    "lnk_df.shape"
   ]
  },
  {
   "cell_type": "code",
   "execution_count": 23,
   "metadata": {
    "ExecuteTime": {
     "end_time": "2019-10-04T06:17:56.623737Z",
     "start_time": "2019-10-04T06:17:56.613419Z"
    }
   },
   "outputs": [
    {
     "data": {
      "text/html": [
       "<div>\n",
       "<style scoped>\n",
       "    .dataframe tbody tr th:only-of-type {\n",
       "        vertical-align: middle;\n",
       "    }\n",
       "\n",
       "    .dataframe tbody tr th {\n",
       "        vertical-align: top;\n",
       "    }\n",
       "\n",
       "    .dataframe thead th {\n",
       "        text-align: right;\n",
       "    }\n",
       "</style>\n",
       "<table border=\"1\" class=\"dataframe\">\n",
       "  <thead>\n",
       "    <tr style=\"text-align: right;\">\n",
       "      <th></th>\n",
       "      <th>link</th>\n",
       "      <th>id</th>\n",
       "    </tr>\n",
       "  </thead>\n",
       "  <tbody>\n",
       "    <tr>\n",
       "      <td>0</td>\n",
       "      <td>https://www.airbnb.com/rooms/33079505?location...</td>\n",
       "      <td>33079505</td>\n",
       "    </tr>\n",
       "    <tr>\n",
       "      <td>1</td>\n",
       "      <td>https://www.airbnb.com/rooms/34127978?location...</td>\n",
       "      <td>34127978</td>\n",
       "    </tr>\n",
       "    <tr>\n",
       "      <td>2</td>\n",
       "      <td>https://www.airbnb.com/rooms/22750242?location...</td>\n",
       "      <td>22750242</td>\n",
       "    </tr>\n",
       "    <tr>\n",
       "      <td>3</td>\n",
       "      <td>https://www.airbnb.com/rooms/29736429?location...</td>\n",
       "      <td>29736429</td>\n",
       "    </tr>\n",
       "    <tr>\n",
       "      <td>4</td>\n",
       "      <td>https://www.airbnb.com/rooms/32822782?location...</td>\n",
       "      <td>32822782</td>\n",
       "    </tr>\n",
       "    <tr>\n",
       "      <td>...</td>\n",
       "      <td>...</td>\n",
       "      <td>...</td>\n",
       "    </tr>\n",
       "    <tr>\n",
       "      <td>1178</td>\n",
       "      <td>https://www.airbnb.com/rooms/24129466?location...</td>\n",
       "      <td>24129466</td>\n",
       "    </tr>\n",
       "    <tr>\n",
       "      <td>1179</td>\n",
       "      <td>https://www.airbnb.com/rooms/37853356?location...</td>\n",
       "      <td>37853356</td>\n",
       "    </tr>\n",
       "    <tr>\n",
       "      <td>1180</td>\n",
       "      <td>https://www.airbnb.com/rooms/34572158?location...</td>\n",
       "      <td>34572158</td>\n",
       "    </tr>\n",
       "    <tr>\n",
       "      <td>1182</td>\n",
       "      <td>https://www.airbnb.com/rooms/10475901?location...</td>\n",
       "      <td>10475901</td>\n",
       "    </tr>\n",
       "    <tr>\n",
       "      <td>1184</td>\n",
       "      <td>https://www.airbnb.com/rooms/19556655?location...</td>\n",
       "      <td>19556655</td>\n",
       "    </tr>\n",
       "  </tbody>\n",
       "</table>\n",
       "<p>547 rows × 2 columns</p>\n",
       "</div>"
      ],
      "text/plain": [
       "                                                   link        id\n",
       "0     https://www.airbnb.com/rooms/33079505?location...  33079505\n",
       "1     https://www.airbnb.com/rooms/34127978?location...  34127978\n",
       "2     https://www.airbnb.com/rooms/22750242?location...  22750242\n",
       "3     https://www.airbnb.com/rooms/29736429?location...  29736429\n",
       "4     https://www.airbnb.com/rooms/32822782?location...  32822782\n",
       "...                                                 ...       ...\n",
       "1178  https://www.airbnb.com/rooms/24129466?location...  24129466\n",
       "1179  https://www.airbnb.com/rooms/37853356?location...  37853356\n",
       "1180  https://www.airbnb.com/rooms/34572158?location...  34572158\n",
       "1182  https://www.airbnb.com/rooms/10475901?location...  10475901\n",
       "1184  https://www.airbnb.com/rooms/19556655?location...  19556655\n",
       "\n",
       "[547 rows x 2 columns]"
      ]
     },
     "execution_count": 23,
     "metadata": {},
     "output_type": "execute_result"
    }
   ],
   "source": [
    "lnk_df"
   ]
  },
  {
   "cell_type": "code",
   "execution_count": null,
   "metadata": {},
   "outputs": [],
   "source": []
  }
 ],
 "metadata": {
  "kernelspec": {
   "display_name": "Python [conda env:metis] *",
   "language": "python",
   "name": "conda-env-metis-py"
  },
  "language_info": {
   "codemirror_mode": {
    "name": "ipython",
    "version": 3
   },
   "file_extension": ".py",
   "mimetype": "text/x-python",
   "name": "python",
   "nbconvert_exporter": "python",
   "pygments_lexer": "ipython3",
   "version": "3.7.3"
  },
  "toc": {
   "base_numbering": 1,
   "nav_menu": {},
   "number_sections": true,
   "sideBar": true,
   "skip_h1_title": false,
   "title_cell": "Table of Contents",
   "title_sidebar": "Contents",
   "toc_cell": false,
   "toc_position": {},
   "toc_section_display": true,
   "toc_window_display": false
  }
 },
 "nbformat": 4,
 "nbformat_minor": 2
}
