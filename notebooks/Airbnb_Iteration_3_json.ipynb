{
 "cells": [
  {
   "cell_type": "code",
   "execution_count": 1,
   "metadata": {
    "ExecuteTime": {
     "end_time": "2019-10-11T05:15:36.817460Z",
     "start_time": "2019-10-11T05:15:35.779836Z"
    }
   },
   "outputs": [],
   "source": [
    "# Imports\n",
    "from selenium import webdriver\n",
    "from selenium.webdriver.common.keys import Keys\n",
    "from bs4 import BeautifulSoup\n",
    "import requests\n",
    "import time\n",
    "import sys\n",
    "import chromedriver_binary\n",
    "import re\n",
    "from collections import defaultdict\n",
    "from glob import glob\n",
    "import pickle\n",
    "import pandas as pd\n",
    "import numpy as np\n",
    "import json"
   ]
  },
  {
   "cell_type": "code",
   "execution_count": 2,
   "metadata": {
    "ExecuteTime": {
     "end_time": "2019-10-11T05:15:36.825285Z",
     "start_time": "2019-10-11T05:15:36.819281Z"
    }
   },
   "outputs": [],
   "source": [
    "def build_prop(info_dict, price_list):\n",
    "    \"\"\"Builds a property listing from the dictionaries passed into it.\n",
    "    \n",
    "    Inputs: info_dict, a dictionary containing property information.\n",
    "            price_list, a list of dictionaries with pricing information.\n",
    "    \n",
    "    Outputs: A complete property listing.\"\"\"\n",
    "    prop = defaultdict(str)\n",
    "    listing_keys = ['bathrooms', 'bedrooms', 'beds', 'id', 'is_superhost', 'lat', 'lng',\n",
    "             'person_capacity', 'picture_count', 'preview_amenity_names']\n",
    "    try:\n",
    "        for item in listing_keys:\n",
    "            prop[item] = info_dict[item]\n",
    "        for item in price_list:\n",
    "            if re.match(r'\\$\\d+ x \\d+ nights', item['localized_title']):\n",
    "                prop['price'] = item['localized_title']\n",
    "            elif re.match(r'Cleaning fee', item['localized_title']):\n",
    "                prop['cleaning_fee'] = item['total']['amount']\n",
    "            else:\n",
    "                pass\n",
    "    except:\n",
    "        return None\n",
    "    return prop"
   ]
  },
  {
   "cell_type": "code",
   "execution_count": 3,
   "metadata": {
    "ExecuteTime": {
     "end_time": "2019-10-11T05:15:36.830541Z",
     "start_time": "2019-10-11T05:15:36.827413Z"
    }
   },
   "outputs": [],
   "source": [
    "def fmt_url(url_string, items_per_page, page_nbr):\n",
    "    \"\"\"Formats a URL by inserting page offset numbers into it. Inserting the page\n",
    "    offset allows for iteration through Airbnb listings.\"\"\"\n",
    "    offset = (items_per_page * (page_nbr - 1))\n",
    "    return url_string.format(offset)"
   ]
  },
  {
   "cell_type": "code",
   "execution_count": 4,
   "metadata": {
    "ExecuteTime": {
     "end_time": "2019-10-11T05:15:36.837100Z",
     "start_time": "2019-10-11T05:15:36.833015Z"
    }
   },
   "outputs": [],
   "source": [
    "def get_property_info(driver, link):\n",
    "    \"\"\"Loads a web page with a selenium driver, and returns a Beautifulsoup object\n",
    "    of the page source.\"\"\"\n",
    "    driver.switch_to.window(driver.window_handles[0])\n",
    "    driver.get(link)\n",
    "    time.sleep(10)\n",
    "    soup = BeautifulSoup(driver.page_source, \"lxml\")\n",
    "    return soup\n",
    "\n",
    "# Example\n",
    "# soup = get_property_info(driver, 'https://www.airbnb.com/')"
   ]
  },
  {
   "cell_type": "code",
   "execution_count": 5,
   "metadata": {
    "ExecuteTime": {
     "end_time": "2019-10-11T05:15:36.844768Z",
     "start_time": "2019-10-11T05:15:36.838623Z"
    }
   },
   "outputs": [],
   "source": [
    "def get_properties(s_driver, input_url):\n",
    "    \"\"\"Iterates through the listings of an Airbnb query. The query is defined by the inpout URL.\n",
    "    Information about each property on a page is gathered and saved as a pandas DataFrame object.\"\"\"\n",
    "    properties = []\n",
    "    for i in range(1, 18):\n",
    "        url = fmt_url(input_url, 18, i)\n",
    "        s_driver.switch_to.window(window)\n",
    "        s_driver.get(url)\n",
    "        time.sleep(5)\n",
    "        bs = BeautifulSoup(s_driver.page_source)\n",
    "        json_obj = bs.find_all('script', {'id' : \"data-state\", 'data-state' : \"true\",\n",
    "                                          'type' :\"application/json\"})\n",
    "        jso = json.loads(json_obj[0].text)\n",
    "        listings = jso['bootstrapData']['reduxData']['exploreTab']['response']['explore_tabs'][0]['sections'][0]['listings']\n",
    "        for listing in listings:\n",
    "            prop_dict = build_prop(listing['listing'], listing['pricing_quote']['price']['price_items'])\n",
    "            if prop_dict:\n",
    "                properties.append(pd.DataFrame(prop_dict))\n",
    "    return properties"
   ]
  },
  {
   "cell_type": "code",
   "execution_count": 6,
   "metadata": {
    "ExecuteTime": {
     "end_time": "2019-10-11T05:15:36.849801Z",
     "start_time": "2019-10-11T05:15:36.846440Z"
    },
    "scrolled": true
   },
   "outputs": [],
   "source": [
    "# URLS we will pass in to get links to individual properties\n",
    "URL_0_BR = 'https://www.airbnb.com/s/Bogot%C3%A1-~-Bogota--Colombia/homes?refinement_paths%5B%5D=%2Fhomes&current_tab_id=home_tab&selected_tab_id=home_tab&place_id=ChIJKcumLf2bP44RFDmjIFVjnSM&source=mc_search_bar&search_type=pagination&screen_size=large&hide_dates_and_guests_filters=true&checkin=2019-12-22&checkout=2019-12-28&price_min=0&price_max=20&room_types%5B%5D=Entire%20home%2Fapt&s_tag=FX0YwQiV&section_offset=4&items_offset={}&last_search_session_id=b86d3d59-81d2-4d20-be92-c69deac30a4b'\n",
    "URL_1_BR = 'https://www.airbnb.com/s/Bogot%C3%A1-~-Bogota--Colombia/homes?refinement_paths%5B%5D=%2Fhomes&current_tab_id=home_tab&selected_tab_id=home_tab&place_id=ChIJKcumLf2bP44RFDmjIFVjnSM&source=mc_search_bar&search_type=pagination&screen_size=large&hide_dates_and_guests_filters=true&checkin=2019-12-22&checkout=2019-12-28&price_min=21&price_max=40&room_types%5B%5D=Entire%20home%2Fapt&s_tag=FX0YwQiV&section_offset=4&items_offset={}&last_search_session_id=b86d3d59-81d2-4d20-be92-c69deac30a4b'\n",
    "URL_2_BR = 'https://www.airbnb.com/s/Bogot%C3%A1-~-Bogota--Colombia/homes?refinement_paths%5B%5D=%2Fhomes&current_tab_id=home_tab&selected_tab_id=home_tab&place_id=ChIJKcumLf2bP44RFDmjIFVjnSM&source=mc_search_bar&search_type=pagination&screen_size=large&hide_dates_and_guests_filters=true&checkin=2019-12-22&checkout=2019-12-28&price_min=41&price_max=60&room_types%5B%5D=Entire%20home%2Fapt&s_tag=FX0YwQiV&section_offset=4&items_offset={}&last_search_session_id=b86d3d59-81d2-4d20-be92-c69deac30a4b'\n",
    "URL_3_BR = 'https://www.airbnb.com/s/Bogot%C3%A1-~-Bogota--Colombia/homes?refinement_paths%5B%5D=%2Fhomes&current_tab_id=home_tab&selected_tab_id=home_tab&place_id=ChIJKcumLf2bP44RFDmjIFVjnSM&source=mc_search_bar&search_type=pagination&screen_size=large&hide_dates_and_guests_filters=true&checkin=2019-12-22&checkout=2019-12-28&price_min=61&price_max=80&room_types%5B%5D=Entire%20home%2Fapt&s_tag=FX0YwQiV&section_offset=4&items_offset={}&last_search_session_id=b86d3d59-81d2-4d20-be92-c69deac30a4b'\n",
    "URL_4_BR = 'https://www.airbnb.com/s/Bogot%C3%A1-~-Bogota--Colombia/homes?refinement_paths%5B%5D=%2Fhomes&current_tab_id=home_tab&selected_tab_id=home_tab&place_id=ChIJKcumLf2bP44RFDmjIFVjnSM&source=mc_search_bar&search_type=pagination&screen_size=large&hide_dates_and_guests_filters=true&checkin=2019-12-22&checkout=2019-12-28&price_min=81&price_max=120&room_types%5B%5D=Entire%20home%2Fapt&s_tag=FX0YwQiV&section_offset=4&items_offset={}&last_search_session_id=b86d3d59-81d2-4d20-be92-c69deac30a4b'\n",
    "url_list = [URL_0_BR, URL_1_BR, URL_2_BR, URL_3_BR, URL_4_BR]"
   ]
  },
  {
   "cell_type": "code",
   "execution_count": 7,
   "metadata": {
    "ExecuteTime": {
     "end_time": "2019-10-11T05:15:44.135271Z",
     "start_time": "2019-10-11T05:15:36.851358Z"
    }
   },
   "outputs": [],
   "source": [
    "# Create Selenium chrome browser driver instance, and an empty list to hold links\n",
    "driver = webdriver.Chrome()\n",
    "time.sleep(5)\n",
    "window = driver.window_handles[0]"
   ]
  },
  {
   "cell_type": "code",
   "execution_count": 8,
   "metadata": {
    "ExecuteTime": {
     "end_time": "2019-10-11T05:15:52.021418Z",
     "start_time": "2019-10-11T05:15:44.139419Z"
    }
   },
   "outputs": [],
   "source": [
    "# Get all the properties by iterating through all the URLs.\n",
    "list_of_links = []\n",
    "for url in url_list[:]:\n",
    "    list_of_links += get_properties(driver, url)"
   ]
  },
  {
   "cell_type": "code",
   "execution_count": 9,
   "metadata": {
    "ExecuteTime": {
     "end_time": "2019-10-11T05:15:52.042947Z",
     "start_time": "2019-10-11T05:15:52.023529Z"
    }
   },
   "outputs": [],
   "source": [
    "# Concatenate the DataFrames together into a single dataframe\n",
    "stays = pd.concat(list_of_links, sort=True)"
   ]
  },
  {
   "cell_type": "code",
   "execution_count": 10,
   "metadata": {
    "ExecuteTime": {
     "end_time": "2019-10-11T05:15:52.064140Z",
     "start_time": "2019-10-11T05:15:52.044132Z"
    }
   },
   "outputs": [
    {
     "data": {
      "text/html": [
       "<div>\n",
       "<style scoped>\n",
       "    .dataframe tbody tr th:only-of-type {\n",
       "        vertical-align: middle;\n",
       "    }\n",
       "\n",
       "    .dataframe tbody tr th {\n",
       "        vertical-align: top;\n",
       "    }\n",
       "\n",
       "    .dataframe thead th {\n",
       "        text-align: right;\n",
       "    }\n",
       "</style>\n",
       "<table border=\"1\" class=\"dataframe\">\n",
       "  <thead>\n",
       "    <tr style=\"text-align: right;\">\n",
       "      <th></th>\n",
       "      <th>bathrooms</th>\n",
       "      <th>bedrooms</th>\n",
       "      <th>beds</th>\n",
       "      <th>cleaning_fee</th>\n",
       "      <th>id</th>\n",
       "      <th>is_superhost</th>\n",
       "      <th>lat</th>\n",
       "      <th>lng</th>\n",
       "      <th>person_capacity</th>\n",
       "      <th>picture_count</th>\n",
       "      <th>preview_amenity_names</th>\n",
       "      <th>price</th>\n",
       "    </tr>\n",
       "  </thead>\n",
       "  <tbody>\n",
       "    <tr>\n",
       "      <td>0</td>\n",
       "      <td>1.0</td>\n",
       "      <td>1</td>\n",
       "      <td>1</td>\n",
       "      <td>12.0</td>\n",
       "      <td>37721845</td>\n",
       "      <td>False</td>\n",
       "      <td>4.63778</td>\n",
       "      <td>-74.06339</td>\n",
       "      <td>2</td>\n",
       "      <td>1</td>\n",
       "      <td>Wifi</td>\n",
       "      <td>$12 x 6 nights</td>\n",
       "    </tr>\n",
       "    <tr>\n",
       "      <td>1</td>\n",
       "      <td>1.0</td>\n",
       "      <td>1</td>\n",
       "      <td>1</td>\n",
       "      <td>12.0</td>\n",
       "      <td>37721845</td>\n",
       "      <td>False</td>\n",
       "      <td>4.63778</td>\n",
       "      <td>-74.06339</td>\n",
       "      <td>2</td>\n",
       "      <td>1</td>\n",
       "      <td>Kitchen</td>\n",
       "      <td>$12 x 6 nights</td>\n",
       "    </tr>\n",
       "    <tr>\n",
       "      <td>2</td>\n",
       "      <td>1.0</td>\n",
       "      <td>1</td>\n",
       "      <td>1</td>\n",
       "      <td>12.0</td>\n",
       "      <td>37721845</td>\n",
       "      <td>False</td>\n",
       "      <td>4.63778</td>\n",
       "      <td>-74.06339</td>\n",
       "      <td>2</td>\n",
       "      <td>1</td>\n",
       "      <td>Washer</td>\n",
       "      <td>$12 x 6 nights</td>\n",
       "    </tr>\n",
       "    <tr>\n",
       "      <td>0</td>\n",
       "      <td>1.0</td>\n",
       "      <td>1</td>\n",
       "      <td>1</td>\n",
       "      <td>NaN</td>\n",
       "      <td>21240481</td>\n",
       "      <td>False</td>\n",
       "      <td>4.59605</td>\n",
       "      <td>-74.06950</td>\n",
       "      <td>2</td>\n",
       "      <td>12</td>\n",
       "      <td>Wifi</td>\n",
       "      <td>$15 x 6 nights</td>\n",
       "    </tr>\n",
       "    <tr>\n",
       "      <td>1</td>\n",
       "      <td>1.0</td>\n",
       "      <td>1</td>\n",
       "      <td>1</td>\n",
       "      <td>NaN</td>\n",
       "      <td>21240481</td>\n",
       "      <td>False</td>\n",
       "      <td>4.59605</td>\n",
       "      <td>-74.06950</td>\n",
       "      <td>2</td>\n",
       "      <td>12</td>\n",
       "      <td>Kitchen</td>\n",
       "      <td>$15 x 6 nights</td>\n",
       "    </tr>\n",
       "  </tbody>\n",
       "</table>\n",
       "</div>"
      ],
      "text/plain": [
       "   bathrooms  bedrooms  beds  cleaning_fee        id  is_superhost      lat  \\\n",
       "0        1.0         1     1          12.0  37721845         False  4.63778   \n",
       "1        1.0         1     1          12.0  37721845         False  4.63778   \n",
       "2        1.0         1     1          12.0  37721845         False  4.63778   \n",
       "0        1.0         1     1           NaN  21240481         False  4.59605   \n",
       "1        1.0         1     1           NaN  21240481         False  4.59605   \n",
       "\n",
       "        lng  person_capacity  picture_count preview_amenity_names  \\\n",
       "0 -74.06339                2              1                  Wifi   \n",
       "1 -74.06339                2              1               Kitchen   \n",
       "2 -74.06339                2              1                Washer   \n",
       "0 -74.06950                2             12                  Wifi   \n",
       "1 -74.06950                2             12               Kitchen   \n",
       "\n",
       "            price  \n",
       "0  $12 x 6 nights  \n",
       "1  $12 x 6 nights  \n",
       "2  $12 x 6 nights  \n",
       "0  $15 x 6 nights  \n",
       "1  $15 x 6 nights  "
      ]
     },
     "execution_count": 10,
     "metadata": {},
     "output_type": "execute_result"
    }
   ],
   "source": [
    "stays.head()"
   ]
  },
  {
   "cell_type": "code",
   "execution_count": 11,
   "metadata": {
    "ExecuteTime": {
     "end_time": "2019-10-11T05:15:52.147503Z",
     "start_time": "2019-10-11T05:15:52.065563Z"
    }
   },
   "outputs": [],
   "source": [
    "# Get dummies from the 'preview_amenity_names' column.\n",
    "stays2 = pd.get_dummies(stays, columns=['preview_amenity_names']).groupby('id').max()"
   ]
  },
  {
   "cell_type": "code",
   "execution_count": 12,
   "metadata": {
    "ExecuteTime": {
     "end_time": "2019-10-11T05:15:52.391433Z",
     "start_time": "2019-10-11T05:15:52.149285Z"
    }
   },
   "outputs": [],
   "source": [
    "# Save the dataframe so data isn't lost.\n",
    "stays2.to_csv('../data/bogota_stays2.csv', index=False)"
   ]
  },
  {
   "cell_type": "code",
   "execution_count": 13,
   "metadata": {
    "ExecuteTime": {
     "end_time": "2019-10-11T05:15:52.397098Z",
     "start_time": "2019-10-11T05:15:52.392497Z"
    }
   },
   "outputs": [],
   "source": [
    "# Save the original dataframe so data isn't lost.\n",
    "stays.to_csv('../data/bogota_stays.csv', index=False)"
   ]
  },
  {
   "cell_type": "code",
   "execution_count": 14,
   "metadata": {
    "ExecuteTime": {
     "end_time": "2019-10-11T05:15:52.409838Z",
     "start_time": "2019-10-11T05:15:52.398349Z"
    }
   },
   "outputs": [
    {
     "data": {
      "text/html": [
       "<div>\n",
       "<style scoped>\n",
       "    .dataframe tbody tr th:only-of-type {\n",
       "        vertical-align: middle;\n",
       "    }\n",
       "\n",
       "    .dataframe tbody tr th {\n",
       "        vertical-align: top;\n",
       "    }\n",
       "\n",
       "    .dataframe thead th {\n",
       "        text-align: right;\n",
       "    }\n",
       "</style>\n",
       "<table border=\"1\" class=\"dataframe\">\n",
       "  <thead>\n",
       "    <tr style=\"text-align: right;\">\n",
       "      <th></th>\n",
       "      <th>id</th>\n",
       "      <th>bathrooms</th>\n",
       "      <th>bedrooms</th>\n",
       "      <th>beds</th>\n",
       "      <th>cleaning_fee</th>\n",
       "      <th>is_superhost</th>\n",
       "      <th>lat</th>\n",
       "      <th>lng</th>\n",
       "      <th>person_capacity</th>\n",
       "      <th>picture_count</th>\n",
       "      <th>price</th>\n",
       "      <th>preview_amenity_names_Free parking</th>\n",
       "      <th>preview_amenity_names_Kitchen</th>\n",
       "      <th>preview_amenity_names_Washer</th>\n",
       "      <th>preview_amenity_names_Wifi</th>\n",
       "    </tr>\n",
       "  </thead>\n",
       "  <tbody>\n",
       "    <tr>\n",
       "      <td>0</td>\n",
       "      <td>4454536</td>\n",
       "      <td>1.5</td>\n",
       "      <td>0</td>\n",
       "      <td>1</td>\n",
       "      <td>25.0</td>\n",
       "      <td>False</td>\n",
       "      <td>4.64272</td>\n",
       "      <td>-74.064240</td>\n",
       "      <td>1</td>\n",
       "      <td>43</td>\n",
       "      <td>$14 x 6 nights</td>\n",
       "      <td>0</td>\n",
       "      <td>1</td>\n",
       "      <td>1</td>\n",
       "      <td>1</td>\n",
       "    </tr>\n",
       "    <tr>\n",
       "      <td>1</td>\n",
       "      <td>15874696</td>\n",
       "      <td>1.5</td>\n",
       "      <td>1</td>\n",
       "      <td>1</td>\n",
       "      <td>5.0</td>\n",
       "      <td>False</td>\n",
       "      <td>4.65144</td>\n",
       "      <td>-74.074520</td>\n",
       "      <td>2</td>\n",
       "      <td>10</td>\n",
       "      <td>$15 x 6 nights</td>\n",
       "      <td>0</td>\n",
       "      <td>1</td>\n",
       "      <td>0</td>\n",
       "      <td>1</td>\n",
       "    </tr>\n",
       "    <tr>\n",
       "      <td>2</td>\n",
       "      <td>21240481</td>\n",
       "      <td>1.0</td>\n",
       "      <td>1</td>\n",
       "      <td>1</td>\n",
       "      <td>NaN</td>\n",
       "      <td>False</td>\n",
       "      <td>4.59605</td>\n",
       "      <td>-74.069500</td>\n",
       "      <td>2</td>\n",
       "      <td>12</td>\n",
       "      <td>$15 x 6 nights</td>\n",
       "      <td>0</td>\n",
       "      <td>1</td>\n",
       "      <td>1</td>\n",
       "      <td>1</td>\n",
       "    </tr>\n",
       "    <tr>\n",
       "      <td>3</td>\n",
       "      <td>23634117</td>\n",
       "      <td>1.0</td>\n",
       "      <td>1</td>\n",
       "      <td>3</td>\n",
       "      <td>6.0</td>\n",
       "      <td>False</td>\n",
       "      <td>4.63359</td>\n",
       "      <td>-74.094322</td>\n",
       "      <td>5</td>\n",
       "      <td>7</td>\n",
       "      <td>$13 x 6 nights</td>\n",
       "      <td>1</td>\n",
       "      <td>0</td>\n",
       "      <td>0</td>\n",
       "      <td>1</td>\n",
       "    </tr>\n",
       "    <tr>\n",
       "      <td>4</td>\n",
       "      <td>24918902</td>\n",
       "      <td>1.0</td>\n",
       "      <td>0</td>\n",
       "      <td>1</td>\n",
       "      <td>NaN</td>\n",
       "      <td>True</td>\n",
       "      <td>4.61267</td>\n",
       "      <td>-74.071190</td>\n",
       "      <td>2</td>\n",
       "      <td>18</td>\n",
       "      <td>$15 x 6 nights</td>\n",
       "      <td>0</td>\n",
       "      <td>1</td>\n",
       "      <td>0</td>\n",
       "      <td>1</td>\n",
       "    </tr>\n",
       "  </tbody>\n",
       "</table>\n",
       "</div>"
      ],
      "text/plain": [
       "         id  bathrooms  bedrooms  beds  cleaning_fee  is_superhost      lat  \\\n",
       "0   4454536        1.5         0     1          25.0         False  4.64272   \n",
       "1  15874696        1.5         1     1           5.0         False  4.65144   \n",
       "2  21240481        1.0         1     1           NaN         False  4.59605   \n",
       "3  23634117        1.0         1     3           6.0         False  4.63359   \n",
       "4  24918902        1.0         0     1           NaN          True  4.61267   \n",
       "\n",
       "         lng  person_capacity  picture_count           price  \\\n",
       "0 -74.064240                1             43  $14 x 6 nights   \n",
       "1 -74.074520                2             10  $15 x 6 nights   \n",
       "2 -74.069500                2             12  $15 x 6 nights   \n",
       "3 -74.094322                5              7  $13 x 6 nights   \n",
       "4 -74.071190                2             18  $15 x 6 nights   \n",
       "\n",
       "   preview_amenity_names_Free parking  preview_amenity_names_Kitchen  \\\n",
       "0                                   0                              1   \n",
       "1                                   0                              1   \n",
       "2                                   0                              1   \n",
       "3                                   1                              0   \n",
       "4                                   0                              1   \n",
       "\n",
       "   preview_amenity_names_Washer  preview_amenity_names_Wifi  \n",
       "0                             1                           1  \n",
       "1                             0                           1  \n",
       "2                             1                           1  \n",
       "3                             0                           1  \n",
       "4                             0                           1  "
      ]
     },
     "execution_count": 14,
     "metadata": {},
     "output_type": "execute_result"
    }
   ],
   "source": [
    "stays2.reset_index(inplace=True)\n",
    "stays2.head()"
   ]
  },
  {
   "cell_type": "code",
   "execution_count": 15,
   "metadata": {
    "ExecuteTime": {
     "end_time": "2019-10-11T05:15:52.412903Z",
     "start_time": "2019-10-11T05:15:52.411015Z"
    }
   },
   "outputs": [],
   "source": [
    "# La candelaria: 4.591722 -74.07413"
   ]
  },
  {
   "cell_type": "code",
   "execution_count": 16,
   "metadata": {
    "ExecuteTime": {
     "end_time": "2019-10-11T05:15:52.418227Z",
     "start_time": "2019-10-11T05:15:52.414440Z"
    }
   },
   "outputs": [],
   "source": [
    "# Extract the prices as a float\n",
    "stays2['price_numeric'] = stays2['price'].str.extract(r'\\$(\\d+) x 6 nights').astype(float)"
   ]
  },
  {
   "cell_type": "code",
   "execution_count": 17,
   "metadata": {
    "ExecuteTime": {
     "end_time": "2019-10-11T05:15:52.422238Z",
     "start_time": "2019-10-11T05:15:52.419646Z"
    }
   },
   "outputs": [],
   "source": [
    "# Some properties don't have cleaning fees so fill those with zeros\n",
    "stays2['cleaning_fee'] = stays2['cleaning_fee'].fillna(0)"
   ]
  },
  {
   "cell_type": "code",
   "execution_count": 22,
   "metadata": {
    "ExecuteTime": {
     "end_time": "2019-10-11T06:04:11.354018Z",
     "start_time": "2019-10-11T06:04:11.348283Z"
    }
   },
   "outputs": [],
   "source": [
    "# Create a basic distance measure by applying the distance formula to the latitude and longitude\n",
    "stays2['linear_distance'] = np.sqrt(np.power(stays2['lat'] - 4.591722, 2) + np.power((stays2['lng'] - (-74.0741)) * np.cos(stays2['lat']), 2))\n",
    "stays2['is_superhost'] = stays2['is_superhost'].astype(int)"
   ]
  },
  {
   "cell_type": "code",
   "execution_count": null,
   "metadata": {},
   "outputs": [],
   "source": []
  },
  {
   "cell_type": "code",
   "execution_count": 19,
   "metadata": {
    "ExecuteTime": {
     "end_time": "2019-10-11T05:15:52.444301Z",
     "start_time": "2019-10-11T05:15:52.430900Z"
    }
   },
   "outputs": [
    {
     "data": {
      "text/html": [
       "<div>\n",
       "<style scoped>\n",
       "    .dataframe tbody tr th:only-of-type {\n",
       "        vertical-align: middle;\n",
       "    }\n",
       "\n",
       "    .dataframe tbody tr th {\n",
       "        vertical-align: top;\n",
       "    }\n",
       "\n",
       "    .dataframe thead th {\n",
       "        text-align: right;\n",
       "    }\n",
       "</style>\n",
       "<table border=\"1\" class=\"dataframe\">\n",
       "  <thead>\n",
       "    <tr style=\"text-align: right;\">\n",
       "      <th></th>\n",
       "      <th>id</th>\n",
       "      <th>bathrooms</th>\n",
       "      <th>bedrooms</th>\n",
       "      <th>beds</th>\n",
       "      <th>cleaning_fee</th>\n",
       "      <th>is_superhost</th>\n",
       "      <th>lat</th>\n",
       "      <th>lng</th>\n",
       "      <th>person_capacity</th>\n",
       "      <th>picture_count</th>\n",
       "      <th>price</th>\n",
       "      <th>preview_amenity_names_Free parking</th>\n",
       "      <th>preview_amenity_names_Kitchen</th>\n",
       "      <th>preview_amenity_names_Washer</th>\n",
       "      <th>preview_amenity_names_Wifi</th>\n",
       "      <th>price_numeric</th>\n",
       "      <th>linear_distance</th>\n",
       "    </tr>\n",
       "  </thead>\n",
       "  <tbody>\n",
       "    <tr>\n",
       "      <td>0</td>\n",
       "      <td>4454536</td>\n",
       "      <td>1.5</td>\n",
       "      <td>0</td>\n",
       "      <td>1</td>\n",
       "      <td>25.0</td>\n",
       "      <td>0</td>\n",
       "      <td>4.64272</td>\n",
       "      <td>-74.064240</td>\n",
       "      <td>1</td>\n",
       "      <td>43</td>\n",
       "      <td>$14 x 6 nights</td>\n",
       "      <td>0</td>\n",
       "      <td>1</td>\n",
       "      <td>1</td>\n",
       "      <td>1</td>\n",
       "      <td>14.0</td>\n",
       "      <td>0.051942</td>\n",
       "    </tr>\n",
       "    <tr>\n",
       "      <td>1</td>\n",
       "      <td>15874696</td>\n",
       "      <td>1.5</td>\n",
       "      <td>1</td>\n",
       "      <td>1</td>\n",
       "      <td>5.0</td>\n",
       "      <td>0</td>\n",
       "      <td>4.65144</td>\n",
       "      <td>-74.074520</td>\n",
       "      <td>2</td>\n",
       "      <td>10</td>\n",
       "      <td>$15 x 6 nights</td>\n",
       "      <td>0</td>\n",
       "      <td>1</td>\n",
       "      <td>0</td>\n",
       "      <td>1</td>\n",
       "      <td>15.0</td>\n",
       "      <td>0.059719</td>\n",
       "    </tr>\n",
       "    <tr>\n",
       "      <td>2</td>\n",
       "      <td>21240481</td>\n",
       "      <td>1.0</td>\n",
       "      <td>1</td>\n",
       "      <td>1</td>\n",
       "      <td>0.0</td>\n",
       "      <td>0</td>\n",
       "      <td>4.59605</td>\n",
       "      <td>-74.069500</td>\n",
       "      <td>2</td>\n",
       "      <td>12</td>\n",
       "      <td>$15 x 6 nights</td>\n",
       "      <td>0</td>\n",
       "      <td>1</td>\n",
       "      <td>1</td>\n",
       "      <td>1</td>\n",
       "      <td>15.0</td>\n",
       "      <td>0.006316</td>\n",
       "    </tr>\n",
       "    <tr>\n",
       "      <td>3</td>\n",
       "      <td>23634117</td>\n",
       "      <td>1.0</td>\n",
       "      <td>1</td>\n",
       "      <td>3</td>\n",
       "      <td>6.0</td>\n",
       "      <td>0</td>\n",
       "      <td>4.63359</td>\n",
       "      <td>-74.094322</td>\n",
       "      <td>5</td>\n",
       "      <td>7</td>\n",
       "      <td>$13 x 6 nights</td>\n",
       "      <td>1</td>\n",
       "      <td>0</td>\n",
       "      <td>0</td>\n",
       "      <td>1</td>\n",
       "      <td>13.0</td>\n",
       "      <td>0.046496</td>\n",
       "    </tr>\n",
       "    <tr>\n",
       "      <td>4</td>\n",
       "      <td>24918902</td>\n",
       "      <td>1.0</td>\n",
       "      <td>0</td>\n",
       "      <td>1</td>\n",
       "      <td>0.0</td>\n",
       "      <td>1</td>\n",
       "      <td>4.61267</td>\n",
       "      <td>-74.071190</td>\n",
       "      <td>2</td>\n",
       "      <td>18</td>\n",
       "      <td>$15 x 6 nights</td>\n",
       "      <td>0</td>\n",
       "      <td>1</td>\n",
       "      <td>0</td>\n",
       "      <td>1</td>\n",
       "      <td>15.0</td>\n",
       "      <td>0.021149</td>\n",
       "    </tr>\n",
       "  </tbody>\n",
       "</table>\n",
       "</div>"
      ],
      "text/plain": [
       "         id  bathrooms  bedrooms  beds  cleaning_fee  is_superhost      lat  \\\n",
       "0   4454536        1.5         0     1          25.0             0  4.64272   \n",
       "1  15874696        1.5         1     1           5.0             0  4.65144   \n",
       "2  21240481        1.0         1     1           0.0             0  4.59605   \n",
       "3  23634117        1.0         1     3           6.0             0  4.63359   \n",
       "4  24918902        1.0         0     1           0.0             1  4.61267   \n",
       "\n",
       "         lng  person_capacity  picture_count           price  \\\n",
       "0 -74.064240                1             43  $14 x 6 nights   \n",
       "1 -74.074520                2             10  $15 x 6 nights   \n",
       "2 -74.069500                2             12  $15 x 6 nights   \n",
       "3 -74.094322                5              7  $13 x 6 nights   \n",
       "4 -74.071190                2             18  $15 x 6 nights   \n",
       "\n",
       "   preview_amenity_names_Free parking  preview_amenity_names_Kitchen  \\\n",
       "0                                   0                              1   \n",
       "1                                   0                              1   \n",
       "2                                   0                              1   \n",
       "3                                   1                              0   \n",
       "4                                   0                              1   \n",
       "\n",
       "   preview_amenity_names_Washer  preview_amenity_names_Wifi  price_numeric  \\\n",
       "0                             1                           1           14.0   \n",
       "1                             0                           1           15.0   \n",
       "2                             1                           1           15.0   \n",
       "3                             0                           1           13.0   \n",
       "4                             0                           1           15.0   \n",
       "\n",
       "   linear_distance  \n",
       "0         0.051942  \n",
       "1         0.059719  \n",
       "2         0.006316  \n",
       "3         0.046496  \n",
       "4         0.021149  "
      ]
     },
     "execution_count": 19,
     "metadata": {},
     "output_type": "execute_result"
    }
   ],
   "source": [
    "stays2.head()"
   ]
  },
  {
   "cell_type": "code",
   "execution_count": 20,
   "metadata": {
    "ExecuteTime": {
     "end_time": "2019-10-11T05:15:52.452039Z",
     "start_time": "2019-10-11T05:15:52.445995Z"
    }
   },
   "outputs": [],
   "source": [
    "# Create a final dataframe by ordering the stays2 dataframe.\n",
    "CITY = 'bogota'\n",
    "final = stays2[['id', 'bathrooms', 'bedrooms', 'beds', 'cleaning_fee', 'is_superhost',\n",
    "       'lat', 'lng', 'person_capacity', 'picture_count',\n",
    "       'preview_amenity_names_Free parking', 'preview_amenity_names_Kitchen',\n",
    "       'preview_amenity_names_Washer', 'preview_amenity_names_Wifi',\n",
    "       'price_numeric', 'linear_distance']]"
   ]
  },
  {
   "cell_type": "code",
   "execution_count": 21,
   "metadata": {
    "ExecuteTime": {
     "end_time": "2019-10-11T05:15:52.457942Z",
     "start_time": "2019-10-11T05:15:52.453754Z"
    }
   },
   "outputs": [],
   "source": [
    "# Save the data to a file for LinearRegression processing.\n",
    "final.to_csv('../data/bogota_with_amenities_1010_sample.csv', index=False)"
   ]
  },
  {
   "cell_type": "code",
   "execution_count": null,
   "metadata": {},
   "outputs": [],
   "source": []
  }
 ],
 "metadata": {
  "kernelspec": {
   "display_name": "Python [conda env:metis] *",
   "language": "python",
   "name": "conda-env-metis-py"
  },
  "language_info": {
   "codemirror_mode": {
    "name": "ipython",
    "version": 3
   },
   "file_extension": ".py",
   "mimetype": "text/x-python",
   "name": "python",
   "nbconvert_exporter": "python",
   "pygments_lexer": "ipython3",
   "version": "3.7.3"
  },
  "toc": {
   "base_numbering": 1,
   "nav_menu": {},
   "number_sections": true,
   "sideBar": true,
   "skip_h1_title": false,
   "title_cell": "Table of Contents",
   "title_sidebar": "Contents",
   "toc_cell": false,
   "toc_position": {},
   "toc_section_display": true,
   "toc_window_display": false
  }
 },
 "nbformat": 4,
 "nbformat_minor": 2
}
