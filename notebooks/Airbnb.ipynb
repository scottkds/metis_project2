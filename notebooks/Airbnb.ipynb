{
 "cells": [
  {
   "cell_type": "code",
   "execution_count": 30,
   "metadata": {},
   "outputs": [],
   "source": [
    "# Imports\n",
    "from selenium import webdriver\n",
    "from selenium.webdriver.common.keys import Keys\n",
    "from bs4 import BeautifulSoup\n",
    "import requests\n",
    "import time\n",
    "import sys\n",
    "import chromedriver_binary\n",
    "import re\n",
    "from collections import defaultdict\n",
    "from glob import glob"
   ]
  },
  {
   "cell_type": "code",
   "execution_count": 31,
   "metadata": {},
   "outputs": [],
   "source": [
    "def fmt_url(url_string, items_per_page, page_nbr):\n",
    "    return url_string.format(items_per_page * (page_nbr - 1))"
   ]
  },
  {
   "cell_type": "code",
   "execution_count": 32,
   "metadata": {},
   "outputs": [],
   "source": [
    "URL = 'https://www.airbnb.com/s/seattle/homes?refinement_paths%5B%5D=%2Fhomes&current_tab_id=home_tab&selected_tab_id=home_tab&screen_size=large&hide_dates_and_guests_filters=false&place_id=ChIJVTPokywQkFQRmtVEaUZlJRA&search_type=pagination&source=structured_search_input_header&checkin=2019-12-22&checkout=2019-12-28&adults=1&room_types%5B%5D=Entire%20home%2Fapt&s_tag=BnVpdDt-&section_offset=5&items_offset={}&last_search_session_id=38f56942-96ed-430e-a723-bc7e1b7f9947'"
   ]
  },
  {
   "cell_type": "code",
   "execution_count": 33,
   "metadata": {},
   "outputs": [],
   "source": [
    "driver = webdriver.Chrome()\n",
    "# driver.get(url2)"
   ]
  },
  {
   "cell_type": "code",
   "execution_count": 34,
   "metadata": {},
   "outputs": [],
   "source": [
    "list_of_links = []"
   ]
  },
  {
   "cell_type": "code",
   "execution_count": 35,
   "metadata": {},
   "outputs": [],
   "source": [
    "window = driver.window_handles[0]"
   ]
  },
  {
   "cell_type": "code",
   "execution_count": 36,
   "metadata": {},
   "outputs": [],
   "source": [
    "for i in range(1, 18):\n",
    "    url2 = fmt_url(URL, 18, i)\n",
    "    driver.switch_to.window(window)\n",
    "    driver.get(url2)\n",
    "    time.sleep(10)\n",
    "    dict_of_urls = defaultdict(int)\n",
    "    a = driver.find_elements_by_tag_name('a')\n",
    "    for element in a:\n",
    "        link = element.get_attribute('href')\n",
    "        if not link is None and link.find('rooms') != -1:\n",
    "            dict_of_urls[link] += 1\n",
    "    list_of_links += list(dict_of_urls.keys())"
   ]
  },
  {
   "cell_type": "code",
   "execution_count": 37,
   "metadata": {},
   "outputs": [
    {
     "name": "stdout",
     "output_type": "stream",
     "text": [
      "306\n"
     ]
    },
    {
     "data": {
      "text/plain": [
       "['https://www.airbnb.com/rooms/34127978?location=seattle&adults=1&check_in=2019-12-22&check_out=2019-12-28&previous_page_section_name=1000',\n",
       " 'https://www.airbnb.com/rooms/22750242?location=seattle&adults=1&check_in=2019-12-22&check_out=2019-12-28&previous_page_section_name=1000',\n",
       " 'https://www.airbnb.com/rooms/29736429?location=seattle&adults=1&check_in=2019-12-22&check_out=2019-12-28&previous_page_section_name=1000',\n",
       " 'https://www.airbnb.com/rooms/32822782?location=seattle&adults=1&check_in=2019-12-22&check_out=2019-12-28&previous_page_section_name=1000',\n",
       " 'https://www.airbnb.com/rooms/39066335?location=seattle&adults=1&check_in=2019-12-22&check_out=2019-12-28&previous_page_section_name=1000']"
      ]
     },
     "execution_count": 37,
     "metadata": {},
     "output_type": "execute_result"
    }
   ],
   "source": [
    "print(len(list_of_links))\n",
    "list_of_links[:5]"
   ]
  },
  {
   "cell_type": "code",
   "execution_count": 20,
   "metadata": {},
   "outputs": [],
   "source": [
    "import pandas as pd"
   ]
  },
  {
   "cell_type": "code",
   "execution_count": 38,
   "metadata": {},
   "outputs": [],
   "source": [
    "pd.DataFrame(pd.Series(list_of_links), columns=['links']).to_csv('links3.csv', index=False)"
   ]
  },
  {
   "cell_type": "code",
   "execution_count": 22,
   "metadata": {},
   "outputs": [
    {
     "data": {
      "text/plain": [
       "'https://www.airbnb.com/rooms/29736429?location=seattle&adults=1&check_in=2019-12-22&check_out=2019-12-28&previous_page_section_name=1000'"
      ]
     },
     "execution_count": 22,
     "metadata": {},
     "output_type": "execute_result"
    }
   ],
   "source": [
    "list_of_links[0] "
   ]
  },
  {
   "cell_type": "code",
   "execution_count": 39,
   "metadata": {},
   "outputs": [
    {
     "data": {
      "text/plain": [
       "['/Users/scott/metis/projects/project2/notebooks/links.csv',\n",
       " '/Users/scott/metis/projects/project2/notebooks/links1.csv',\n",
       " '/Users/scott/metis/projects/project2/notebooks/links3.csv',\n",
       " '/Users/scott/metis/projects/project2/notebooks/links2.csv']"
      ]
     },
     "execution_count": 39,
     "metadata": {},
     "output_type": "execute_result"
    }
   ],
   "source": [
    "link_files = glob('/Users/scott/metis/projects/project2/notebooks/links*')\n",
    "link_files"
   ]
  },
  {
   "cell_type": "code",
   "execution_count": 40,
   "metadata": {},
   "outputs": [],
   "source": [
    "links_df = pd.concat([pd.read_csv(file) for file in link_files])"
   ]
  },
  {
   "cell_type": "code",
   "execution_count": 41,
   "metadata": {},
   "outputs": [
    {
     "data": {
      "text/html": [
       "<div>\n",
       "<style scoped>\n",
       "    .dataframe tbody tr th:only-of-type {\n",
       "        vertical-align: middle;\n",
       "    }\n",
       "\n",
       "    .dataframe tbody tr th {\n",
       "        vertical-align: top;\n",
       "    }\n",
       "\n",
       "    .dataframe thead th {\n",
       "        text-align: right;\n",
       "    }\n",
       "</style>\n",
       "<table border=\"1\" class=\"dataframe\">\n",
       "  <thead>\n",
       "    <tr style=\"text-align: right;\">\n",
       "      <th></th>\n",
       "      <th>links</th>\n",
       "    </tr>\n",
       "  </thead>\n",
       "  <tbody>\n",
       "    <tr>\n",
       "      <td>0</td>\n",
       "      <td>https://www.airbnb.com/rooms/29736429?location...</td>\n",
       "    </tr>\n",
       "    <tr>\n",
       "      <td>1</td>\n",
       "      <td>https://www.airbnb.com/rooms/22750242?location...</td>\n",
       "    </tr>\n",
       "    <tr>\n",
       "      <td>2</td>\n",
       "      <td>https://www.airbnb.com/rooms/32822782?location...</td>\n",
       "    </tr>\n",
       "    <tr>\n",
       "      <td>3</td>\n",
       "      <td>https://www.airbnb.com/rooms/34127978?location...</td>\n",
       "    </tr>\n",
       "    <tr>\n",
       "      <td>4</td>\n",
       "      <td>https://www.airbnb.com/rooms/30093335?location...</td>\n",
       "    </tr>\n",
       "  </tbody>\n",
       "</table>\n",
       "</div>"
      ],
      "text/plain": [
       "                                               links\n",
       "0  https://www.airbnb.com/rooms/29736429?location...\n",
       "1  https://www.airbnb.com/rooms/22750242?location...\n",
       "2  https://www.airbnb.com/rooms/32822782?location...\n",
       "3  https://www.airbnb.com/rooms/34127978?location...\n",
       "4  https://www.airbnb.com/rooms/30093335?location..."
      ]
     },
     "execution_count": 41,
     "metadata": {},
     "output_type": "execute_result"
    }
   ],
   "source": [
    "links_df.head()"
   ]
  },
  {
   "cell_type": "code",
   "execution_count": 42,
   "metadata": {},
   "outputs": [],
   "source": [
    "links_df.drop_duplicates(inplace=True)"
   ]
  },
  {
   "cell_type": "code",
   "execution_count": 43,
   "metadata": {},
   "outputs": [
    {
     "data": {
      "text/plain": [
       "(962, 1)"
      ]
     },
     "execution_count": 43,
     "metadata": {},
     "output_type": "execute_result"
    }
   ],
   "source": [
    "links_df.shape"
   ]
  },
  {
   "cell_type": "code",
   "execution_count": 47,
   "metadata": {},
   "outputs": [
    {
     "data": {
      "text/plain": [
       "str"
      ]
     },
     "execution_count": 47,
     "metadata": {},
     "output_type": "execute_result"
    }
   ],
   "source": [
    "type(links_df.iloc[0][0])"
   ]
  },
  {
   "cell_type": "code",
   "execution_count": 52,
   "metadata": {},
   "outputs": [],
   "source": [
    "xpaths = {'guests' : '//*[@id=\"room\"]/div[2]/div/div[2]/div[1]/div/div[3]/div/div/div/div[1]/div[2]/div[2]/div[1]/div',\n",
    "          'bedrooms' : '//*[@id=\"room\"]/div[2]/div/div[2]/div[1]/div/div[3]/div/div/div/div[1]/div[2]/div[2]/div[2]/div',\n",
    "          'beds' : '//*[@id=\"room\"]/div[2]/div/div[2]/div[1]/div/div[3]/div/div/div/div[1]/div[2]/div[2]/div[3]/div',\n",
    "          'baths' : '//*[@id=\"room\"]/div[2]/div/div[2]/div[1]/div/div[3]/div/div/div/div[1]/div[2]/div[2]/div[4]/div',\n",
    "          'narrative' : '//*[@id=\"details\"]/div/div[1]/div/div/div/p/span/span',\n",
    "          'amenities' : '//*[@id=\"amenities\"]/div/div/div/div/div/section/div[4]/div/button',\n",
    "          'price' : '//*[@id=\"room\"]/div[2]/div/div[2]/div[2]/div/div/div[1]/div/div/div[1]/div/div/div[2]/div[1]/div/span[2]/span',\n",
    "          'rules' : '//*[@id=\"house-rules\"]/div/section/div[3]/div[1]/div/div/div[2]/div[2]',\n",
    "          'cleaning_fee' : '//*[@id=\"book_it_form\"]/div[2]/div[2]/div[1]/div[2]/span/span',\n",
    "          'map' : '//*[@id=\"neighborhood\"]/div/div/div/div/div/section/div[2]/div[2]/div[2]/img'\n",
    "          }"
   ]
  },
  {
   "cell_type": "code",
   "execution_count": 48,
   "metadata": {},
   "outputs": [],
   "source": [
    "driver = webdriver.Chrome()"
   ]
  },
  {
   "cell_type": "code",
   "execution_count": 51,
   "metadata": {},
   "outputs": [
    {
     "name": "stdout",
     "output_type": "stream",
     "text": [
      "<html data-is-hyperloop=\"true\" lang=\"en\" dir=\"ltr\" xmlns:fb=\"http://ogp.me/ns/fb#\" class=\"js-focus-visible\"><head><style type=\"text/css\">.gm-control-active>img{box-sizing:content-box;display:none;left:50%;pointer-events:none;position:absolute;top:50%;transform:translate(-50%,-50%)}.gm-control-active>img:nth-child(1){display:block}.gm-control-active:hover>img:nth-child(1),.gm-control-active:active>img:nth-child(1){display:none}.gm-control-active:hover>img:nth-child(2),.gm-control-active:active>img:nth-child(3){display:block}\n",
      "</style><link type=\"text/css\" rel=\"stylesheet\" href=\"https://fonts.googleapis.com/css?family=Roboto:300,400,500,700|Google+Sans\"><style type=\"text/css\">.gm-ui-hover-effect{opacity:.6}.gm-ui-hover-effect:hover{opacity:1}\n",
      "</style><style type=\"text/css\">.gm-style .gm-style-cc span,.gm-style .gm-style-cc a,.gm-style .gm-style-mtc div{font-size:10px;box-sizing:border-box}\n",
      "</style><style type=\"text/css\">@media print {  .gm-style .gmnoprint, .gmnoprint {    display:none  }\n"
     ]
    },
    {
     "data": {
      "text/plain": [
       "0"
      ]
     },
     "execution_count": 51,
     "metadata": {},
     "output_type": "execute_result"
    }
   ],
   "source": [
    "def get_property_info(driver, link):\n",
    "    elements_dict = {}\n",
    "    driver.switch_to.window(driver.window_handles[0])\n",
    "    driver.get(link)\n",
    "    time.sleep(10)\n",
    "    for key, val in xpaths.items():\n",
    "        elements_dict[key] = \n",
    "    print(driver.page_source[:1000])\n",
    "    return 0\n",
    "get_property_info(driver, links_df.iloc[0][0])"
   ]
  },
  {
   "cell_type": "code",
   "execution_count": null,
   "metadata": {},
   "outputs": [],
   "source": []
  },
  {
   "cell_type": "code",
   "execution_count": null,
   "metadata": {},
   "outputs": [],
   "source": []
  },
  {
   "cell_type": "code",
   "execution_count": null,
   "metadata": {},
   "outputs": [],
   "source": []
  },
  {
   "cell_type": "code",
   "execution_count": null,
   "metadata": {},
   "outputs": [],
   "source": []
  },
  {
   "cell_type": "code",
   "execution_count": null,
   "metadata": {},
   "outputs": [],
   "source": []
  },
  {
   "cell_type": "code",
   "execution_count": null,
   "metadata": {},
   "outputs": [],
   "source": []
  },
  {
   "cell_type": "code",
   "execution_count": null,
   "metadata": {},
   "outputs": [],
   "source": []
  },
  {
   "cell_type": "code",
   "execution_count": null,
   "metadata": {},
   "outputs": [],
   "source": [
    "for link in list_of_links[4:6]:\n",
    "    prop_dict = {}\n",
    "    driver.get(link)\n",
    "    time.sleep(3)\n",
    "    soup = BeautifulSoup(driver.page_source, \"lxml\")\n",
    "    break"
   ]
  },
  {
   "cell_type": "code",
   "execution_count": null,
   "metadata": {},
   "outputs": [],
   "source": [
    "# soup.find_all('div')\n",
    "# soup.find_all('div', attrs={'style': \"margin-right: 24px;\"})"
   ]
  },
  {
   "cell_type": "code",
   "execution_count": null,
   "metadata": {},
   "outputs": [],
   "source": [
    "tag = soup.find_all('div', attrs={'class' : \"_czm8crp\"})[0]"
   ]
  },
  {
   "cell_type": "code",
   "execution_count": null,
   "metadata": {},
   "outputs": [],
   "source": [
    "tag.get_text()"
   ]
  },
  {
   "cell_type": "code",
   "execution_count": null,
   "metadata": {},
   "outputs": [],
   "source": [
    "# return_url = driver.current_url\n",
    "# return_url"
   ]
  },
  {
   "cell_type": "code",
   "execution_count": null,
   "metadata": {},
   "outputs": [],
   "source": [
    "# return_url = return_url.replace('adults=1', 'adults=2')\n",
    "# return_url"
   ]
  },
  {
   "cell_type": "code",
   "execution_count": null,
   "metadata": {},
   "outputs": [],
   "source": [
    "# driver.find_element_by_class_name('_1m76pmy').click()"
   ]
  },
  {
   "cell_type": "code",
   "execution_count": null,
   "metadata": {},
   "outputs": [],
   "source": [
    "driver.find_element_by_xpath('//*[@id=\"site-content\"]/div/div/div[5]/div/div[1]/div').text"
   ]
  },
  {
   "cell_type": "code",
   "execution_count": null,
   "metadata": {},
   "outputs": [],
   "source": [
    "explore = driver.find_element_by_xpath('//*[@id=\"site-content\"]/div/div/div[4]/div/div/div')\n",
    "explore.find_elements_by_xpath(\"//div[contains(@itemprop, 'itemListElement')]\")[0].find_elements_by_tag_name('meta')[2].get_attribute('content')"
   ]
  },
  {
   "cell_type": "code",
   "execution_count": null,
   "metadata": {},
   "outputs": [],
   "source": [
    "list_of_urls = []\n",
    "\n",
    "for i in range(4):\n",
    "    time.sleep(10)\n",
    "    print(driver.find_element_by_xpath('//*[@id=\"site-content\"]/div/div/div[5]/div/div[1]/div').text)\n",
    "    explore = driver.find_element_by_xpath('//*[@id=\"site-content\"]/div/div/div[4]/div/div/div')\n",
    "    props = explore.find_elements_by_xpath(\"//div[contains(@itemprop, 'itemListElement')]\")\n",
    "    print(explore)\n",
    "    print(len(props))\n",
    "    if i == 0:\n",
    "        # This class only has one instance ont he first page\n",
    "        driver.find_element_by_class_name('_1m76pmy').click()\n",
    "    else:\n",
    "        # If we're not on the first page then choose the second instance of this class\n",
    "        driver.find_elements_by_class_name('_1m76pmy')[1].click()\n"
   ]
  },
  {
   "cell_type": "code",
   "execution_count": null,
   "metadata": {},
   "outputs": [],
   "source": [
    "list_of_urls = []\n",
    "\n",
    "for i in range(4):\n",
    "#     print(driver.current_url)\n",
    "    print(driver.find_element_by_xpath('//*[@id=\"site-content\"]/div/div/div[5]/div/div[1]/div').text)\n",
    "    if i == 0:\n",
    "        list_of_divs = driver.find_elements_by_xpath(\"//div[contains(@itemprop, 'itemListElement')]\")\n",
    "    else:\n",
    "        list_of_divs = driver.find_elements_by_xpath('//*[@id=\"FMP-target\"]/div/div/div/div/div[1]/div/div')\n",
    "    for prop in list_of_divs:\n",
    "        list_of_urls.append(prop.find_elements_by_tag_name('meta')[2].get_attribute('content'))\n",
    "        # print(prop.find_elements_by_tag_name('meta')[2].get_attribute('content'))\n",
    "        # break\n",
    "    print('Len of urls:', len(list_of_urls))\n",
    "    if i == 0:\n",
    "        # This class only has one instance ont he first page\n",
    "        driver.find_element_by_class_name('_1m76pmy').click()\n",
    "    else:\n",
    "        # If we're not on the first page then choose the second instance of this class\n",
    "        driver.find_elements_by_class_name('_1m76pmy')[1].click()\n",
    "    time.sleep(10)\n"
   ]
  },
  {
   "cell_type": "code",
   "execution_count": null,
   "metadata": {},
   "outputs": [],
   "source": [
    "list_of_divs = driver.find_element_by_xpath(\"//div[contains(@itemprop, 'itemListElement')]\")\n",
    "list_of_divs"
   ]
  },
  {
   "cell_type": "code",
   "execution_count": null,
   "metadata": {},
   "outputs": [],
   "source": [
    "driver.find_elements_by_xpath('//*[@id=\"FMP-target\"]/div/div/div/div/div[1]/div/div')[0].find_elements_by_tag_name('meta')[2].get_attribute('content')"
   ]
  },
  {
   "cell_type": "code",
   "execution_count": null,
   "metadata": {},
   "outputs": [],
   "source": [
    "for i, v in enumerate(list_of_urls):\n",
    "    print(i, v)"
   ]
  },
  {
   "cell_type": "code",
   "execution_count": null,
   "metadata": {},
   "outputs": [],
   "source": [
    "print(len(list_of_metas))\n",
    "for prop in list_of_metas:\n",
    "    # list_of_metas[0].find_elements_by_tag_name('meta')[2].get_attribute('content')\n",
    "    print(prop.find_elements_by_tag_name('meta')[2].get_attribute('content'))"
   ]
  },
  {
   "cell_type": "code",
   "execution_count": null,
   "metadata": {},
   "outputs": [],
   "source": []
  },
  {
   "cell_type": "code",
   "execution_count": null,
   "metadata": {},
   "outputs": [],
   "source": [
    "# for meta in list_of_metas:\n",
    "#     print(meta.value_of_css_property('content'))"
   ]
  },
  {
   "cell_type": "code",
   "execution_count": null,
   "metadata": {},
   "outputs": [],
   "source": [
    "# list_of_metas"
   ]
  },
  {
   "cell_type": "code",
   "execution_count": null,
   "metadata": {},
   "outputs": [],
   "source": [
    "'//*[@id=\"FMP-target\"]/div/div/div/div/div[1]/div/div/meta[3]'"
   ]
  },
  {
   "cell_type": "code",
   "execution_count": null,
   "metadata": {},
   "outputs": [],
   "source": [
    "driver.find_element_by_class_name('_1ip5u88')."
   ]
  },
  {
   "cell_type": "code",
   "execution_count": null,
   "metadata": {},
   "outputs": [],
   "source": [
    "'<a href=\"/s/seattle/homes?refinement_paths%5B%5D=%2Fhomes&amp;current_tab_id=home_tab&amp;selected_tab_id=home_tab&amp;screen_size=medium&amp;hide_dates_and_guests_filters=true&amp;place_id=ChIJVTPokywQkFQRmtVEaUZlJRA&amp;s_tag=y6o2gwE0&amp;search_type=pagination&amp;section_offset=5&amp;items_offset=36\" class=\"_1ip5u88\" aria-busy=\"false\"><div class=\"_1m76pmy\"><svg viewBox=\"0 0 18 18\" role=\"img\" aria-label=\"Next\" focusable=\"false\" style=\"height: 0.75em; width: 0.75em; display: block; fill: currentcolor;\"><path d=\"m4.29 1.71a1 1 0 1 1 1.42-1.41l8 8a1 1 0 0 1 0 1.41l-8 8a1 1 0 1 1 -1.42-1.41l7.29-7.29z\" fill-rule=\"evenodd\"></path></svg></div></a>'"
   ]
  },
  {
   "cell_type": "code",
   "execution_count": null,
   "metadata": {},
   "outputs": [],
   "source": [
    "'//*[@id=\"FMP-target\"]/div/div/div/div/div[1]/div/div/meta[3]'"
   ]
  },
  {
   "cell_type": "code",
   "execution_count": null,
   "metadata": {},
   "outputs": [],
   "source": [
    "'https://www.airbnb.com/s/seattle/homes?refinement_paths%5B%5D=%2Fhomes&current_tab_id=home_tab&selected_tab_id=home_tab&screen_size=large&hide_dates_and_guests_filters=true&place_id=ChIJVTPokywQkFQRmtVEaUZlJRA&s_tag=o6LsNXgV&search_type=pagination'"
   ]
  },
  {
   "cell_type": "code",
   "execution_count": null,
   "metadata": {},
   "outputs": [],
   "source": [
    "while None in [None, None, None]:\n"
   ]
  },
  {
   "cell_type": "code",
   "execution_count": null,
   "metadata": {},
   "outputs": [],
   "source": [
    "l = [1,1,1,None]\n",
    "while l.remove(None):\n",
    "    pass"
   ]
  },
  {
   "cell_type": "code",
   "execution_count": null,
   "metadata": {},
   "outputs": [],
   "source": [
    "l"
   ]
  },
  {
   "cell_type": "code",
   "execution_count": null,
   "metadata": {},
   "outputs": [],
   "source": []
  },
  {
   "cell_type": "code",
   "execution_count": null,
   "metadata": {},
   "outputs": [],
   "source": [
    "def get_links(driver, url, page):\n",
    "    url = url.format((page - 1) * 18)\n",
    "    print(url)\n",
    "    driver.get(url)\n",
    "    time.sleep(4)\n",
    "    dict_of_urls = defaultdict(int)\n",
    "    a = driver.find_elements_by_tag_name('a')\n",
    "    print(len(a))\n",
    "    for element in a:\n",
    "        link = element.get_attribute('href')\n",
    "        if not link is None and link.find('rooms') != -1:\n",
    "            dict_of_urls[link] += 1\n",
    "    return list(dict_of_urls.keys())\n",
    "get_links(driver, URL, 1)"
   ]
  }
 ],
 "metadata": {
  "kernelspec": {
   "display_name": "Python [conda env:metis] *",
   "language": "python",
   "name": "conda-env-metis-py"
  },
  "language_info": {
   "codemirror_mode": {
    "name": "ipython",
    "version": 3
   },
   "file_extension": ".py",
   "mimetype": "text/x-python",
   "name": "python",
   "nbconvert_exporter": "python",
   "pygments_lexer": "ipython3",
   "version": "3.7.3"
  }
 },
 "nbformat": 4,
 "nbformat_minor": 2
}
