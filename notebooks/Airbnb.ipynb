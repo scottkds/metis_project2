{
 "cells": [
  {
   "cell_type": "code",
   "execution_count": 10,
   "metadata": {},
   "outputs": [],
   "source": [
    "# Imports\n",
    "from selenium import webdriver\n",
    "from selenium.webdriver.common.keys import Keys\n",
    "from bs4 import BeautifulSoup\n",
    "import requests\n",
    "import time\n",
    "import sys\n",
    "import chromedriver_binary\n",
    "import re"
   ]
  },
  {
   "cell_type": "code",
   "execution_count": 25,
   "metadata": {},
   "outputs": [
    {
     "name": "stdout",
     "output_type": "stream",
     "text": [
      "Writing some_file.py\n"
     ]
    }
   ],
   "source": [
    "# %%writefile some_file.py\n",
    "\n",
    "# def somefunc():\n",
    "#     pass"
   ]
  },
  {
   "cell_type": "code",
   "execution_count": 27,
   "metadata": {},
   "outputs": [
    {
     "data": {
      "text/plain": [
       "['a', 'a', 'a']"
      ]
     },
     "execution_count": 27,
     "metadata": {},
     "output_type": "execute_result"
    }
   ],
   "source": [
    "['a'] * 3"
   ]
  },
  {
   "cell_type": "code",
   "execution_count": 14,
   "metadata": {},
   "outputs": [],
   "source": [
    "url = 'https://www.airbnb.com/s/seattle/homes?refinement_paths%5B%5D=%2Fhomes&current_tab_id=all_tab&selected_tab_id=all_tab&search_type=pagination&source=structured_search_input_header&screen_size=large&hide_dates_and_guests_filters=true&s_tag=3vGXfNX_&section_offset=5&items_offset=72&checkin=2019-12-22&checkout=2019-12-28&adults=2&room_types%5B%5D=Entire%20home%2Fapt&place_id=ChIJVTPokywQkFQRmtVEaUZlJRA'\n",
    "url = 'https://www.airbnb.com/s/seattle/homes'\n",
    "driver = webdriver.Chrome()\n",
    "driver.get(url)"
   ]
  },
  {
   "cell_type": "code",
   "execution_count": 6,
   "metadata": {},
   "outputs": [
    {
     "data": {
      "text/plain": [
       "'https://www.airbnb.com/s/seattle/homes?refinement_paths%5B%5D=%2Fhomes&current_tab_id=home_tab&selected_tab_id=home_tab&screen_size=large&hide_dates_and_guests_filters=false&place_id=ChIJVTPokywQkFQRmtVEaUZlJRA&adults=1&search_type=filter_change&room_types%5B%5D=Entire%20home%2Fapt'"
      ]
     },
     "execution_count": 6,
     "metadata": {},
     "output_type": "execute_result"
    }
   ],
   "source": [
    "return_url = driver.current_url\n",
    "return_url"
   ]
  },
  {
   "cell_type": "code",
   "execution_count": 9,
   "metadata": {},
   "outputs": [
    {
     "data": {
      "text/plain": [
       "'https://www.airbnb.com/s/seattle/homes?refinement_paths%5B%5D=%2Fhomes&current_tab_id=home_tab&selected_tab_id=home_tab&screen_size=large&hide_dates_and_guests_filters=false&place_id=ChIJVTPokywQkFQRmtVEaUZlJRA&adults=2&search_type=filter_change&room_types%5B%5D=Entire%20home%2Fapt'"
      ]
     },
     "execution_count": 9,
     "metadata": {},
     "output_type": "execute_result"
    }
   ],
   "source": [
    "return_url = return_url.replace('adults=1', 'adults=2')\n",
    "return_url"
   ]
  },
  {
   "cell_type": "code",
   "execution_count": 11,
   "metadata": {},
   "outputs": [],
   "source": [
    "driver.find_element_by_class_name('_1m76pmy').click()"
   ]
  },
  {
   "cell_type": "code",
   "execution_count": 13,
   "metadata": {},
   "outputs": [
    {
     "data": {
      "text/plain": [
       "'19 – 36 of 300+ Rentals'"
      ]
     },
     "execution_count": 13,
     "metadata": {},
     "output_type": "execute_result"
    }
   ],
   "source": [
    "driver.find_element_by_xpath('//*[@id=\"site-content\"]/div/div/div[5]/div/div[1]/div').text"
   ]
  },
  {
   "cell_type": "code",
   "execution_count": 40,
   "metadata": {},
   "outputs": [],
   "source": [
    "list_of_metas = []\n",
    "for i in range(6):\n",
    "#     list_of_metas = driver.find_elements_by_tag_name('meta')\n",
    "    list_of_metas = driver.find_elements_by_xpath(\"//div[contains(@itemprop, 'itemListElement')]\")\n",
    "    \n",
    "#     print(driver.find_element_by_xpath('//*[@id=\"site-content\"]/div/div/div[5]/div/div[1]/div').text)\n",
    "#     time.sleep(10)\n",
    "    break\n",
    "    if i == 0:\n",
    "        # This class only has one instance ont he first page\n",
    "        driver.find_element_by_class_name('_1m76pmy').click()\n",
    "    else:\n",
    "        # If we're not on the first page then choose the second instance of this class\n",
    "        driver.find_elements_by_class_name('_1m76pmy')[1].click()\n"
   ]
  },
  {
   "cell_type": "code",
   "execution_count": 42,
   "metadata": {},
   "outputs": [
    {
     "name": "stdout",
     "output_type": "stream",
     "text": [
      "18\n"
     ]
    },
    {
     "data": {
      "text/plain": [
       "[<selenium.webdriver.remote.webelement.WebElement (session=\"75ac23d581aee9d67418c4f82200d570\", element=\"f8aaed1a-cbc0-48b9-896c-08f0e85e3b13\")>,\n",
       " <selenium.webdriver.remote.webelement.WebElement (session=\"75ac23d581aee9d67418c4f82200d570\", element=\"23dc4465-09c9-4e5c-989b-e05928379c66\")>,\n",
       " <selenium.webdriver.remote.webelement.WebElement (session=\"75ac23d581aee9d67418c4f82200d570\", element=\"9d9d6f99-09e7-4d51-a1e4-3788ac3437d5\")>,\n",
       " <selenium.webdriver.remote.webelement.WebElement (session=\"75ac23d581aee9d67418c4f82200d570\", element=\"fb17ff12-6f31-48b7-a938-0e3154f1ae27\")>,\n",
       " <selenium.webdriver.remote.webelement.WebElement (session=\"75ac23d581aee9d67418c4f82200d570\", element=\"ceef38b1-7034-438c-9570-128dcd78aa20\")>,\n",
       " <selenium.webdriver.remote.webelement.WebElement (session=\"75ac23d581aee9d67418c4f82200d570\", element=\"c89f6945-c70c-4acb-9c2c-e74d225f9a3b\")>,\n",
       " <selenium.webdriver.remote.webelement.WebElement (session=\"75ac23d581aee9d67418c4f82200d570\", element=\"88b7aee3-b5db-481b-9c6f-3cd5d09f3ad8\")>,\n",
       " <selenium.webdriver.remote.webelement.WebElement (session=\"75ac23d581aee9d67418c4f82200d570\", element=\"0b9fd061-3ca6-42b0-b1af-91ee9b9c7e84\")>,\n",
       " <selenium.webdriver.remote.webelement.WebElement (session=\"75ac23d581aee9d67418c4f82200d570\", element=\"18bb0827-8959-46db-ac2f-5908ade3b514\")>,\n",
       " <selenium.webdriver.remote.webelement.WebElement (session=\"75ac23d581aee9d67418c4f82200d570\", element=\"be4cbf8a-2932-459b-a246-a7d458937b8c\")>,\n",
       " <selenium.webdriver.remote.webelement.WebElement (session=\"75ac23d581aee9d67418c4f82200d570\", element=\"d214ea52-09e3-45de-bbd1-f332db16dacb\")>,\n",
       " <selenium.webdriver.remote.webelement.WebElement (session=\"75ac23d581aee9d67418c4f82200d570\", element=\"f7cabbbb-ba8b-4d42-851d-9d86c672fda2\")>,\n",
       " <selenium.webdriver.remote.webelement.WebElement (session=\"75ac23d581aee9d67418c4f82200d570\", element=\"1534e5df-914c-4114-8207-2a92be55c02b\")>,\n",
       " <selenium.webdriver.remote.webelement.WebElement (session=\"75ac23d581aee9d67418c4f82200d570\", element=\"d47b234c-dbed-44fb-a137-fe197887f847\")>,\n",
       " <selenium.webdriver.remote.webelement.WebElement (session=\"75ac23d581aee9d67418c4f82200d570\", element=\"79396a36-21ed-4b36-b65e-efe07dc7e1ec\")>,\n",
       " <selenium.webdriver.remote.webelement.WebElement (session=\"75ac23d581aee9d67418c4f82200d570\", element=\"93ce50e6-de24-4224-9d95-cc910ac8a4eb\")>,\n",
       " <selenium.webdriver.remote.webelement.WebElement (session=\"75ac23d581aee9d67418c4f82200d570\", element=\"24eb22e8-e312-4d6a-9201-ab03ca0c04c8\")>,\n",
       " <selenium.webdriver.remote.webelement.WebElement (session=\"75ac23d581aee9d67418c4f82200d570\", element=\"e9893025-b977-4720-9729-7779f2973110\")>]"
      ]
     },
     "execution_count": 42,
     "metadata": {},
     "output_type": "execute_result"
    }
   ],
   "source": [
    "print(len(list_of_metas))\n",
    "list_of_metas"
   ]
  },
  {
   "cell_type": "code",
   "execution_count": null,
   "metadata": {},
   "outputs": [],
   "source": []
  },
  {
   "cell_type": "code",
   "execution_count": 37,
   "metadata": {},
   "outputs": [
    {
     "name": "stdout",
     "output_type": "stream",
     "text": [
      "normal\n",
      "normal\n",
      "normal\n",
      "normal\n",
      "normal\n",
      "normal\n",
      "normal\n",
      "normal\n",
      "normal\n",
      "normal\n",
      "normal\n",
      "normal\n",
      "normal\n",
      "normal\n",
      "normal\n",
      "normal\n",
      "normal\n",
      "normal\n",
      "normal\n",
      "normal\n",
      "normal\n",
      "normal\n",
      "normal\n",
      "normal\n",
      "normal\n",
      "normal\n",
      "normal\n",
      "normal\n",
      "normal\n",
      "normal\n",
      "normal\n",
      "normal\n",
      "normal\n",
      "normal\n",
      "normal\n",
      "normal\n",
      "normal\n",
      "normal\n",
      "normal\n",
      "normal\n",
      "normal\n",
      "normal\n",
      "normal\n",
      "normal\n",
      "normal\n",
      "normal\n",
      "normal\n",
      "normal\n",
      "normal\n",
      "normal\n",
      "normal\n",
      "normal\n",
      "normal\n",
      "normal\n",
      "normal\n",
      "normal\n",
      "normal\n",
      "normal\n",
      "normal\n",
      "normal\n",
      "normal\n",
      "normal\n",
      "normal\n",
      "normal\n",
      "normal\n",
      "normal\n",
      "normal\n",
      "normal\n",
      "normal\n",
      "normal\n",
      "normal\n",
      "normal\n",
      "normal\n",
      "normal\n",
      "normal\n",
      "normal\n",
      "normal\n",
      "normal\n",
      "normal\n",
      "normal\n",
      "normal\n",
      "normal\n",
      "normal\n",
      "normal\n",
      "normal\n",
      "normal\n",
      "normal\n",
      "normal\n",
      "normal\n",
      "normal\n",
      "normal\n",
      "normal\n"
     ]
    }
   ],
   "source": [
    "for meta in list_of_metas:\n",
    "    print(meta.value_of_css_property('content'))"
   ]
  },
  {
   "cell_type": "code",
   "execution_count": 29,
   "metadata": {},
   "outputs": [
    {
     "data": {
      "text/plain": [
       "[<selenium.webdriver.remote.webelement.WebElement (session=\"75ac23d581aee9d67418c4f82200d570\", element=\"510aae8c-bac9-42ca-8f65-1d527175f998\")>,\n",
       " <selenium.webdriver.remote.webelement.WebElement (session=\"75ac23d581aee9d67418c4f82200d570\", element=\"b6dadaa4-2f93-4c06-bb8f-5d1b4977568a\")>,\n",
       " <selenium.webdriver.remote.webelement.WebElement (session=\"75ac23d581aee9d67418c4f82200d570\", element=\"98702e87-f657-44e3-899c-2b7f2b4e8ab1\")>,\n",
       " <selenium.webdriver.remote.webelement.WebElement (session=\"75ac23d581aee9d67418c4f82200d570\", element=\"d83f6bd0-c100-488a-a9b0-704b24554e03\")>,\n",
       " <selenium.webdriver.remote.webelement.WebElement (session=\"75ac23d581aee9d67418c4f82200d570\", element=\"a8a8bb3b-78a4-448c-b98f-028ff764b138\")>,\n",
       " <selenium.webdriver.remote.webelement.WebElement (session=\"75ac23d581aee9d67418c4f82200d570\", element=\"2c645427-9d57-4153-b9e3-36b3b5c430c5\")>,\n",
       " <selenium.webdriver.remote.webelement.WebElement (session=\"75ac23d581aee9d67418c4f82200d570\", element=\"c211817c-6a8d-4ef1-bd0a-26df10ab8efa\")>,\n",
       " <selenium.webdriver.remote.webelement.WebElement (session=\"75ac23d581aee9d67418c4f82200d570\", element=\"fb4da876-298b-4101-9301-425c179408ff\")>,\n",
       " <selenium.webdriver.remote.webelement.WebElement (session=\"75ac23d581aee9d67418c4f82200d570\", element=\"4c2cd93f-43b7-4634-b463-ca9ec0db185c\")>,\n",
       " <selenium.webdriver.remote.webelement.WebElement (session=\"75ac23d581aee9d67418c4f82200d570\", element=\"2d70bd16-03d4-473e-aece-e987a1300f84\")>,\n",
       " <selenium.webdriver.remote.webelement.WebElement (session=\"75ac23d581aee9d67418c4f82200d570\", element=\"b9fb9147-599e-42b3-9ac9-b093c0800d49\")>,\n",
       " <selenium.webdriver.remote.webelement.WebElement (session=\"75ac23d581aee9d67418c4f82200d570\", element=\"ac2d03f6-5adf-4e7f-bb84-b1906cb87bfe\")>,\n",
       " <selenium.webdriver.remote.webelement.WebElement (session=\"75ac23d581aee9d67418c4f82200d570\", element=\"584cdfe5-e479-4333-83f7-a1ee8f0c627a\")>,\n",
       " <selenium.webdriver.remote.webelement.WebElement (session=\"75ac23d581aee9d67418c4f82200d570\", element=\"f9b40f0a-857d-4d30-af4a-8d8b82718a1e\")>,\n",
       " <selenium.webdriver.remote.webelement.WebElement (session=\"75ac23d581aee9d67418c4f82200d570\", element=\"dad171da-d367-4651-a472-a516d1f0b00e\")>,\n",
       " <selenium.webdriver.remote.webelement.WebElement (session=\"75ac23d581aee9d67418c4f82200d570\", element=\"8c76647c-6703-468f-98b0-d8f5b6ec1ddd\")>,\n",
       " <selenium.webdriver.remote.webelement.WebElement (session=\"75ac23d581aee9d67418c4f82200d570\", element=\"202de3cc-2de4-4016-bcd0-51eb2fd5b672\")>,\n",
       " <selenium.webdriver.remote.webelement.WebElement (session=\"75ac23d581aee9d67418c4f82200d570\", element=\"e3ddead8-10fd-4c77-931c-c833fd2e2687\")>,\n",
       " <selenium.webdriver.remote.webelement.WebElement (session=\"75ac23d581aee9d67418c4f82200d570\", element=\"7a01fecc-2a30-4842-a5ef-fb7ec5b0d92e\")>,\n",
       " <selenium.webdriver.remote.webelement.WebElement (session=\"75ac23d581aee9d67418c4f82200d570\", element=\"61caf290-bb0f-4e06-8969-1fc5a659d184\")>,\n",
       " <selenium.webdriver.remote.webelement.WebElement (session=\"75ac23d581aee9d67418c4f82200d570\", element=\"ade58d16-628d-48d4-a855-4864dba9bd39\")>,\n",
       " <selenium.webdriver.remote.webelement.WebElement (session=\"75ac23d581aee9d67418c4f82200d570\", element=\"869f8f95-e10a-4d98-9b2c-158004113606\")>,\n",
       " <selenium.webdriver.remote.webelement.WebElement (session=\"75ac23d581aee9d67418c4f82200d570\", element=\"85f2eb32-30ae-495b-a3eb-98358e1b674a\")>,\n",
       " <selenium.webdriver.remote.webelement.WebElement (session=\"75ac23d581aee9d67418c4f82200d570\", element=\"b7610920-aab9-4091-a2fe-22211cf2953a\")>,\n",
       " <selenium.webdriver.remote.webelement.WebElement (session=\"75ac23d581aee9d67418c4f82200d570\", element=\"50ce0f7a-499a-4b85-b407-c0a1e4b08df4\")>,\n",
       " <selenium.webdriver.remote.webelement.WebElement (session=\"75ac23d581aee9d67418c4f82200d570\", element=\"0ac531bd-6978-40c1-980f-f37db8666b12\")>,\n",
       " <selenium.webdriver.remote.webelement.WebElement (session=\"75ac23d581aee9d67418c4f82200d570\", element=\"a4c72efd-6089-4bf2-8c1c-8d7588ab8bee\")>,\n",
       " <selenium.webdriver.remote.webelement.WebElement (session=\"75ac23d581aee9d67418c4f82200d570\", element=\"c6ec1896-c9e8-4006-b7a1-2378d6b18c1e\")>,\n",
       " <selenium.webdriver.remote.webelement.WebElement (session=\"75ac23d581aee9d67418c4f82200d570\", element=\"d0a81e1c-8617-414d-9621-56be2ea1cd14\")>,\n",
       " <selenium.webdriver.remote.webelement.WebElement (session=\"75ac23d581aee9d67418c4f82200d570\", element=\"d6854493-2f59-4bc8-b91f-a5f2929dd8ac\")>,\n",
       " <selenium.webdriver.remote.webelement.WebElement (session=\"75ac23d581aee9d67418c4f82200d570\", element=\"f820e145-b413-437f-9338-7b348b2d8b23\")>,\n",
       " <selenium.webdriver.remote.webelement.WebElement (session=\"75ac23d581aee9d67418c4f82200d570\", element=\"42b5af83-70d6-4dd9-b76a-3ffc9a841913\")>,\n",
       " <selenium.webdriver.remote.webelement.WebElement (session=\"75ac23d581aee9d67418c4f82200d570\", element=\"03057f5b-de2a-4d98-9d12-587c6d7dcf06\")>,\n",
       " <selenium.webdriver.remote.webelement.WebElement (session=\"75ac23d581aee9d67418c4f82200d570\", element=\"6ff513be-5cc0-486e-8790-528d0b458448\")>,\n",
       " <selenium.webdriver.remote.webelement.WebElement (session=\"75ac23d581aee9d67418c4f82200d570\", element=\"24d3d1d2-e2db-478d-b9d3-5d2cce9405e3\")>,\n",
       " <selenium.webdriver.remote.webelement.WebElement (session=\"75ac23d581aee9d67418c4f82200d570\", element=\"ce60e686-b45b-455f-b743-b07c47fd4212\")>,\n",
       " <selenium.webdriver.remote.webelement.WebElement (session=\"75ac23d581aee9d67418c4f82200d570\", element=\"b24ba385-b102-43c3-aaa3-0e845eb1c331\")>,\n",
       " <selenium.webdriver.remote.webelement.WebElement (session=\"75ac23d581aee9d67418c4f82200d570\", element=\"28b43e6f-927a-44e6-b438-7df7bf5e09be\")>,\n",
       " <selenium.webdriver.remote.webelement.WebElement (session=\"75ac23d581aee9d67418c4f82200d570\", element=\"54ff60c5-2488-4bd3-ad9a-ec8f4a6d6b9f\")>,\n",
       " <selenium.webdriver.remote.webelement.WebElement (session=\"75ac23d581aee9d67418c4f82200d570\", element=\"28156083-d0e9-4f62-9cc5-9134f9eecbd8\")>,\n",
       " <selenium.webdriver.remote.webelement.WebElement (session=\"75ac23d581aee9d67418c4f82200d570\", element=\"e513793e-9270-4004-b0aa-f29d400679ad\")>,\n",
       " <selenium.webdriver.remote.webelement.WebElement (session=\"75ac23d581aee9d67418c4f82200d570\", element=\"a1e18bf9-36fe-43de-9bc5-9f05e987cc23\")>,\n",
       " <selenium.webdriver.remote.webelement.WebElement (session=\"75ac23d581aee9d67418c4f82200d570\", element=\"5971f7b7-acdf-4331-ae3d-3dc1761680df\")>,\n",
       " <selenium.webdriver.remote.webelement.WebElement (session=\"75ac23d581aee9d67418c4f82200d570\", element=\"22f4cf60-d0cf-4517-992c-5a8c5adf6257\")>,\n",
       " <selenium.webdriver.remote.webelement.WebElement (session=\"75ac23d581aee9d67418c4f82200d570\", element=\"6b28cf18-f310-4fe2-b246-d8d270ad11b6\")>,\n",
       " <selenium.webdriver.remote.webelement.WebElement (session=\"75ac23d581aee9d67418c4f82200d570\", element=\"ed763534-4c86-4f75-a669-2e70c62d9cc0\")>,\n",
       " <selenium.webdriver.remote.webelement.WebElement (session=\"75ac23d581aee9d67418c4f82200d570\", element=\"11aae13a-ca10-40c5-84b1-51f16ce438a2\")>,\n",
       " <selenium.webdriver.remote.webelement.WebElement (session=\"75ac23d581aee9d67418c4f82200d570\", element=\"4afd141b-64b6-4abe-9feb-7e3935c649e5\")>,\n",
       " <selenium.webdriver.remote.webelement.WebElement (session=\"75ac23d581aee9d67418c4f82200d570\", element=\"38a89cf8-8e1d-4183-a34e-bd21e4260c69\")>,\n",
       " <selenium.webdriver.remote.webelement.WebElement (session=\"75ac23d581aee9d67418c4f82200d570\", element=\"34eb5d3c-766e-4e95-8f62-1848dea22cd5\")>,\n",
       " <selenium.webdriver.remote.webelement.WebElement (session=\"75ac23d581aee9d67418c4f82200d570\", element=\"c8c49745-f245-4143-8142-ac4589999df3\")>,\n",
       " <selenium.webdriver.remote.webelement.WebElement (session=\"75ac23d581aee9d67418c4f82200d570\", element=\"faf51432-5681-4329-8e75-7a6ec1b13338\")>,\n",
       " <selenium.webdriver.remote.webelement.WebElement (session=\"75ac23d581aee9d67418c4f82200d570\", element=\"ff3e1fe8-db37-465b-8562-37c5c33a750d\")>,\n",
       " <selenium.webdriver.remote.webelement.WebElement (session=\"75ac23d581aee9d67418c4f82200d570\", element=\"494eb771-7fa0-4743-91e3-21a325e4d557\")>,\n",
       " <selenium.webdriver.remote.webelement.WebElement (session=\"75ac23d581aee9d67418c4f82200d570\", element=\"90d40a31-5ff0-4d15-92ed-2c38c07e947a\")>,\n",
       " <selenium.webdriver.remote.webelement.WebElement (session=\"75ac23d581aee9d67418c4f82200d570\", element=\"7af4cce0-9aab-47a9-8db8-095689b06c89\")>,\n",
       " <selenium.webdriver.remote.webelement.WebElement (session=\"75ac23d581aee9d67418c4f82200d570\", element=\"133954d2-4254-4b78-8ec2-04bd1b272a93\")>,\n",
       " <selenium.webdriver.remote.webelement.WebElement (session=\"75ac23d581aee9d67418c4f82200d570\", element=\"ac80505a-31d5-4ee5-aaf9-6037ee2d2222\")>,\n",
       " <selenium.webdriver.remote.webelement.WebElement (session=\"75ac23d581aee9d67418c4f82200d570\", element=\"a5b9af8c-6c24-4d3c-b279-117ab7b5ff89\")>,\n",
       " <selenium.webdriver.remote.webelement.WebElement (session=\"75ac23d581aee9d67418c4f82200d570\", element=\"c5fbfe74-5b3f-4332-abf8-ed39ed907b06\")>,\n",
       " <selenium.webdriver.remote.webelement.WebElement (session=\"75ac23d581aee9d67418c4f82200d570\", element=\"518ab641-0200-47c8-8d76-758090b4b533\")>,\n",
       " <selenium.webdriver.remote.webelement.WebElement (session=\"75ac23d581aee9d67418c4f82200d570\", element=\"eec176c9-8454-4fd1-bc47-aa7c7e22175c\")>,\n",
       " <selenium.webdriver.remote.webelement.WebElement (session=\"75ac23d581aee9d67418c4f82200d570\", element=\"84be1686-bb79-4d24-9cf3-d1e6ecc9a910\")>,\n",
       " <selenium.webdriver.remote.webelement.WebElement (session=\"75ac23d581aee9d67418c4f82200d570\", element=\"a066e756-b87c-4f5a-ba2b-e599319ac671\")>,\n",
       " <selenium.webdriver.remote.webelement.WebElement (session=\"75ac23d581aee9d67418c4f82200d570\", element=\"3a272b28-0549-4d38-9af1-e46e454a9a14\")>,\n",
       " <selenium.webdriver.remote.webelement.WebElement (session=\"75ac23d581aee9d67418c4f82200d570\", element=\"2f6eded3-d592-4bf8-af66-53a7d25c9946\")>,\n",
       " <selenium.webdriver.remote.webelement.WebElement (session=\"75ac23d581aee9d67418c4f82200d570\", element=\"f4851054-bc9e-4e83-9f1d-ad6e80bf08f4\")>,\n",
       " <selenium.webdriver.remote.webelement.WebElement (session=\"75ac23d581aee9d67418c4f82200d570\", element=\"e091e751-ed32-48a2-bbd0-45915ca9b0cd\")>,\n",
       " <selenium.webdriver.remote.webelement.WebElement (session=\"75ac23d581aee9d67418c4f82200d570\", element=\"7f4ac361-10c6-4b63-93df-717dce60dddb\")>,\n",
       " <selenium.webdriver.remote.webelement.WebElement (session=\"75ac23d581aee9d67418c4f82200d570\", element=\"5f785d17-e4c8-4da4-94f1-686fe5c3f218\")>,\n",
       " <selenium.webdriver.remote.webelement.WebElement (session=\"75ac23d581aee9d67418c4f82200d570\", element=\"72aa20bf-b453-41a9-b2af-06beca163f7c\")>,\n",
       " <selenium.webdriver.remote.webelement.WebElement (session=\"75ac23d581aee9d67418c4f82200d570\", element=\"3646707e-072c-494d-8cd7-ab769fc996dd\")>,\n",
       " <selenium.webdriver.remote.webelement.WebElement (session=\"75ac23d581aee9d67418c4f82200d570\", element=\"2a6885d3-fdeb-4deb-a985-c6b3afe968e8\")>,\n",
       " <selenium.webdriver.remote.webelement.WebElement (session=\"75ac23d581aee9d67418c4f82200d570\", element=\"ca9ea032-3a79-41c3-b14a-a440e48733bd\")>,\n",
       " <selenium.webdriver.remote.webelement.WebElement (session=\"75ac23d581aee9d67418c4f82200d570\", element=\"2c50456d-0fd8-46bb-a8a8-ce1cb0d8bf95\")>,\n",
       " <selenium.webdriver.remote.webelement.WebElement (session=\"75ac23d581aee9d67418c4f82200d570\", element=\"67dba414-517d-44da-879a-cafcc83ae9cb\")>,\n",
       " <selenium.webdriver.remote.webelement.WebElement (session=\"75ac23d581aee9d67418c4f82200d570\", element=\"096bece3-de42-4f7f-986d-6ab5e722a996\")>,\n",
       " <selenium.webdriver.remote.webelement.WebElement (session=\"75ac23d581aee9d67418c4f82200d570\", element=\"646ab102-1506-42ad-8cb0-c7f721310324\")>,\n",
       " <selenium.webdriver.remote.webelement.WebElement (session=\"75ac23d581aee9d67418c4f82200d570\", element=\"e67b346a-19b1-438b-bdc8-f2882cc5ff82\")>,\n",
       " <selenium.webdriver.remote.webelement.WebElement (session=\"75ac23d581aee9d67418c4f82200d570\", element=\"16d00ab7-24c5-4922-96ae-af1e263a2e3d\")>,\n",
       " <selenium.webdriver.remote.webelement.WebElement (session=\"75ac23d581aee9d67418c4f82200d570\", element=\"9a4d221a-5d9c-463b-a1fa-26fd401348fe\")>,\n",
       " <selenium.webdriver.remote.webelement.WebElement (session=\"75ac23d581aee9d67418c4f82200d570\", element=\"c218e2e9-3b50-45d3-89cf-33cf88c1d3c4\")>,\n",
       " <selenium.webdriver.remote.webelement.WebElement (session=\"75ac23d581aee9d67418c4f82200d570\", element=\"56bc4e65-14a5-4352-a335-2c792982aee1\")>,\n",
       " <selenium.webdriver.remote.webelement.WebElement (session=\"75ac23d581aee9d67418c4f82200d570\", element=\"0df84191-e222-4aab-8420-d2c93d3cf696\")>,\n",
       " <selenium.webdriver.remote.webelement.WebElement (session=\"75ac23d581aee9d67418c4f82200d570\", element=\"6c100ba8-b9ab-4773-9308-0a33a479b18a\")>,\n",
       " <selenium.webdriver.remote.webelement.WebElement (session=\"75ac23d581aee9d67418c4f82200d570\", element=\"c41ea43c-511a-4d49-a7e0-b36de9ec60c8\")>,\n",
       " <selenium.webdriver.remote.webelement.WebElement (session=\"75ac23d581aee9d67418c4f82200d570\", element=\"ad96f8ac-50b7-46fd-9ffb-565bc0702350\")>,\n",
       " <selenium.webdriver.remote.webelement.WebElement (session=\"75ac23d581aee9d67418c4f82200d570\", element=\"d139d742-fca2-456c-a638-56cbe8a30a11\")>,\n",
       " <selenium.webdriver.remote.webelement.WebElement (session=\"75ac23d581aee9d67418c4f82200d570\", element=\"417de482-c826-4f95-bb4c-a168c4d37c3a\")>,\n",
       " <selenium.webdriver.remote.webelement.WebElement (session=\"75ac23d581aee9d67418c4f82200d570\", element=\"68672ead-44bf-4280-88c8-28a4229acc8d\")>,\n",
       " <selenium.webdriver.remote.webelement.WebElement (session=\"75ac23d581aee9d67418c4f82200d570\", element=\"0a475eb8-c989-49e7-87f1-ae4dd041065a\")>,\n",
       " <selenium.webdriver.remote.webelement.WebElement (session=\"75ac23d581aee9d67418c4f82200d570\", element=\"ff25270d-f6d8-4b80-9ef7-e04a2930daa6\")>]"
      ]
     },
     "execution_count": 29,
     "metadata": {},
     "output_type": "execute_result"
    }
   ],
   "source": [
    "# list_of_metas"
   ]
  },
  {
   "cell_type": "code",
   "execution_count": null,
   "metadata": {},
   "outputs": [],
   "source": []
  },
  {
   "cell_type": "code",
   "execution_count": 21,
   "metadata": {},
   "outputs": [],
   "source": [
    "driver.find_element_by_class_name('_1ip5u88')."
   ]
  },
  {
   "cell_type": "code",
   "execution_count": null,
   "metadata": {},
   "outputs": [],
   "source": [
    "'<a href=\"/s/seattle/homes?refinement_paths%5B%5D=%2Fhomes&amp;current_tab_id=home_tab&amp;selected_tab_id=home_tab&amp;screen_size=medium&amp;hide_dates_and_guests_filters=true&amp;place_id=ChIJVTPokywQkFQRmtVEaUZlJRA&amp;s_tag=y6o2gwE0&amp;search_type=pagination&amp;section_offset=5&amp;items_offset=36\" class=\"_1ip5u88\" aria-busy=\"false\"><div class=\"_1m76pmy\"><svg viewBox=\"0 0 18 18\" role=\"img\" aria-label=\"Next\" focusable=\"false\" style=\"height: 0.75em; width: 0.75em; display: block; fill: currentcolor;\"><path d=\"m4.29 1.71a1 1 0 1 1 1.42-1.41l8 8a1 1 0 0 1 0 1.41l-8 8a1 1 0 1 1 -1.42-1.41l7.29-7.29z\" fill-rule=\"evenodd\"></path></svg></div></a>'"
   ]
  }
 ],
 "metadata": {
  "kernelspec": {
   "display_name": "Python [conda env:metis] *",
   "language": "python",
   "name": "conda-env-metis-py"
  },
  "language_info": {
   "codemirror_mode": {
    "name": "ipython",
    "version": 3
   },
   "file_extension": ".py",
   "mimetype": "text/x-python",
   "name": "python",
   "nbconvert_exporter": "python",
   "pygments_lexer": "ipython3",
   "version": "3.7.3"
  }
 },
 "nbformat": 4,
 "nbformat_minor": 2
}
