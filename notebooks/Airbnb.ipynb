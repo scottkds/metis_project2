{
 "cells": [
  {
   "cell_type": "code",
   "execution_count": 10,
   "metadata": {},
   "outputs": [],
   "source": [
    "# Imports\n",
    "from selenium import webdriver\n",
    "from selenium.webdriver.common.keys import Keys\n",
    "from bs4 import BeautifulSoup\n",
    "import requests\n",
    "import time\n",
    "import sys\n",
    "import chromedriver_binary\n",
    "import re"
   ]
  },
  {
   "cell_type": "code",
   "execution_count": 25,
   "metadata": {},
   "outputs": [
    {
     "name": "stdout",
     "output_type": "stream",
     "text": [
      "Writing some_file.py\n"
     ]
    }
   ],
   "source": [
    "# %%writefile some_file.py\n",
    "\n",
    "# def somefunc():\n",
    "#     pass"
   ]
  },
  {
   "cell_type": "code",
   "execution_count": 27,
   "metadata": {},
   "outputs": [
    {
     "data": {
      "text/plain": [
       "['a', 'a', 'a']"
      ]
     },
     "execution_count": 27,
     "metadata": {},
     "output_type": "execute_result"
    }
   ],
   "source": [
    "['a'] * 3"
   ]
  },
  {
   "cell_type": "code",
   "execution_count": 14,
   "metadata": {},
   "outputs": [],
   "source": [
    "url = 'https://www.airbnb.com/s/seattle/homes?refinement_paths%5B%5D=%2Fhomes&current_tab_id=all_tab&selected_tab_id=all_tab&search_type=pagination&source=structured_search_input_header&screen_size=large&hide_dates_and_guests_filters=true&s_tag=3vGXfNX_&section_offset=5&items_offset=72&checkin=2019-12-22&checkout=2019-12-28&adults=2&room_types%5B%5D=Entire%20home%2Fapt&place_id=ChIJVTPokywQkFQRmtVEaUZlJRA'\n",
    "url = 'https://www.airbnb.com/s/seattle/homes'\n",
    "driver = webdriver.Chrome()\n",
    "driver.get(url)"
   ]
  },
  {
   "cell_type": "code",
   "execution_count": 6,
   "metadata": {},
   "outputs": [
    {
     "data": {
      "text/plain": [
       "'https://www.airbnb.com/s/seattle/homes?refinement_paths%5B%5D=%2Fhomes&current_tab_id=home_tab&selected_tab_id=home_tab&screen_size=large&hide_dates_and_guests_filters=false&place_id=ChIJVTPokywQkFQRmtVEaUZlJRA&adults=1&search_type=filter_change&room_types%5B%5D=Entire%20home%2Fapt'"
      ]
     },
     "execution_count": 6,
     "metadata": {},
     "output_type": "execute_result"
    }
   ],
   "source": [
    "return_url = driver.current_url\n",
    "return_url"
   ]
  },
  {
   "cell_type": "code",
   "execution_count": 9,
   "metadata": {},
   "outputs": [
    {
     "data": {
      "text/plain": [
       "'https://www.airbnb.com/s/seattle/homes?refinement_paths%5B%5D=%2Fhomes&current_tab_id=home_tab&selected_tab_id=home_tab&screen_size=large&hide_dates_and_guests_filters=false&place_id=ChIJVTPokywQkFQRmtVEaUZlJRA&adults=2&search_type=filter_change&room_types%5B%5D=Entire%20home%2Fapt'"
      ]
     },
     "execution_count": 9,
     "metadata": {},
     "output_type": "execute_result"
    }
   ],
   "source": [
    "return_url = return_url.replace('adults=1', 'adults=2')\n",
    "return_url"
   ]
  },
  {
   "cell_type": "code",
   "execution_count": 11,
   "metadata": {},
   "outputs": [],
   "source": [
    "driver.find_element_by_class_name('_1m76pmy').click()"
   ]
  },
  {
   "cell_type": "code",
   "execution_count": 13,
   "metadata": {},
   "outputs": [
    {
     "data": {
      "text/plain": [
       "'19 – 36 of 300+ Rentals'"
      ]
     },
     "execution_count": 13,
     "metadata": {},
     "output_type": "execute_result"
    }
   ],
   "source": [
    "driver.find_element_by_xpath('//*[@id=\"site-content\"]/div/div/div[5]/div/div[1]/div').text"
   ]
  },
  {
   "cell_type": "code",
   "execution_count": 40,
   "metadata": {},
   "outputs": [],
   "source": [
    "list_of_metas = []\n",
    "for i in range(6):\n",
    "#     list_of_metas = driver.find_elements_by_tag_name('meta')\n",
    "    list_of_metas = driver.find_elements_by_xpath(\"//div[contains(@itemprop, 'itemListElement')]\")\n",
    "    list_of_metas[0].\n",
    "    \n",
    "#     print(driver.find_element_by_xpath('//*[@id=\"site-content\"]/div/div/div[5]/div/div[1]/div').text)\n",
    "#     time.sleep(10)\n",
    "    break\n",
    "    if i == 0:\n",
    "        # This class only has one instance ont he first page\n",
    "        driver.find_element_by_class_name('_1m76pmy').click()\n",
    "    else:\n",
    "        # If we're not on the first page then choose the second instance of this class\n",
    "        driver.find_elements_by_class_name('_1m76pmy')[1].click()\n"
   ]
  },
  {
   "cell_type": "code",
   "execution_count": 52,
   "metadata": {},
   "outputs": [
    {
     "name": "stdout",
     "output_type": "stream",
     "text": [
      "18\n",
      "www.airbnb.com/rooms/5918741?previous_page_section_name=1000\n",
      "www.airbnb.com/rooms/491958?previous_page_section_name=1000\n",
      "www.airbnb.com/rooms/20236793?previous_page_section_name=1000\n",
      "www.airbnb.com/rooms/4026757?previous_page_section_name=1000\n",
      "www.airbnb.com/rooms/24893567?previous_page_section_name=1000\n",
      "www.airbnb.com/rooms/8866927?previous_page_section_name=1000\n",
      "www.airbnb.com/rooms/26191517?previous_page_section_name=1000\n",
      "www.airbnb.com/rooms/20214304?previous_page_section_name=1000\n",
      "www.airbnb.com/rooms/17703491?previous_page_section_name=1000\n",
      "www.airbnb.com/rooms/21490266?previous_page_section_name=1000\n",
      "www.airbnb.com/rooms/12972434?previous_page_section_name=1000\n",
      "www.airbnb.com/rooms/21644920?previous_page_section_name=1000\n",
      "www.airbnb.com/rooms/3522409?previous_page_section_name=1000\n",
      "www.airbnb.com/rooms/38105148?previous_page_section_name=1000\n",
      "www.airbnb.com/rooms/11638678?previous_page_section_name=1000\n",
      "www.airbnb.com/rooms/9298045?previous_page_section_name=1000\n",
      "www.airbnb.com/rooms/19556080?previous_page_section_name=1000\n",
      "www.airbnb.com/rooms/2187906?previous_page_section_name=1000\n"
     ]
    }
   ],
   "source": [
    "print(len(list_of_metas))\n",
    "for prop in list_of_metas:\n",
    "    # list_of_metas[0].find_elements_by_tag_name('meta')[2].get_attribute('content')\n",
    "    print(prop.find_elements_by_tag_name('meta')[2].get_attribute('content'))"
   ]
  },
  {
   "cell_type": "code",
   "execution_count": null,
   "metadata": {},
   "outputs": [],
   "source": []
  },
  {
   "cell_type": "code",
   "execution_count": 46,
   "metadata": {},
   "outputs": [],
   "source": [
    "# for meta in list_of_metas:\n",
    "#     print(meta.value_of_css_property('content'))"
   ]
  },
  {
   "cell_type": "code",
   "execution_count": 47,
   "metadata": {},
   "outputs": [],
   "source": [
    "# list_of_metas"
   ]
  },
  {
   "cell_type": "code",
   "execution_count": null,
   "metadata": {},
   "outputs": [],
   "source": [
    "'//*[@id=\"FMP-target\"]/div/div/div/div/div[1]/div/div/meta[3]'"
   ]
  },
  {
   "cell_type": "code",
   "execution_count": 21,
   "metadata": {},
   "outputs": [],
   "source": [
    "driver.find_element_by_class_name('_1ip5u88')."
   ]
  },
  {
   "cell_type": "code",
   "execution_count": null,
   "metadata": {},
   "outputs": [],
   "source": [
    "'<a href=\"/s/seattle/homes?refinement_paths%5B%5D=%2Fhomes&amp;current_tab_id=home_tab&amp;selected_tab_id=home_tab&amp;screen_size=medium&amp;hide_dates_and_guests_filters=true&amp;place_id=ChIJVTPokywQkFQRmtVEaUZlJRA&amp;s_tag=y6o2gwE0&amp;search_type=pagination&amp;section_offset=5&amp;items_offset=36\" class=\"_1ip5u88\" aria-busy=\"false\"><div class=\"_1m76pmy\"><svg viewBox=\"0 0 18 18\" role=\"img\" aria-label=\"Next\" focusable=\"false\" style=\"height: 0.75em; width: 0.75em; display: block; fill: currentcolor;\"><path d=\"m4.29 1.71a1 1 0 1 1 1.42-1.41l8 8a1 1 0 0 1 0 1.41l-8 8a1 1 0 1 1 -1.42-1.41l7.29-7.29z\" fill-rule=\"evenodd\"></path></svg></div></a>'"
   ]
  },
  {
   "cell_type": "code",
   "execution_count": null,
   "metadata": {},
   "outputs": [],
   "source": [
    "'//*[@id=\"FMP-target\"]/div/div/div/div/div[1]/div/div/meta[3]'"
   ]
  }
 ],
 "metadata": {
  "kernelspec": {
   "display_name": "Python [conda env:metis] *",
   "language": "python",
   "name": "conda-env-metis-py"
  },
  "language_info": {
   "codemirror_mode": {
    "name": "ipython",
    "version": 3
   },
   "file_extension": ".py",
   "mimetype": "text/x-python",
   "name": "python",
   "nbconvert_exporter": "python",
   "pygments_lexer": "ipython3",
   "version": "3.7.3"
  }
 },
 "nbformat": 4,
 "nbformat_minor": 2
}
