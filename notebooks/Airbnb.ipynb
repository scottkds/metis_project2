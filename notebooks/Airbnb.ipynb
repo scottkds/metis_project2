{
 "cells": [
  {
   "cell_type": "code",
   "execution_count": 1,
   "metadata": {},
   "outputs": [],
   "source": [
    "# Imports\n",
    "from selenium import webdriver\n",
    "from selenium.webdriver.common.keys import Keys\n",
    "from bs4 import BeautifulSoup\n",
    "import requests\n",
    "import time\n",
    "import sys\n",
    "import chromedriver_binary\n",
    "import re\n",
    "from collections import defaultdict"
   ]
  },
  {
   "cell_type": "code",
   "execution_count": 2,
   "metadata": {},
   "outputs": [],
   "source": [
    "def fmt_url(url_string, items_per_page, page_nbr):\n",
    "    return url_string.format(items_per_page * (page_nbr - 1))"
   ]
  },
  {
   "cell_type": "code",
   "execution_count": 3,
   "metadata": {},
   "outputs": [],
   "source": [
    "URL = 'https://www.airbnb.com/s/seattle/homes?refinement_paths%5B%5D=%2Fhomes&current_tab_id=home_tab&selected_tab_id=home_tab&screen_size=large&hide_dates_and_guests_filters=false&place_id=ChIJVTPokywQkFQRmtVEaUZlJRA&search_type=pagination&source=structured_search_input_header&checkin=2019-12-22&checkout=2019-12-28&adults=1&room_types%5B%5D=Entire%20home%2Fapt&s_tag=BnVpdDt-&section_offset=5&items_offset={}&last_search_session_id=38f56942-96ed-430e-a723-bc7e1b7f9947'"
   ]
  },
  {
   "cell_type": "code",
   "execution_count": 4,
   "metadata": {},
   "outputs": [],
   "source": [
    "driver = webdriver.Chrome()\n",
    "# driver.get(url2)"
   ]
  },
  {
   "cell_type": "code",
   "execution_count": 5,
   "metadata": {},
   "outputs": [],
   "source": [
    "list_of_links = []"
   ]
  },
  {
   "cell_type": "code",
   "execution_count": 6,
   "metadata": {},
   "outputs": [],
   "source": [
    "window = driver.window_handles[0]"
   ]
  },
  {
   "cell_type": "code",
   "execution_count": 7,
   "metadata": {},
   "outputs": [],
   "source": [
    "for i in range(1, 18):\n",
    "    url2 = fmt_url(URL, 18, i)\n",
    "    driver.switch_to.window(window)\n",
    "    driver.get(url2)\n",
    "    time.sleep(10)\n",
    "    dict_of_urls = defaultdict(int)\n",
    "    a = driver.find_elements_by_tag_name('a')\n",
    "    for element in a:\n",
    "        link = element.get_attribute('href')\n",
    "        if not link is None and link.find('rooms') != -1:\n",
    "            dict_of_urls[link] += 1\n",
    "    list_of_links += list(dict_of_urls.keys())"
   ]
  },
  {
   "cell_type": "code",
   "execution_count": 8,
   "metadata": {},
   "outputs": [
    {
     "name": "stdout",
     "output_type": "stream",
     "text": [
      "306\n"
     ]
    },
    {
     "data": {
      "text/plain": [
       "['https://www.airbnb.com/rooms/34127978?adults=1&check_in=2019-12-22&check_out=2019-12-28&previous_page_section_name=1000',\n",
       " 'https://www.airbnb.com/rooms/29736429?adults=1&check_in=2019-12-22&check_out=2019-12-28&previous_page_section_name=1000',\n",
       " 'https://www.airbnb.com/rooms/22750242?adults=1&check_in=2019-12-22&check_out=2019-12-28&previous_page_section_name=1000',\n",
       " 'https://www.airbnb.com/rooms/32822782?adults=1&check_in=2019-12-22&check_out=2019-12-28&previous_page_section_name=1000',\n",
       " 'https://www.airbnb.com/rooms/39066335?adults=1&check_in=2019-12-22&check_out=2019-12-28&previous_page_section_name=1000']"
      ]
     },
     "execution_count": 8,
     "metadata": {},
     "output_type": "execute_result"
    }
   ],
   "source": [
    "print(len(list_of_links))\n",
    "list_of_links[:5]"
   ]
  },
  {
   "cell_type": "code",
   "execution_count": 10,
   "metadata": {},
   "outputs": [],
   "source": [
    "import pandas as pd"
   ]
  },
  {
   "cell_type": "code",
   "execution_count": 11,
   "metadata": {},
   "outputs": [],
   "source": [
    "pd.DataFrame(pd.Series(list_of_links), columns=['links']).to_csv('links.csv', index=False)"
   ]
  },
  {
   "cell_type": "code",
   "execution_count": null,
   "metadata": {},
   "outputs": [],
   "source": [
    "list_of_links[0] "
   ]
  },
  {
   "cell_type": "code",
   "execution_count": null,
   "metadata": {},
   "outputs": [],
   "source": [
    "for link in list_of_links[4:6]:\n",
    "    prop_dict = {}\n",
    "    driver.get(link)\n",
    "    time.sleep(3)\n",
    "    soup = BeautifulSoup(driver.page_source, \"lxml\")\n",
    "    break"
   ]
  },
  {
   "cell_type": "code",
   "execution_count": null,
   "metadata": {},
   "outputs": [],
   "source": [
    "# soup.find_all('div')\n",
    "# soup.find_all('div', attrs={'style': \"margin-right: 24px;\"})"
   ]
  },
  {
   "cell_type": "code",
   "execution_count": null,
   "metadata": {},
   "outputs": [],
   "source": [
    "tag = soup.find_all('div', attrs={'class' : \"_czm8crp\"})[0]"
   ]
  },
  {
   "cell_type": "code",
   "execution_count": null,
   "metadata": {},
   "outputs": [],
   "source": [
    "tag.get_text()"
   ]
  },
  {
   "cell_type": "code",
   "execution_count": null,
   "metadata": {},
   "outputs": [],
   "source": [
    "# return_url = driver.current_url\n",
    "# return_url"
   ]
  },
  {
   "cell_type": "code",
   "execution_count": null,
   "metadata": {},
   "outputs": [],
   "source": [
    "# return_url = return_url.replace('adults=1', 'adults=2')\n",
    "# return_url"
   ]
  },
  {
   "cell_type": "code",
   "execution_count": null,
   "metadata": {},
   "outputs": [],
   "source": [
    "# driver.find_element_by_class_name('_1m76pmy').click()"
   ]
  },
  {
   "cell_type": "code",
   "execution_count": null,
   "metadata": {},
   "outputs": [],
   "source": [
    "driver.find_element_by_xpath('//*[@id=\"site-content\"]/div/div/div[5]/div/div[1]/div').text"
   ]
  },
  {
   "cell_type": "code",
   "execution_count": null,
   "metadata": {},
   "outputs": [],
   "source": [
    "explore = driver.find_element_by_xpath('//*[@id=\"site-content\"]/div/div/div[4]/div/div/div')\n",
    "explore.find_elements_by_xpath(\"//div[contains(@itemprop, 'itemListElement')]\")[0].find_elements_by_tag_name('meta')[2].get_attribute('content')"
   ]
  },
  {
   "cell_type": "code",
   "execution_count": null,
   "metadata": {},
   "outputs": [],
   "source": [
    "list_of_urls = []\n",
    "\n",
    "for i in range(4):\n",
    "    time.sleep(10)\n",
    "    print(driver.find_element_by_xpath('//*[@id=\"site-content\"]/div/div/div[5]/div/div[1]/div').text)\n",
    "    explore = driver.find_element_by_xpath('//*[@id=\"site-content\"]/div/div/div[4]/div/div/div')\n",
    "    props = explore.find_elements_by_xpath(\"//div[contains(@itemprop, 'itemListElement')]\")\n",
    "    print(explore)\n",
    "    print(len(props))\n",
    "    if i == 0:\n",
    "        # This class only has one instance ont he first page\n",
    "        driver.find_element_by_class_name('_1m76pmy').click()\n",
    "    else:\n",
    "        # If we're not on the first page then choose the second instance of this class\n",
    "        driver.find_elements_by_class_name('_1m76pmy')[1].click()\n"
   ]
  },
  {
   "cell_type": "code",
   "execution_count": null,
   "metadata": {},
   "outputs": [],
   "source": [
    "list_of_urls = []\n",
    "\n",
    "for i in range(4):\n",
    "#     print(driver.current_url)\n",
    "    print(driver.find_element_by_xpath('//*[@id=\"site-content\"]/div/div/div[5]/div/div[1]/div').text)\n",
    "    if i == 0:\n",
    "        list_of_divs = driver.find_elements_by_xpath(\"//div[contains(@itemprop, 'itemListElement')]\")\n",
    "    else:\n",
    "        list_of_divs = driver.find_elements_by_xpath('//*[@id=\"FMP-target\"]/div/div/div/div/div[1]/div/div')\n",
    "    for prop in list_of_divs:\n",
    "        list_of_urls.append(prop.find_elements_by_tag_name('meta')[2].get_attribute('content'))\n",
    "        # print(prop.find_elements_by_tag_name('meta')[2].get_attribute('content'))\n",
    "        # break\n",
    "    print('Len of urls:', len(list_of_urls))\n",
    "    if i == 0:\n",
    "        # This class only has one instance ont he first page\n",
    "        driver.find_element_by_class_name('_1m76pmy').click()\n",
    "    else:\n",
    "        # If we're not on the first page then choose the second instance of this class\n",
    "        driver.find_elements_by_class_name('_1m76pmy')[1].click()\n",
    "    time.sleep(10)\n"
   ]
  },
  {
   "cell_type": "code",
   "execution_count": null,
   "metadata": {},
   "outputs": [],
   "source": [
    "list_of_divs = driver.find_element_by_xpath(\"//div[contains(@itemprop, 'itemListElement')]\")\n",
    "list_of_divs"
   ]
  },
  {
   "cell_type": "code",
   "execution_count": null,
   "metadata": {},
   "outputs": [],
   "source": [
    "driver.find_elements_by_xpath('//*[@id=\"FMP-target\"]/div/div/div/div/div[1]/div/div')[0].find_elements_by_tag_name('meta')[2].get_attribute('content')"
   ]
  },
  {
   "cell_type": "code",
   "execution_count": null,
   "metadata": {},
   "outputs": [],
   "source": [
    "for i, v in enumerate(list_of_urls):\n",
    "    print(i, v)"
   ]
  },
  {
   "cell_type": "code",
   "execution_count": null,
   "metadata": {},
   "outputs": [],
   "source": [
    "print(len(list_of_metas))\n",
    "for prop in list_of_metas:\n",
    "    # list_of_metas[0].find_elements_by_tag_name('meta')[2].get_attribute('content')\n",
    "    print(prop.find_elements_by_tag_name('meta')[2].get_attribute('content'))"
   ]
  },
  {
   "cell_type": "code",
   "execution_count": null,
   "metadata": {},
   "outputs": [],
   "source": []
  },
  {
   "cell_type": "code",
   "execution_count": null,
   "metadata": {},
   "outputs": [],
   "source": [
    "# for meta in list_of_metas:\n",
    "#     print(meta.value_of_css_property('content'))"
   ]
  },
  {
   "cell_type": "code",
   "execution_count": null,
   "metadata": {},
   "outputs": [],
   "source": [
    "# list_of_metas"
   ]
  },
  {
   "cell_type": "code",
   "execution_count": null,
   "metadata": {},
   "outputs": [],
   "source": [
    "'//*[@id=\"FMP-target\"]/div/div/div/div/div[1]/div/div/meta[3]'"
   ]
  },
  {
   "cell_type": "code",
   "execution_count": null,
   "metadata": {},
   "outputs": [],
   "source": [
    "driver.find_element_by_class_name('_1ip5u88')."
   ]
  },
  {
   "cell_type": "code",
   "execution_count": null,
   "metadata": {},
   "outputs": [],
   "source": [
    "'<a href=\"/s/seattle/homes?refinement_paths%5B%5D=%2Fhomes&amp;current_tab_id=home_tab&amp;selected_tab_id=home_tab&amp;screen_size=medium&amp;hide_dates_and_guests_filters=true&amp;place_id=ChIJVTPokywQkFQRmtVEaUZlJRA&amp;s_tag=y6o2gwE0&amp;search_type=pagination&amp;section_offset=5&amp;items_offset=36\" class=\"_1ip5u88\" aria-busy=\"false\"><div class=\"_1m76pmy\"><svg viewBox=\"0 0 18 18\" role=\"img\" aria-label=\"Next\" focusable=\"false\" style=\"height: 0.75em; width: 0.75em; display: block; fill: currentcolor;\"><path d=\"m4.29 1.71a1 1 0 1 1 1.42-1.41l8 8a1 1 0 0 1 0 1.41l-8 8a1 1 0 1 1 -1.42-1.41l7.29-7.29z\" fill-rule=\"evenodd\"></path></svg></div></a>'"
   ]
  },
  {
   "cell_type": "code",
   "execution_count": null,
   "metadata": {},
   "outputs": [],
   "source": [
    "'//*[@id=\"FMP-target\"]/div/div/div/div/div[1]/div/div/meta[3]'"
   ]
  },
  {
   "cell_type": "code",
   "execution_count": null,
   "metadata": {},
   "outputs": [],
   "source": [
    "'https://www.airbnb.com/s/seattle/homes?refinement_paths%5B%5D=%2Fhomes&current_tab_id=home_tab&selected_tab_id=home_tab&screen_size=large&hide_dates_and_guests_filters=true&place_id=ChIJVTPokywQkFQRmtVEaUZlJRA&s_tag=o6LsNXgV&search_type=pagination'"
   ]
  },
  {
   "cell_type": "code",
   "execution_count": null,
   "metadata": {},
   "outputs": [],
   "source": [
    "while None in [None, None, None]:\n"
   ]
  },
  {
   "cell_type": "code",
   "execution_count": null,
   "metadata": {},
   "outputs": [],
   "source": [
    "l = [1,1,1,None]\n",
    "while l.remove(None):\n",
    "    pass"
   ]
  },
  {
   "cell_type": "code",
   "execution_count": null,
   "metadata": {},
   "outputs": [],
   "source": [
    "l"
   ]
  },
  {
   "cell_type": "code",
   "execution_count": null,
   "metadata": {},
   "outputs": [],
   "source": []
  },
  {
   "cell_type": "code",
   "execution_count": null,
   "metadata": {},
   "outputs": [],
   "source": [
    "def get_links(driver, url, page):\n",
    "    url = url.format((page - 1) * 18)\n",
    "    print(url)\n",
    "    driver.get(url)\n",
    "    time.sleep(4)\n",
    "    dict_of_urls = defaultdict(int)\n",
    "    a = driver.find_elements_by_tag_name('a')\n",
    "    print(len(a))\n",
    "    for element in a:\n",
    "        link = element.get_attribute('href')\n",
    "        if not link is None and link.find('rooms') != -1:\n",
    "            dict_of_urls[link] += 1\n",
    "    return list(dict_of_urls.keys())\n",
    "get_links(driver, URL, 1)"
   ]
  }
 ],
 "metadata": {
  "kernelspec": {
   "display_name": "Python [conda env:metis] *",
   "language": "python",
   "name": "conda-env-metis-py"
  },
  "language_info": {
   "codemirror_mode": {
    "name": "ipython",
    "version": 3
   },
   "file_extension": ".py",
   "mimetype": "text/x-python",
   "name": "python",
   "nbconvert_exporter": "python",
   "pygments_lexer": "ipython3",
   "version": "3.7.3"
  }
 },
 "nbformat": 4,
 "nbformat_minor": 2
}
