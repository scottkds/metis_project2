{
 "cells": [
  {
   "cell_type": "markdown",
   "metadata": {},
   "source": [
    "### Linear Regression of Airbnb Room Data"
   ]
  },
  {
   "cell_type": "code",
   "execution_count": 1,
   "metadata": {
    "ExecuteTime": {
     "end_time": "2019-10-09T21:02:36.705658Z",
     "start_time": "2019-10-09T21:02:35.716064Z"
    }
   },
   "outputs": [],
   "source": [
    "# Imports\n",
    "import seaborn as sns\n",
    "import matplotlib.pyplot as plt\n",
    "from sklearn.linear_model import LinearRegression, LassoCV, RidgeCV, Lasso, Ridge\n",
    "from sklearn.preprocessing import StandardScaler, PolynomialFeatures, FunctionTransformer\n",
    "from sklearn.model_selection import train_test_split, cross_val_score\n",
    "from sklearn.pipeline import make_pipeline\n",
    "from sklearn.metrics import mean_squared_error\n",
    "import statsmodels.api as sm\n",
    "import numpy as np\n",
    "from sklearn_pandas import DataFrameMapper\n",
    "# import statsmodels.formula.api as smf\n",
    "import pandas as pd"
   ]
  },
  {
   "cell_type": "code",
   "execution_count": 2,
   "metadata": {
    "ExecuteTime": {
     "end_time": "2019-10-09T21:02:36.710773Z",
     "start_time": "2019-10-09T21:02:36.707291Z"
    }
   },
   "outputs": [],
   "source": [
    "def print_scores(model, xtrain, ytrain, xtest, ytest):\n",
    "    \"\"\"Prints scores for a model with training, and test data splits.\"\"\"\n",
    "    print('Train R2', round(model.score(xtrain, ytrain), 3))\n",
    "    print('Test R2', round(model.score(xtest, ytest), 3))\n",
    "    return None"
   ]
  },
  {
   "cell_type": "code",
   "execution_count": 3,
   "metadata": {
    "ExecuteTime": {
     "end_time": "2019-10-09T21:02:36.715351Z",
     "start_time": "2019-10-09T21:02:36.712586Z"
    }
   },
   "outputs": [],
   "source": [
    "def print_root_mean_err(true, pred):\n",
    "    print('RMSError = ${}'.format(round(np.sqrt(mean_squared_error(true, pred)), 2)))\n",
    "    return None"
   ]
  },
  {
   "cell_type": "code",
   "execution_count": 4,
   "metadata": {
    "ExecuteTime": {
     "end_time": "2019-10-09T21:02:36.720130Z",
     "start_time": "2019-10-09T21:02:36.716958Z"
    }
   },
   "outputs": [],
   "source": [
    "def replace_zeroes(series):\n",
    "    new_series = pd.Series(index=series.index)\n",
    "    for idx, item in series.iteritems():\n",
    "        new_series[idx] = 1 if item == 0 else item\n",
    "    return new_series"
   ]
  },
  {
   "cell_type": "code",
   "execution_count": 5,
   "metadata": {
    "ExecuteTime": {
     "end_time": "2019-10-09T21:02:36.737544Z",
     "start_time": "2019-10-09T21:02:36.721632Z"
    }
   },
   "outputs": [],
   "source": [
    "# Read in room data\n",
    "rooms = pd.read_csv('../data/bogota-clean-10-06-2019--20-16-39.csv')\n",
    "rooms['cleaning_fee'] = replace_zeroes(rooms.cleaning_fee)\n",
    "rooms['beds'] = replace_zeroes(rooms.beds)"
   ]
  },
  {
   "cell_type": "code",
   "execution_count": 61,
   "metadata": {
    "ExecuteTime": {
     "end_time": "2019-10-09T21:51:17.024036Z",
     "start_time": "2019-10-09T21:51:16.996336Z"
    }
   },
   "outputs": [
    {
     "data": {
      "text/html": [
       "<div>\n",
       "<style scoped>\n",
       "    .dataframe tbody tr th:only-of-type {\n",
       "        vertical-align: middle;\n",
       "    }\n",
       "\n",
       "    .dataframe tbody tr th {\n",
       "        vertical-align: top;\n",
       "    }\n",
       "\n",
       "    .dataframe thead th {\n",
       "        text-align: right;\n",
       "    }\n",
       "</style>\n",
       "<table border=\"1\" class=\"dataframe\">\n",
       "  <thead>\n",
       "    <tr style=\"text-align: right;\">\n",
       "      <th></th>\n",
       "      <th>id</th>\n",
       "      <th>guests</th>\n",
       "      <th>bedrooms</th>\n",
       "      <th>beds</th>\n",
       "      <th>baths</th>\n",
       "      <th>cleaning_fee</th>\n",
       "      <th>service_fee</th>\n",
       "      <th>amenities</th>\n",
       "      <th>superhost</th>\n",
       "      <th>narrative</th>\n",
       "      <th>rules</th>\n",
       "      <th>price</th>\n",
       "    </tr>\n",
       "  </thead>\n",
       "  <tbody>\n",
       "    <tr>\n",
       "      <td>0</td>\n",
       "      <td>38238821</td>\n",
       "      <td>3.0</td>\n",
       "      <td>1.0</td>\n",
       "      <td>1.0</td>\n",
       "      <td>2.0</td>\n",
       "      <td>1.0</td>\n",
       "      <td>212.0</td>\n",
       "      <td>18.0</td>\n",
       "      <td>1</td>\n",
       "      <td>95.0</td>\n",
       "      <td>8.0</td>\n",
       "      <td>274.0</td>\n",
       "    </tr>\n",
       "    <tr>\n",
       "      <td>1</td>\n",
       "      <td>31941600</td>\n",
       "      <td>4.0</td>\n",
       "      <td>1.0</td>\n",
       "      <td>1.0</td>\n",
       "      <td>1.0</td>\n",
       "      <td>5.0</td>\n",
       "      <td>10.0</td>\n",
       "      <td>29.0</td>\n",
       "      <td>0</td>\n",
       "      <td>76.0</td>\n",
       "      <td>17.0</td>\n",
       "      <td>12.0</td>\n",
       "    </tr>\n",
       "    <tr>\n",
       "      <td>2</td>\n",
       "      <td>32079582</td>\n",
       "      <td>6.0</td>\n",
       "      <td>1.0</td>\n",
       "      <td>2.0</td>\n",
       "      <td>1.0</td>\n",
       "      <td>8.0</td>\n",
       "      <td>10.0</td>\n",
       "      <td>32.0</td>\n",
       "      <td>0</td>\n",
       "      <td>76.0</td>\n",
       "      <td>17.0</td>\n",
       "      <td>12.0</td>\n",
       "    </tr>\n",
       "    <tr>\n",
       "      <td>3</td>\n",
       "      <td>34259803</td>\n",
       "      <td>5.0</td>\n",
       "      <td>2.0</td>\n",
       "      <td>2.0</td>\n",
       "      <td>1.0</td>\n",
       "      <td>9.0</td>\n",
       "      <td>21.0</td>\n",
       "      <td>34.0</td>\n",
       "      <td>0</td>\n",
       "      <td>92.0</td>\n",
       "      <td>21.0</td>\n",
       "      <td>26.0</td>\n",
       "    </tr>\n",
       "    <tr>\n",
       "      <td>4</td>\n",
       "      <td>10823924</td>\n",
       "      <td>8.0</td>\n",
       "      <td>4.0</td>\n",
       "      <td>6.0</td>\n",
       "      <td>4.0</td>\n",
       "      <td>50.0</td>\n",
       "      <td>320.0</td>\n",
       "      <td>23.0</td>\n",
       "      <td>1</td>\n",
       "      <td>45.0</td>\n",
       "      <td>24.0</td>\n",
       "      <td>405.0</td>\n",
       "    </tr>\n",
       "  </tbody>\n",
       "</table>\n",
       "</div>"
      ],
      "text/plain": [
       "         id  guests  bedrooms  beds  baths  cleaning_fee  service_fee  \\\n",
       "0  38238821     3.0       1.0   1.0    2.0           1.0        212.0   \n",
       "1  31941600     4.0       1.0   1.0    1.0           5.0         10.0   \n",
       "2  32079582     6.0       1.0   2.0    1.0           8.0         10.0   \n",
       "3  34259803     5.0       2.0   2.0    1.0           9.0         21.0   \n",
       "4  10823924     8.0       4.0   6.0    4.0          50.0        320.0   \n",
       "\n",
       "   amenities  superhost  narrative  rules  price  \n",
       "0       18.0          1       95.0    8.0  274.0  \n",
       "1       29.0          0       76.0   17.0   12.0  \n",
       "2       32.0          0       76.0   17.0   12.0  \n",
       "3       34.0          0       92.0   21.0   26.0  \n",
       "4       23.0          1       45.0   24.0  405.0  "
      ]
     },
     "execution_count": 61,
     "metadata": {},
     "output_type": "execute_result"
    }
   ],
   "source": [
    "rooms.head()"
   ]
  },
  {
   "cell_type": "code",
   "execution_count": 6,
   "metadata": {
    "ExecuteTime": {
     "end_time": "2019-10-09T21:02:36.740709Z",
     "start_time": "2019-10-09T21:02:36.738921Z"
    }
   },
   "outputs": [],
   "source": [
    "# Read in room data\n",
    "# rooms = pd.read_csv('../data/tokyo-clean-10-09-2019--12-31-16.csv')\n",
    "# rooms['cleaning_fee'] = replace_zeroes(rooms.cleaning_fee)\n",
    "# rooms['bedrooms'] = replace_zeroes(rooms.bedrooms)\n",
    "# rooms['baths'] = replace_zeroes(rooms.baths)\n",
    "# rooms['beds'] = replace_zeroes(rooms.beds)"
   ]
  },
  {
   "cell_type": "code",
   "execution_count": 7,
   "metadata": {
    "ExecuteTime": {
     "end_time": "2019-10-09T21:02:36.748232Z",
     "start_time": "2019-10-09T21:02:36.742185Z"
    }
   },
   "outputs": [],
   "source": [
    "# Set target variable and features array. The target is the price of the room.\n",
    "y = rooms.price\n",
    "X = rooms[['guests', 'bedrooms', 'beds', 'baths', 'cleaning_fee',\n",
    "           'amenities', 'superhost', 'narrative', 'rules']]\n",
    "X_train, X_test, y_train, y_test = train_test_split(X, y, shuffle=True, random_state=42)\n",
    "y_rmse = y_test.copy()"
   ]
  },
  {
   "cell_type": "code",
   "execution_count": 8,
   "metadata": {
    "ExecuteTime": {
     "end_time": "2019-10-09T21:02:36.754734Z",
     "start_time": "2019-10-09T21:02:36.750001Z"
    }
   },
   "outputs": [],
   "source": [
    "# Fit training data and attempt to predict test data.\n",
    "lr = LinearRegression(n_jobs=10, copy_X=True)\n",
    "lr.fit(X_train, y_train)\n",
    "y_predict = lr.predict(X_test)"
   ]
  },
  {
   "cell_type": "code",
   "execution_count": 9,
   "metadata": {
    "ExecuteTime": {
     "end_time": "2019-10-09T21:02:36.896356Z",
     "start_time": "2019-10-09T21:02:36.756050Z"
    }
   },
   "outputs": [
    {
     "data": {
      "image/png": "[encoded data removed]",
      "text/plain": [
       "<Figure size 432x288 with 1 Axes>"
      ]
     },
     "metadata": {
      "needs_background": "light"
     },
     "output_type": "display_data"
    }
   ],
   "source": [
    "# Plot predicted values vs. actual values.\n",
    "plt.title('Predicted vs. Actual Prices USD')\n",
    "plt.xlabel('Predicted Price')\n",
    "plt.ylabel('Actual Price')\n",
    "plt.scatter(y_predict, y_test);"
   ]
  },
  {
   "cell_type": "markdown",
   "metadata": {},
   "source": [
    "Residuals are y_test - y_predict"
   ]
  },
  {
   "cell_type": "markdown",
   "metadata": {},
   "source": [
    "Display the $R^2\\; score$ for the predicted values."
   ]
  },
  {
   "cell_type": "code",
   "execution_count": 10,
   "metadata": {
    "ExecuteTime": {
     "end_time": "2019-10-09T21:02:36.905550Z",
     "start_time": "2019-10-09T21:02:36.898447Z"
    }
   },
   "outputs": [
    {
     "name": "stdout",
     "output_type": "stream",
     "text": [
      "Train R2 0.457\n",
      "Test R2 0.471\n",
      "RMSError = $59.89\n"
     ]
    }
   ],
   "source": [
    "# r^2 scores\n",
    "print_scores(lr, X_train, y_train, X_test, y_test)\n",
    "print_root_mean_err(y_rmse, y_predict)"
   ]
  },
  {
   "cell_type": "code",
   "execution_count": 11,
   "metadata": {
    "ExecuteTime": {
     "end_time": "2019-10-09T21:02:37.066317Z",
     "start_time": "2019-10-09T21:02:36.906642Z"
    }
   },
   "outputs": [
    {
     "data": {
      "image/png": "[encoded data removed]",
      "text/plain": [
       "<Figure size 432x288 with 1 Axes>"
      ]
     },
     "metadata": {
      "needs_background": "light"
     },
     "output_type": "display_data"
    }
   ],
   "source": [
    "# x_vals is for plotting residuals\n",
    "x_vals = np.arange(0, y_test.shape[0], 1)\n",
    "plt.scatter(x_vals, y_test - y_predict)\n",
    "plt.ylim(-100, 100)\n",
    "plt.title('Predicted vs. Actual Prices Residuals')\n",
    "plt.xlabel('Observations')\n",
    "plt.ylabel('Price Difference');"
   ]
  },
  {
   "cell_type": "markdown",
   "metadata": {},
   "source": [
    "#### Since Linear Regression didn't perform that great we will try applying some transforms"
   ]
  },
  {
   "cell_type": "code",
   "execution_count": 12,
   "metadata": {
    "ExecuteTime": {
     "end_time": "2019-10-09T21:02:37.075715Z",
     "start_time": "2019-10-09T21:02:37.067752Z"
    }
   },
   "outputs": [],
   "source": [
    "# Rerun the regression with transforms\n",
    "pipe = make_pipeline(StandardScaler(), LinearRegression(copy_X=True))\n",
    "pipe.fit(X_train, y_train)\n",
    "y_scaled_predict = pipe.predict(X_test)"
   ]
  },
  {
   "cell_type": "code",
   "execution_count": 13,
   "metadata": {
    "ExecuteTime": {
     "end_time": "2019-10-09T21:02:37.206131Z",
     "start_time": "2019-10-09T21:02:37.076986Z"
    }
   },
   "outputs": [
    {
     "data": {
      "image/png": "[encoded data removed]",
      "text/plain": [
       "<Figure size 432x288 with 1 Axes>"
      ]
     },
     "metadata": {
      "needs_background": "light"
     },
     "output_type": "display_data"
    }
   ],
   "source": [
    "# Plot predicted values vs. actual values.\n",
    "plt.title('Predicted vs. Actual Prices USD (Standardized Inputs)')\n",
    "plt.xlabel('Predicted Price')\n",
    "plt.ylabel('Actual Price')\n",
    "plt.scatter(y_scaled_predict, y_test);"
   ]
  },
  {
   "cell_type": "code",
   "execution_count": 14,
   "metadata": {
    "ExecuteTime": {
     "end_time": "2019-10-09T21:02:37.215247Z",
     "start_time": "2019-10-09T21:02:37.207847Z"
    }
   },
   "outputs": [
    {
     "name": "stdout",
     "output_type": "stream",
     "text": [
      "Train R2 0.457\n",
      "Test R2 0.471\n",
      "RMSError = $59.89\n"
     ]
    }
   ],
   "source": [
    "print_scores(pipe, X_train, y_train, X_test, y_test)\n",
    "print_root_mean_err(y_rmse, y_scaled_predict)"
   ]
  },
  {
   "cell_type": "code",
   "execution_count": 15,
   "metadata": {
    "ExecuteTime": {
     "end_time": "2019-10-09T21:02:37.349398Z",
     "start_time": "2019-10-09T21:02:37.216333Z"
    }
   },
   "outputs": [
    {
     "data": {
      "image/png": "[encoded data removed]",
      "text/plain": [
       "<Figure size 432x288 with 1 Axes>"
      ]
     },
     "metadata": {
      "needs_background": "light"
     },
     "output_type": "display_data"
    }
   ],
   "source": [
    "# x_vals is for plotting residuals\n",
    "x_vals = np.arange(0, y_test.shape[0], 1)\n",
    "plt.scatter(x_vals, y_test - y_scaled_predict)\n",
    "plt.ylim(-100, 100)\n",
    "plt.title('Predicted vs. Actual Prices Residuals (Scaled Inputs)')\n",
    "plt.xlabel('Observations')\n",
    "plt.ylabel('Price Difference');"
   ]
  },
  {
   "cell_type": "markdown",
   "metadata": {},
   "source": [
    "#### Try taking the log of several features to see if that improves performance of the model. Need to improve upon $RMSError = \\$59.89$"
   ]
  },
  {
   "cell_type": "code",
   "execution_count": 16,
   "metadata": {
    "ExecuteTime": {
     "end_time": "2019-10-09T21:02:37.367468Z",
     "start_time": "2019-10-09T21:02:37.351058Z"
    }
   },
   "outputs": [
    {
     "name": "stdout",
     "output_type": "stream",
     "text": [
      "Train R2 0.455\n",
      "Test R2 0.456\n",
      "RMSError = $60.73\n"
     ]
    }
   ],
   "source": [
    "log_and_std = make_pipeline(FunctionTransformer(np.log, validate=True) , StandardScaler())\n",
    "maptf = DataFrameMapper([\n",
    "    (['guests', 'bedrooms', 'cleaning_fee'], log_and_std),\n",
    "    (['baths', 'beds', 'amenities', 'superhost', 'narrative', 'rules'], StandardScaler())\n",
    "])\n",
    "mapped_lr = make_pipeline(maptf, LinearRegression(copy_X=True))\n",
    "mapped_lr.fit(X_train, y_train)\n",
    "print_scores(mapped_lr, X_train, y_train, X_test, y_test)\n",
    "print_root_mean_err(y_rmse, mapped_lr.predict(X_test))"
   ]
  },
  {
   "cell_type": "code",
   "execution_count": 17,
   "metadata": {
    "ExecuteTime": {
     "end_time": "2019-10-09T21:02:37.382750Z",
     "start_time": "2019-10-09T21:02:37.368778Z"
    }
   },
   "outputs": [
    {
     "name": "stdout",
     "output_type": "stream",
     "text": [
      "Train R2 0.458\n",
      "Test R2 0.467\n",
      "RMSError = $60.11\n"
     ]
    }
   ],
   "source": [
    "log_and_std = make_pipeline(FunctionTransformer(np.log, validate=True) , StandardScaler())\n",
    "maptf = DataFrameMapper([\n",
    "    (['guests', 'bedrooms', 'beds'], log_and_std),\n",
    "    (['baths', 'cleaning_fee', 'amenities', 'superhost', 'narrative', 'rules'], StandardScaler())\n",
    "])\n",
    "mapped_lr = make_pipeline(maptf, LinearRegression(copy_X=True))\n",
    "mapped_lr.fit(X_train, y_train)\n",
    "print_scores(mapped_lr, X_train, y_train, X_test, y_test)\n",
    "print_root_mean_err(y_test, mapped_lr.predict(X_test))"
   ]
  },
  {
   "cell_type": "code",
   "execution_count": 18,
   "metadata": {
    "ExecuteTime": {
     "end_time": "2019-10-09T21:02:37.401331Z",
     "start_time": "2019-10-09T21:02:37.384904Z"
    }
   },
   "outputs": [
    {
     "name": "stdout",
     "output_type": "stream",
     "text": [
      "Train R2 0.397\n",
      "Test R2 0.353\n",
      "RMSError = $66.21\n"
     ]
    }
   ],
   "source": [
    "log_and_std = make_pipeline(FunctionTransformer(np.log, validate=True) , StandardScaler())\n",
    "maptf = DataFrameMapper([\n",
    "    (['guests', 'beds', 'bedrooms', 'baths'], log_and_std),\n",
    "    (['amenities', 'superhost', 'narrative', 'rules'], StandardScaler())\n",
    "])\n",
    "mapped_lr = make_pipeline(maptf, LinearRegression(copy_X=True))\n",
    "mapped_lr.fit(X_train, y_train)\n",
    "print_scores(mapped_lr, X_train, y_train, X_test, y_test)\n",
    "print_root_mean_err(y_test, mapped_lr.predict(X_test))"
   ]
  },
  {
   "cell_type": "code",
   "execution_count": 19,
   "metadata": {
    "ExecuteTime": {
     "end_time": "2019-10-09T21:02:37.406061Z",
     "start_time": "2019-10-09T21:02:37.402447Z"
    }
   },
   "outputs": [],
   "source": [
    "def optimize_log():\n",
    "    log_and_std = make_pipeline(FunctionTransformer(np.log, validate=True) , StandardScaler())\n",
    "    maptf = DataFrameMapper([\n",
    "        (['guests', 'beds', 'bedrooms', 'baths'], log_and_std),\n",
    "        (['amenities', 'superhost', 'narrative', 'rules'], StandardScaler())\n",
    "    ])\n",
    "    mapped_lr = make_pipeline(maptf, LinearRegression(copy_X=True))\n",
    "    mapped_lr.fit(X_train, y_train)\n",
    "    print_scores(mapped_lr, X_train, y_train, X_test, y_test)\n",
    "    print_root_mean_err(y_test, mapped_lr.predict(X_test))"
   ]
  },
  {
   "cell_type": "code",
   "execution_count": null,
   "metadata": {},
   "outputs": [],
   "source": []
  },
  {
   "cell_type": "markdown",
   "metadata": {},
   "source": [
    "#### Scaling inputs didn't make much difference. Trying adding Polynomial Effects"
   ]
  },
  {
   "cell_type": "code",
   "execution_count": 20,
   "metadata": {
    "ExecuteTime": {
     "end_time": "2019-10-09T21:02:37.419739Z",
     "start_time": "2019-10-09T21:02:37.407638Z"
    }
   },
   "outputs": [],
   "source": [
    "pipe2 = make_pipeline(StandardScaler(), PolynomialFeatures(), LinearRegression(copy_X=True))\n",
    "pipe2.fit(X_train, y_train)\n",
    "y2_predict = pipe2.predict(X_test)"
   ]
  },
  {
   "cell_type": "code",
   "execution_count": 21,
   "metadata": {
    "ExecuteTime": {
     "end_time": "2019-10-09T21:02:37.569397Z",
     "start_time": "2019-10-09T21:02:37.421603Z"
    }
   },
   "outputs": [
    {
     "data": {
      "image/png": "[encoded data removed]",
      "text/plain": [
       "<Figure size 432x288 with 1 Axes>"
      ]
     },
     "metadata": {
      "needs_background": "light"
     },
     "output_type": "display_data"
    }
   ],
   "source": [
    "# Plot predicted values vs. actual values.\n",
    "plt.title('Predicted vs. Actual Prices USD (Standardized Inputs)')\n",
    "plt.xlabel('Predicted Price')\n",
    "plt.ylabel('Actual Price')\n",
    "plt.scatter(y2_predict, y_test);"
   ]
  },
  {
   "cell_type": "code",
   "execution_count": 22,
   "metadata": {
    "ExecuteTime": {
     "end_time": "2019-10-09T21:02:37.580450Z",
     "start_time": "2019-10-09T21:02:37.571089Z"
    }
   },
   "outputs": [
    {
     "name": "stdout",
     "output_type": "stream",
     "text": [
      "Train R2 0.564\n",
      "Test R2 0.372\n",
      "RMSError = $65.22\n"
     ]
    }
   ],
   "source": [
    "print_scores(pipe2, X_train, y_train, X_test, y_test)\n",
    "print_root_mean_err(y_test, y2_predict)"
   ]
  },
  {
   "cell_type": "markdown",
   "metadata": {},
   "source": [
    "#### Looks like overfitting is taking place. Going to try some regularization."
   ]
  },
  {
   "cell_type": "code",
   "execution_count": 23,
   "metadata": {
    "ExecuteTime": {
     "end_time": "2019-10-09T21:02:37.635011Z",
     "start_time": "2019-10-09T21:02:37.583497Z"
    }
   },
   "outputs": [
    {
     "name": "stdout",
     "output_type": "stream",
     "text": [
      "Train R2 0.456\n",
      "Test R2 0.472\n",
      "RMSError = $59.81\n"
     ]
    }
   ],
   "source": [
    "# Base Lasso \n",
    "ls = LassoCV(cv=5, copy_X=True)\n",
    "ls.fit(X_train, y_train)\n",
    "ls_y_predict = ls.predict(X_test)\n",
    "print_scores(ls, X_train, y_train, X_test, y_test)\n",
    "print_root_mean_err(y_test, ls_y_predict)"
   ]
  },
  {
   "cell_type": "code",
   "execution_count": 53,
   "metadata": {
    "ExecuteTime": {
     "end_time": "2019-10-09T21:18:29.703065Z",
     "start_time": "2019-10-09T21:18:29.355637Z"
    }
   },
   "outputs": [],
   "source": [
    "test_alphas = np.arange(1, 10, 0.25)\n",
    "r_squares_train = []\n",
    "r_squares_test = []\n",
    "r_diffs = []\n",
    "for idx, val in enumerate(test_alphas):\n",
    "    ls_pipe = make_pipeline(StandardScaler(), PolynomialFeatures(degree=2), \n",
    "                            Lasso(copy_X=True, max_iter=1000, alpha=val, random_state=42))\n",
    "    ls_pipe.fit(X_train, y_train)\n",
    "    ls_pipe_y_predicted = ls.predict(X_test)\n",
    "    r_squares_train.append(ls_pipe.score(X_train, y_train))\n",
    "    r_squares_test.append(ls_pipe.score(X_test, y_test))\n",
    "    r_diffs.append(r_squares_train[idx] - r_squares_test[idx])\n",
    "min_alpha = test_alphas[np.argmin(np.abs(r_diffs))]"
   ]
  },
  {
   "cell_type": "code",
   "execution_count": 56,
   "metadata": {
    "ExecuteTime": {
     "end_time": "2019-10-09T21:19:09.276168Z",
     "start_time": "2019-10-09T21:19:09.084647Z"
    }
   },
   "outputs": [
    {
     "data": {
      "image/png": "[encoded data removed]",
      "text/plain": [
       "<Figure size 432x288 with 1 Axes>"
      ]
     },
     "metadata": {
      "needs_background": "light"
     },
     "output_type": "display_data"
    }
   ],
   "source": [
    "plt.plot(test_alphas, r_squares_train)\n",
    "plt.plot(test_alphas, r_squares_test)\n",
    "plt.plot(test_alphas, r_diffs)\n",
    "plt.plot(test_alphas, np.zeros(len(test_alphas)))\n",
    "plt.legend(['train', 'test', 'difference', 'zero'])\n",
    "plt.ylabel('R Squared Metric')\n",
    "plt.xlabel('Lasso alpha parameters min train - test r2 at: {}'.format(min_alpha));"
   ]
  },
  {
   "cell_type": "code",
   "execution_count": 26,
   "metadata": {
    "ExecuteTime": {
     "end_time": "2019-10-09T21:02:59.246260Z",
     "start_time": "2019-10-09T21:02:38.152511Z"
    }
   },
   "outputs": [],
   "source": [
    "test_alphas = np.arange(900, 1500, 0.25)\n",
    "r_squares_train = []\n",
    "r_squares_test = []\n",
    "for i in test_alphas:\n",
    "    ls_pipe = make_pipeline(StandardScaler(), PolynomialFeatures(degree=2), \n",
    "                            Ridge(copy_X=True, max_iter=1000, alpha=i, random_state=42))\n",
    "    ls_pipe.fit(X_train, y_train)\n",
    "    ls_pipe_y_predicted = ls.predict(X_test)\n",
    "    r_squares_train.append(ls_pipe.score(X_train, y_train))\n",
    "    r_squares_test.append(ls_pipe.score(X_test, y_test))"
   ]
  },
  {
   "cell_type": "code",
   "execution_count": 57,
   "metadata": {
    "ExecuteTime": {
     "end_time": "2019-10-09T21:22:16.466393Z",
     "start_time": "2019-10-09T21:21:55.410724Z"
    }
   },
   "outputs": [],
   "source": [
    "test_alphas = np.arange(900, 1500, 0.25)\n",
    "r_squares_train = []\n",
    "r_squares_test = []\n",
    "r_diffs = []\n",
    "for idx, val in enumerate(test_alphas):\n",
    "    ls_pipe = make_pipeline(StandardScaler(), PolynomialFeatures(degree=2), \n",
    "                            Ridge(copy_X=True, max_iter=1000, alpha=val, random_state=42))\n",
    "    ls_pipe.fit(X_train, y_train)\n",
    "    ls_pipe_y_predicted = ls.predict(X_test)\n",
    "    r_squares_train.append(ls_pipe.score(X_train, y_train))\n",
    "    r_squares_test.append(ls_pipe.score(X_test, y_test))\n",
    "    r_diffs.append(r_squares_train[idx] - r_squares_test[idx])\n",
    "min_alpha = test_alphas[np.argmin(np.abs(r_diffs))]"
   ]
  },
  {
   "cell_type": "code",
   "execution_count": 60,
   "metadata": {
    "ExecuteTime": {
     "end_time": "2019-10-09T21:45:57.094298Z",
     "start_time": "2019-10-09T21:45:56.900891Z"
    }
   },
   "outputs": [
    {
     "data": {
      "image/png": "[encoded data removed]",
      "text/plain": [
       "<Figure size 432x288 with 1 Axes>"
      ]
     },
     "metadata": {
      "needs_background": "light"
     },
     "output_type": "display_data"
    }
   ],
   "source": [
    "plt.plot(test_alphas, r_squares_train)\n",
    "plt.plot(test_alphas, r_squares_test)\n",
    "plt.plot(test_alphas, r_diffs)\n",
    "plt.plot(test_alphas, np.zeros(len(test_alphas)))\n",
    "plt.legend(['train', 'test', 'difference', 'zero'], loc=7)\n",
    "plt.ylabel('R Squared Metric')\n",
    "plt.xlabel('Ridge alpha parameters. Min (train - test) r2 at: {}'.format(min_alpha));"
   ]
  },
  {
   "cell_type": "code",
   "execution_count": 41,
   "metadata": {
    "ExecuteTime": {
     "end_time": "2019-10-09T21:10:01.701561Z",
     "start_time": "2019-10-09T21:10:01.697347Z"
    }
   },
   "outputs": [
    {
     "data": {
      "text/plain": [
       "4"
      ]
     },
     "execution_count": 41,
     "metadata": {},
     "output_type": "execute_result"
    }
   ],
   "source": [
    "[1,2,3,4,5].index(5)"
   ]
  },
  {
   "cell_type": "code",
   "execution_count": null,
   "metadata": {},
   "outputs": [],
   "source": []
  },
  {
   "cell_type": "code",
   "execution_count": null,
   "metadata": {},
   "outputs": [],
   "source": []
  },
  {
   "cell_type": "code",
   "execution_count": 28,
   "metadata": {
    "ExecuteTime": {
     "end_time": "2019-10-09T21:02:59.465074Z",
     "start_time": "2019-10-09T21:02:59.432972Z"
    }
   },
   "outputs": [
    {
     "data": {
      "text/plain": [
       "array([ 0.55788548,  0.43791731,  0.24458355, -1.51475848,  0.11584865])"
      ]
     },
     "execution_count": 28,
     "metadata": {},
     "output_type": "execute_result"
    }
   ],
   "source": [
    "cv_pipe = make_pipeline(StandardScaler(), LinearRegression(normalize=True, n_jobs=100, copy_X=True))\n",
    "cross_val_score(cv_pipe, X, y, cv=5)"
   ]
  },
  {
   "cell_type": "code",
   "execution_count": 29,
   "metadata": {
    "ExecuteTime": {
     "end_time": "2019-10-09T21:02:59.493028Z",
     "start_time": "2019-10-09T21:02:59.466983Z"
    }
   },
   "outputs": [
    {
     "data": {
      "text/plain": [
       "array([ 0.55788548,  0.43791731,  0.24458355, -1.51475848,  0.11584865])"
      ]
     },
     "execution_count": 29,
     "metadata": {},
     "output_type": "execute_result"
    }
   ],
   "source": [
    "cross_val_score(LinearRegression(normalize=False, copy_X=True), X, y, cv=5)"
   ]
  },
  {
   "cell_type": "code",
   "execution_count": 30,
   "metadata": {
    "ExecuteTime": {
     "end_time": "2019-10-09T21:02:59.526442Z",
     "start_time": "2019-10-09T21:02:59.494349Z"
    }
   },
   "outputs": [
    {
     "data": {
      "text/plain": [
       "[(0.4732003256924683, 0.38407707934895874),\n",
       " (0.4709893986574073, 0.4138897411020903),\n",
       " (0.49379149017835333, 0.37973093395410973),\n",
       " (0.4824687256496515, 0.36905477777475565),\n",
       " (0.4799033100113641, 0.40009480760272204)]"
      ]
     },
     "execution_count": 30,
     "metadata": {},
     "output_type": "execute_result"
    }
   ],
   "source": [
    "def cvs(x_data, y_data, states, norm=False):\n",
    "    cvs_lr = LinearRegression(normalize=norm, copy_X=True)\n",
    "    scores = []\n",
    "    for state in states:\n",
    "        cvs_X_train, cvs_X_test, cvs_y_train, cvs_y_test = train_test_split(X, y, shuffle=True, random_state=state)\n",
    "        cvs_lr.fit(cvs_X_train, cvs_y_train)\n",
    "        scores.append(((cvs_lr.score(cvs_X_train, cvs_y_train)), cvs_lr.score(cvs_X_test, cvs_y_test)))\n",
    "    return scores\n",
    "cvs(X, y, range(0, 500, 100))"
   ]
  },
  {
   "cell_type": "code",
   "execution_count": 31,
   "metadata": {
    "ExecuteTime": {
     "end_time": "2019-10-09T21:02:59.557154Z",
     "start_time": "2019-10-09T21:02:59.528727Z"
    }
   },
   "outputs": [
    {
     "data": {
      "text/plain": [
       "[(0.4732003256924683, 0.3840770793489594),\n",
       " (0.47098939865740735, 0.4138897411020902),\n",
       " (0.49379149017835333, 0.3797309339541103),\n",
       " (0.48246872564965154, 0.36905477777475504),\n",
       " (0.4799033100113641, 0.40009480760272187)]"
      ]
     },
     "execution_count": 31,
     "metadata": {},
     "output_type": "execute_result"
    }
   ],
   "source": [
    "cvs(X, y, range(0, 500, 100), norm=True)"
   ]
  },
  {
   "cell_type": "code",
   "execution_count": null,
   "metadata": {
    "ExecuteTime": {
     "end_time": "2019-10-08T21:44:05.942629Z",
     "start_time": "2019-10-08T21:44:05.938269Z"
    }
   },
   "outputs": [],
   "source": []
  },
  {
   "cell_type": "code",
   "execution_count": null,
   "metadata": {},
   "outputs": [],
   "source": []
  }
 ],
 "metadata": {
  "kernelspec": {
   "display_name": "Python [conda env:metis] *",
   "language": "python",
   "name": "conda-env-metis-py"
  },
  "language_info": {
   "codemirror_mode": {
    "name": "ipython",
    "version": 3
   },
   "file_extension": ".py",
   "mimetype": "text/x-python",
   "name": "python",
   "nbconvert_exporter": "python",
   "pygments_lexer": "ipython3",
   "version": "3.7.3"
  },
  "toc": {
   "base_numbering": 1,
   "nav_menu": {},
   "number_sections": true,
   "sideBar": true,
   "skip_h1_title": false,
   "title_cell": "Table of Contents",
   "title_sidebar": "Contents",
   "toc_cell": false,
   "toc_position": {},
   "toc_section_display": true,
   "toc_window_display": false
  }
 },
 "nbformat": 4,
 "nbformat_minor": 2
}
