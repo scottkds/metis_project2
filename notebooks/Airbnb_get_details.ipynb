{
 "cells": [
  {
   "cell_type": "code",
   "execution_count": 1,
   "metadata": {
    "ExecuteTime": {
     "end_time": "2019-10-04T21:04:08.675678Z",
     "start_time": "2019-10-04T21:04:07.445890Z"
    }
   },
   "outputs": [],
   "source": [
    "# Imports\n",
    "import pandas as pd\n",
    "from selenium import webdriver\n",
    "from selenium.webdriver.common.keys import Keys\n",
    "from bs4 import BeautifulSoup\n",
    "import requests\n",
    "import time\n",
    "import sys\n",
    "import chromedriver_binary\n",
    "import re\n",
    "from datetime import datetime"
   ]
  },
  {
   "cell_type": "code",
   "execution_count": 2,
   "metadata": {
    "ExecuteTime": {
     "end_time": "2019-10-04T21:04:09.262193Z",
     "start_time": "2019-10-04T21:04:09.257841Z"
    }
   },
   "outputs": [],
   "source": [
    "def get_property_html(driver, link):\n",
    "    \"\"\"Retrieves a webpage, creates a Beatifulsoup object from the page source \n",
    "    and returns the beautifulsouop object.\"\"\"\n",
    "    driver.switch_to.window(driver.window_handles[0])\n",
    "    driver.get(link)\n",
    "    time.sleep(10)\n",
    "    soup = BeautifulSoup(driver.page_source, \"lxml\")\n",
    "    return soup\n",
    "\n",
    "# Example\n",
    "# soup = get_property_html(driver, 'https://www.airbnb.com/')"
   ]
  },
  {
   "cell_type": "code",
   "execution_count": 3,
   "metadata": {
    "ExecuteTime": {
     "end_time": "2019-10-04T21:04:10.004017Z",
     "start_time": "2019-10-04T21:04:09.998026Z"
    }
   },
   "outputs": [],
   "source": [
    "def get_attrs_1_4(div_list):\n",
    "    \"\"\"Pulls the number of guests, bedrooms, beds, and bathrooms out of a list\n",
    "    of beautiful soup objects. Returns a dictionary of the results.\"\"\"\n",
    "    attrs_dict = {}\n",
    "    res_dict = {'guests' : re.compile(r'^\\d+ guests'),\n",
    "                'br' : re.compile(r'^\\d+ bedrooms?'),\n",
    "                'beds' : re.compile(r'^\\d+ beds?'),\n",
    "                'baths' : re.compile(r'^(\\d+|\\d+\\.\\d+) baths?')}\n",
    "    for div in div_list:\n",
    "        for key, val in res_dict.items():\n",
    "            if val.match(div.text):\n",
    "                attrs_dict[key] = div.text\n",
    "    if not 'br' in attrs_dict:\n",
    "        attrs_dict['br'] = 'studio'\n",
    "    return attrs_dict\n",
    "\n",
    "# Example\n",
    "# get_attrs_1_4(soup.find_all('div', {'class' : '_czm8crp'}))"
   ]
  },
  {
   "cell_type": "code",
   "execution_count": 4,
   "metadata": {
    "ExecuteTime": {
     "end_time": "2019-10-04T21:04:10.847432Z",
     "start_time": "2019-10-04T21:04:10.844315Z"
    }
   },
   "outputs": [],
   "source": [
    "def get_price(span):\n",
    "    \"\"\"Returns the price of a rental.\"\"\"\n",
    "    return span and span.text\n",
    "\n",
    "# Example\n",
    "# get_price(soup.find('span', {'class' : '_doc79r'}))\n",
    "# <span class=\"_1p0spma2\">"
   ]
  },
  {
   "cell_type": "code",
   "execution_count": 5,
   "metadata": {
    "ExecuteTime": {
     "end_time": "2019-10-04T21:04:11.548802Z",
     "start_time": "2019-10-04T21:04:11.543780Z"
    }
   },
   "outputs": [],
   "source": [
    "def get_attrs_5_6(spans):\n",
    "    \"\"\"Returns the cleaning fees, and servie fee from the list of span tags\n",
    "    passed in.\"\"\"\n",
    "    attrs_dict = {}\n",
    "    attrs_dict['clean_fee'] = 0\n",
    "    spans_len = len(spans)\n",
    "    for idx, span in enumerate(spans):\n",
    "        if span.text == 'Cleaning fee' and idx + 1 <= spans_len:\n",
    "            attrs_dict['clean_fee'] = spans[idx + 1].text\n",
    "        elif span.text == 'Service fee' and idx + 1 <= spans_len:\n",
    "            attrs_dict['serv_fee'] = spans[idx + 1].text\n",
    "        else:\n",
    "            pass\n",
    "    return attrs_dict\n",
    "\n",
    "# Eample\n",
    "# get_attrs_5_6(soup.find_all('span', {'class' : '_1jlnvra2'}))"
   ]
  },
  {
   "cell_type": "code",
   "execution_count": 6,
   "metadata": {
    "ExecuteTime": {
     "end_time": "2019-10-04T21:04:12.643777Z",
     "start_time": "2019-10-04T21:04:12.639853Z"
    }
   },
   "outputs": [],
   "source": [
    "def get_amenities(buttons):\n",
    "    \"\"\"Caputes the number of amenities that a listing has, and returns it.\"\"\"\n",
    "    amentities = ''\n",
    "    ams = re.compile(r'^Show all \\d+ amenities')\n",
    "    for button in buttons:\n",
    "        if ams.match(button.text):\n",
    "            amenities = button.text\n",
    "    return amenities\n",
    "\n",
    "# Example\n",
    "# get_amenities(soup.find_all('button', {'class' : '_b0ybw8s'}))"
   ]
  },
  {
   "cell_type": "code",
   "execution_count": 7,
   "metadata": {
    "ExecuteTime": {
     "end_time": "2019-10-04T21:04:13.374064Z",
     "start_time": "2019-10-04T21:04:13.369603Z"
    }
   },
   "outputs": [],
   "source": [
    "def get_lat_lon(scripts):\n",
    "    \"\"\"Captures the altitude and longitude data from the list of script objects passed ot it.\"\"\"\n",
    "    lat_lon = ''\n",
    "    ll = re.compile(r'ViewportInfoService.GetViewportInfo')\n",
    "    parse_ll = re.compile(r';1d47\\.\\d{14}&amp;2d-122\\.\\d{14}')\n",
    "    for script in scripts:\n",
    "        if ll.search(script.attrs['src']):\n",
    "            lat_lon = script.attrs['src']\n",
    "    return lat_lon\n",
    "\n",
    "# Example\n",
    "# get_lat_lon(soup.find_all('script',  {'charset' : \"UTF-8\"}))"
   ]
  },
  {
   "cell_type": "code",
   "execution_count": 8,
   "metadata": {
    "ExecuteTime": {
     "end_time": "2019-10-04T21:04:14.496372Z",
     "start_time": "2019-10-04T21:04:14.491944Z"
    }
   },
   "outputs": [],
   "source": [
    "def get_superhost(spans):\n",
    "    \"\"\"Returns the superhost status of the listing owner.\"\"\"\n",
    "    superhost = False\n",
    "    sh = re.compile(r'^\\w+ is a Superhost')\n",
    "    for span in spans:\n",
    "        if sh.match(span.text):\n",
    "            superhost = True\n",
    "    return superhost\n",
    "\n",
    "# Example\n",
    "# get_superhost(soup.find_all('span', {'class' : \"_1p3joamp\"}))"
   ]
  },
  {
   "cell_type": "code",
   "execution_count": 9,
   "metadata": {
    "ExecuteTime": {
     "end_time": "2019-10-04T21:04:15.484439Z",
     "start_time": "2019-10-04T21:04:15.481118Z"
    }
   },
   "outputs": [],
   "source": [
    "def get_narrative(s_driver, x_path):\n",
    "    \"\"\"Returns the text from the listing narrative.\"\"\"\n",
    "    return s_driver.find_element_by_xpath(x_path).text"
   ]
  },
  {
   "cell_type": "code",
   "execution_count": 10,
   "metadata": {
    "ExecuteTime": {
     "end_time": "2019-10-04T21:04:16.512718Z",
     "start_time": "2019-10-04T21:04:16.509614Z"
    }
   },
   "outputs": [],
   "source": [
    "def get_rules(s_driver, x_path):\n",
    "    \"\"\"Returns the text of the house rules for a listing.\"\"\"\n",
    "    return driver.find_element_by_xpath(x_path).text"
   ]
  },
  {
   "cell_type": "code",
   "execution_count": 11,
   "metadata": {
    "ExecuteTime": {
     "end_time": "2019-10-04T21:04:17.440594Z",
     "start_time": "2019-10-04T21:04:17.432947Z"
    }
   },
   "outputs": [],
   "source": [
    "def get_all(html_soup, s_driver, property_id):\n",
    "    \"\"\"Returns a list off all data fields by calling the functions that gather the\n",
    "    individual data elements.\"\"\"\n",
    "    d1_4 = get_attrs_1_4(html_soup.find_all('div', {'class' : '_czm8crp'}))\n",
    "    d5_6 = get_attrs_5_6(html_soup.find_all('span', {'class' : '_1jlnvra2'}))\n",
    "    ams = get_amenities(html_soup.find_all('button', {'class' : '_b0ybw8s'}))\n",
    "    sh = get_superhost(html_soup.find_all('span', {'class' : \"_1p3joamp\"}))\n",
    "    latlon = get_lat_lon(html_soup.find_all('script',  {'charset' : \"UTF-8\"}))\n",
    "    price = get_price(html_soup.find('span', {'class' : '_doc79r'})) or get_price(html_soup.find('span', {'class' : '_1p0spma2'}))\n",
    "    narr = get_narrative(s_driver, PATHS['narrative'])\n",
    "    rules = get_rules(s_driver, PATHS['rules'])\n",
    "    return [property_id, d1_4['guests'], d1_4['br'], d1_4['beds'], d1_4['baths'],\n",
    "            d5_6['clean_fee'], d5_6['serv_fee'], ams, sh, latlon, narr, rules, price]"
   ]
  },
  {
   "cell_type": "code",
   "execution_count": 12,
   "metadata": {
    "ExecuteTime": {
     "end_time": "2019-10-04T21:04:18.672489Z",
     "start_time": "2019-10-04T21:04:18.669435Z"
    }
   },
   "outputs": [],
   "source": [
    "# Set some xpath paths\n",
    "PATHS = {'narrative' : '//*[@id=\"details\"]/div',\n",
    "         'rules' : '//*[@id=\"house-rules\"]/div/section'}"
   ]
  },
  {
   "cell_type": "code",
   "execution_count": 13,
   "metadata": {
    "ExecuteTime": {
     "end_time": "2019-10-04T21:04:19.666054Z",
     "start_time": "2019-10-04T21:04:19.645393Z"
    }
   },
   "outputs": [
    {
     "data": {
      "text/html": [
       "<div>\n",
       "<style scoped>\n",
       "    .dataframe tbody tr th:only-of-type {\n",
       "        vertical-align: middle;\n",
       "    }\n",
       "\n",
       "    .dataframe tbody tr th {\n",
       "        vertical-align: top;\n",
       "    }\n",
       "\n",
       "    .dataframe thead th {\n",
       "        text-align: right;\n",
       "    }\n",
       "</style>\n",
       "<table border=\"1\" class=\"dataframe\">\n",
       "  <thead>\n",
       "    <tr style=\"text-align: right;\">\n",
       "      <th></th>\n",
       "      <th>link</th>\n",
       "      <th>id</th>\n",
       "    </tr>\n",
       "  </thead>\n",
       "  <tbody>\n",
       "    <tr>\n",
       "      <td>0</td>\n",
       "      <td>https://www.airbnb.com/rooms/38238821?check_in...</td>\n",
       "      <td>38238821</td>\n",
       "    </tr>\n",
       "    <tr>\n",
       "      <td>1</td>\n",
       "      <td>https://www.airbnb.com/rooms/31941600?check_in...</td>\n",
       "      <td>31941600</td>\n",
       "    </tr>\n",
       "    <tr>\n",
       "      <td>2</td>\n",
       "      <td>https://www.airbnb.com/rooms/32079582?check_in...</td>\n",
       "      <td>32079582</td>\n",
       "    </tr>\n",
       "    <tr>\n",
       "      <td>3</td>\n",
       "      <td>https://www.airbnb.com/rooms/34259803?check_in...</td>\n",
       "      <td>34259803</td>\n",
       "    </tr>\n",
       "    <tr>\n",
       "      <td>4</td>\n",
       "      <td>https://www.airbnb.com/rooms/10823924?check_in...</td>\n",
       "      <td>10823924</td>\n",
       "    </tr>\n",
       "  </tbody>\n",
       "</table>\n",
       "</div>"
      ],
      "text/plain": [
       "                                                link        id\n",
       "0  https://www.airbnb.com/rooms/38238821?check_in...  38238821\n",
       "1  https://www.airbnb.com/rooms/31941600?check_in...  31941600\n",
       "2  https://www.airbnb.com/rooms/32079582?check_in...  32079582\n",
       "3  https://www.airbnb.com/rooms/34259803?check_in...  34259803\n",
       "4  https://www.airbnb.com/rooms/10823924?check_in...  10823924"
      ]
     },
     "execution_count": 13,
     "metadata": {},
     "output_type": "execute_result"
    }
   ],
   "source": [
    "# Read in the list of previously gathered links.\n",
    "lnks = pd.read_csv('../data/links_bogota_1004.csv')\n",
    "lnks.head()"
   ]
  },
  {
   "cell_type": "code",
   "execution_count": 14,
   "metadata": {
    "ExecuteTime": {
     "end_time": "2019-10-04T21:04:27.416499Z",
     "start_time": "2019-10-04T21:04:20.516990Z"
    }
   },
   "outputs": [],
   "source": [
    "# Create Selenium chrome browser driver instance\n",
    "driver = webdriver.Chrome()\n",
    "time.sleep(5)\n",
    "window = driver.window_handles[0]"
   ]
  },
  {
   "cell_type": "code",
   "execution_count": 15,
   "metadata": {
    "ExecuteTime": {
     "end_time": "2019-10-04T23:59:37.603715Z",
     "start_time": "2019-10-04T21:04:38.000489Z"
    }
   },
   "outputs": [
    {
     "name": "stdout",
     "output_type": "stream",
     "text": [
      "Count: 0 --Length of errors array: 1\n",
      "Count: 0 --Length of errors array: 2\n",
      "Count: 0 --Length of errors array: 3\n",
      "Count: 0 --Length of errors array: 4\n",
      "Count: 0 --Length of errors array: 5\n",
      "Count: 0 --Length of errors array: 6\n",
      "Count: 0 --Length of errors array: 7\n",
      "Count: 0 --Length of errors array: 8\n",
      "Count: 0 --Length of errors array: 9\n",
      "Count: 0 --Length of errors array: 10\n",
      "Count: 0 --Length of errors array: 11\n",
      "Count: 0 --Length of errors array: 12\n",
      "Count: 0 --Length of errors array: 13\n",
      "Count: 0 --Length of errors array: 14\n",
      "Count: 0 --Length of errors array: 15\n",
      "Count: 0 --Length of errors array: 16\n",
      "Count: 0 --Length of errors array: 17\n",
      "Count: 0 --Length of errors array: 18\n",
      "Count: 0 --Length of errors array: 19\n",
      "Count: 0 --Length of errors array: 20\n",
      "Count: 0 --Length of errors array: 21\n",
      "Count: 0 --Length of errors array: 22\n",
      "Count: 0 --Length of errors array: 23\n",
      "Count: 0 --Length of errors array: 24\n",
      "Count: 0 --Length of errors array: 25\n",
      "Count: 0 --Length of errors array: 26\n",
      "Count: 0 --Length of errors array: 27\n",
      "Count: 0 --Length of errors array: 28\n",
      "Count: 0 --Length of errors array: 29\n",
      "Count: 0 --Length of errors array: 30\n",
      "Count: 0 --Length of errors array: 31\n",
      "Count: 0 --Length of errors array: 32\n",
      "Count: 0 --Length of errors array: 33\n",
      "Count: 0 --Length of errors array: 34\n",
      "Count: 0 --Length of errors array: 35\n",
      "Count: 0 --Length of errors array: 36\n",
      "Count: 0 --Length of errors array: 37\n",
      "Count: 0 --Length of errors array: 38\n",
      "Count: 0 --Length of errors array: 39\n",
      "Count: 0 --Length of errors array: 40\n",
      "Count: 0 --Length of errors array: 41\n",
      "Count: 0 --Length of errors array: 42\n",
      "Count: 0 --Length of errors array: 43\n",
      "Count: 0 --Length of errors array: 44\n",
      "Count: 0 --Length of errors array: 45\n",
      "Count: 0 --Length of errors array: 46\n",
      "Count: 0 --Length of errors array: 47\n",
      "Count: 0 --Length of errors array: 48\n",
      "Count: 0 --Length of errors array: 49\n",
      "Count: 0 --Length of errors array: 50\n",
      "Count: 0 --Length of errors array: 51\n",
      "Count: 0 --Length of errors array: 52\n",
      "Count: 0 --Length of errors array: 53\n",
      "Count: 0 --Length of errors array: 54\n",
      "Count: 0 --Length of errors array: 55\n",
      "Count: 0 --Length of errors array: 56\n",
      "Count: 0 --Length of errors array: 57\n",
      "Count: 0 --Length of errors array: 58\n"
     ]
    }
   ],
   "source": [
    "data = []\n",
    "ouch = []\n",
    "a_counter = 0\n",
    "for idx, row in lnks.loc[:].iterrows():\n",
    "    try:\n",
    "        data.append(get_all(get_property_html(driver, row['link']), driver, row['id']))\n",
    "    except Exception as ex:\n",
    "        ouch.append((row['link'], ex))\n",
    "        print('Count:', a_counter, '--Length of errors array:', len(ouch))\n",
    "        "
   ]
  },
  {
   "cell_type": "code",
   "execution_count": 19,
   "metadata": {
    "ExecuteTime": {
     "end_time": "2019-10-05T00:11:20.471449Z",
     "start_time": "2019-10-05T00:11:20.463947Z"
    }
   },
   "outputs": [],
   "source": [
    "# Make a dataframe of the listing data\n",
    "lnk_data = pd.DataFrame(data, columns=['id', 'guests', 'bedrooms', 'beds', 'baths', 'cleaning_fee', 'service_fee', 'amenities', 'superhost', 'lat_lon', 'narrative', 'rules', 'price'])"
   ]
  },
  {
   "cell_type": "code",
   "execution_count": 20,
   "metadata": {
    "ExecuteTime": {
     "end_time": "2019-10-05T00:11:25.595833Z",
     "start_time": "2019-10-05T00:11:25.364054Z"
    }
   },
   "outputs": [],
   "source": [
    "# Write the listing data to a csv.\n",
    "lnk_data.to_csv('../data/initial_bogota_data_scrape-{}.csv'.format(datetime.strftime(datetime.now(), '%m-%d-%y--%H-%M-%S'), index=False))"
   ]
  },
  {
   "cell_type": "code",
   "execution_count": null,
   "metadata": {},
   "outputs": [],
   "source": []
  }
 ],
 "metadata": {
  "kernelspec": {
   "display_name": "Python [conda env:metis] *",
   "language": "python",
   "name": "conda-env-metis-py"
  },
  "language_info": {
   "codemirror_mode": {
    "name": "ipython",
    "version": 3
   },
   "file_extension": ".py",
   "mimetype": "text/x-python",
   "name": "python",
   "nbconvert_exporter": "python",
   "pygments_lexer": "ipython3",
   "version": "3.7.3"
  },
  "toc": {
   "base_numbering": 1,
   "nav_menu": {},
   "number_sections": true,
   "sideBar": true,
   "skip_h1_title": false,
   "title_cell": "Table of Contents",
   "title_sidebar": "Contents",
   "toc_cell": false,
   "toc_position": {},
   "toc_section_display": true,
   "toc_window_display": false
  }
 },
 "nbformat": 4,
 "nbformat_minor": 2
}
